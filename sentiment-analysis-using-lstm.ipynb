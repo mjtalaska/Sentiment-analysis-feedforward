{
 "cells": [
  {
   "cell_type": "code",
   "execution_count": 1,
   "id": "90c75f1f",
   "metadata": {
    "_cell_guid": "b1076dfc-b9ad-4769-8c92-a6c4dae69d19",
    "_uuid": "8f2839f25d086af736a60e9eeb907d3b93b6e0e5",
    "execution": {
     "iopub.execute_input": "2023-05-26T17:57:28.089671Z",
     "iopub.status.busy": "2023-05-26T17:57:28.089166Z",
     "iopub.status.idle": "2023-05-26T17:57:28.117185Z",
     "shell.execute_reply": "2023-05-26T17:57:28.116029Z"
    },
    "papermill": {
     "duration": 0.038433,
     "end_time": "2023-05-26T17:57:28.119937",
     "exception": false,
     "start_time": "2023-05-26T17:57:28.081504",
     "status": "completed"
    },
    "tags": []
   },
   "outputs": [
    {
     "name": "stdout",
     "output_type": "stream",
     "text": [
      "/kaggle/input/sentiment-labelled-sentences/sentiment labelled sentences/amazon_cells_labelled.txt\n",
      "/kaggle/input/sentiment-labelled-sentences/sentiment labelled sentences/imdb_labelled.txt\n",
      "/kaggle/input/sentiment-labelled-sentences/sentiment labelled sentences/readme.txt\n",
      "/kaggle/input/sentiment-labelled-sentences/sentiment labelled sentences/yelp_labelled.txt\n"
     ]
    }
   ],
   "source": [
    "import numpy as np # linear algebra\n",
    "import pandas as pd # data processing, CSV file I/O (e.g. pd.read_csv)\n",
    "import os\n",
    "\n",
    "for dirname, _, filenames in os.walk('/kaggle/input'):\n",
    "    for filename in filenames:\n",
    "        print(os.path.join(dirname, filename))"
   ]
  },
  {
   "cell_type": "code",
   "execution_count": 2,
   "id": "97a095c1",
   "metadata": {
    "execution": {
     "iopub.execute_input": "2023-05-26T17:57:28.133139Z",
     "iopub.status.busy": "2023-05-26T17:57:28.132737Z",
     "iopub.status.idle": "2023-05-26T17:57:28.190556Z",
     "shell.execute_reply": "2023-05-26T17:57:28.189265Z"
    },
    "papermill": {
     "duration": 0.067535,
     "end_time": "2023-05-26T17:57:28.193303",
     "exception": false,
     "start_time": "2023-05-26T17:57:28.125768",
     "status": "completed"
    },
    "tags": []
   },
   "outputs": [
    {
     "name": "stdout",
     "output_type": "stream",
     "text": [
      "amazon = (1000, 2), imdb = (1000, 2), yelp = (1000, 2)\n"
     ]
    },
    {
     "name": "stderr",
     "output_type": "stream",
     "text": [
      "/tmp/ipykernel_20/3939053422.py:5: ParserWarning: Falling back to the 'python' engine because the 'c' engine does not support regex separators (separators > 1 char and different from '\\s+' are interpreted as regex); you can avoid this warning by specifying engine='python'.\n",
      "  imdb = pd.read_csv('/kaggle/input/sentiment-labelled-sentences/sentiment labelled sentences/imdb_labelled.txt',\n"
     ]
    }
   ],
   "source": [
    "amazon = pd.read_csv('/kaggle/input/sentiment-labelled-sentences/sentiment labelled sentences/amazon_cells_labelled.txt', \n",
    "                     sep='\\t',\n",
    "                     lineterminator='\\n',\n",
    "                     names=['sentance', 'sentiment'] )\n",
    "imdb = pd.read_csv('/kaggle/input/sentiment-labelled-sentences/sentiment labelled sentences/imdb_labelled.txt', \n",
    "                     sep='\\t|\\s{3}',\n",
    "                     lineterminator='\\n',\n",
    "                     names=['sentance', 'sentiment'] )\n",
    "yelp = pd.read_csv('/kaggle/input/sentiment-labelled-sentences/sentiment labelled sentences/yelp_labelled.txt', \n",
    "                     sep='\\t',\n",
    "                     lineterminator='\\n',\n",
    "                     names=['sentance', 'sentiment'] )\n",
    "print(f\"amazon = {amazon.shape}, imdb = {imdb.shape}, yelp = {yelp.shape}\")"
   ]
  },
  {
   "cell_type": "code",
   "execution_count": 3,
   "id": "046fbbeb",
   "metadata": {
    "execution": {
     "iopub.execute_input": "2023-05-26T17:57:28.206686Z",
     "iopub.status.busy": "2023-05-26T17:57:28.206321Z",
     "iopub.status.idle": "2023-05-26T17:57:28.241768Z",
     "shell.execute_reply": "2023-05-26T17:57:28.240530Z"
    },
    "papermill": {
     "duration": 0.044924,
     "end_time": "2023-05-26T17:57:28.244277",
     "exception": false,
     "start_time": "2023-05-26T17:57:28.199353",
     "status": "completed"
    },
    "tags": []
   },
   "outputs": [
    {
     "data": {
      "text/html": [
       "<div>\n",
       "<style scoped>\n",
       "    .dataframe tbody tr th:only-of-type {\n",
       "        vertical-align: middle;\n",
       "    }\n",
       "\n",
       "    .dataframe tbody tr th {\n",
       "        vertical-align: top;\n",
       "    }\n",
       "\n",
       "    .dataframe thead th {\n",
       "        text-align: right;\n",
       "    }\n",
       "</style>\n",
       "<table border=\"1\" class=\"dataframe\">\n",
       "  <thead>\n",
       "    <tr style=\"text-align: right;\">\n",
       "      <th></th>\n",
       "      <th>sentance</th>\n",
       "      <th>sentiment</th>\n",
       "    </tr>\n",
       "  </thead>\n",
       "  <tbody>\n",
       "    <tr>\n",
       "      <th>0</th>\n",
       "      <td>So there is no way for me to plug it in here i...</td>\n",
       "      <td>0</td>\n",
       "    </tr>\n",
       "    <tr>\n",
       "      <th>1</th>\n",
       "      <td>Good case, Excellent value.</td>\n",
       "      <td>1</td>\n",
       "    </tr>\n",
       "    <tr>\n",
       "      <th>2</th>\n",
       "      <td>Great for the jawbone.</td>\n",
       "      <td>1</td>\n",
       "    </tr>\n",
       "    <tr>\n",
       "      <th>3</th>\n",
       "      <td>Tied to charger for conversations lasting more...</td>\n",
       "      <td>0</td>\n",
       "    </tr>\n",
       "    <tr>\n",
       "      <th>4</th>\n",
       "      <td>The mic is great.</td>\n",
       "      <td>1</td>\n",
       "    </tr>\n",
       "    <tr>\n",
       "      <th>...</th>\n",
       "      <td>...</td>\n",
       "      <td>...</td>\n",
       "    </tr>\n",
       "    <tr>\n",
       "      <th>2995</th>\n",
       "      <td>I think food should have flavor and texture an...</td>\n",
       "      <td>0</td>\n",
       "    </tr>\n",
       "    <tr>\n",
       "      <th>2996</th>\n",
       "      <td>Appetite instantly gone.</td>\n",
       "      <td>0</td>\n",
       "    </tr>\n",
       "    <tr>\n",
       "      <th>2997</th>\n",
       "      <td>Overall I was not impressed and would not go b...</td>\n",
       "      <td>0</td>\n",
       "    </tr>\n",
       "    <tr>\n",
       "      <th>2998</th>\n",
       "      <td>The whole experience was underwhelming, and I ...</td>\n",
       "      <td>0</td>\n",
       "    </tr>\n",
       "    <tr>\n",
       "      <th>2999</th>\n",
       "      <td>Then, as if I hadn't wasted enough of my life ...</td>\n",
       "      <td>0</td>\n",
       "    </tr>\n",
       "  </tbody>\n",
       "</table>\n",
       "<p>3000 rows × 2 columns</p>\n",
       "</div>"
      ],
      "text/plain": [
       "                                               sentance sentiment\n",
       "0     So there is no way for me to plug it in here i...         0\n",
       "1                           Good case, Excellent value.         1\n",
       "2                                Great for the jawbone.         1\n",
       "3     Tied to charger for conversations lasting more...         0\n",
       "4                                     The mic is great.         1\n",
       "...                                                 ...       ...\n",
       "2995  I think food should have flavor and texture an...         0\n",
       "2996                           Appetite instantly gone.         0\n",
       "2997  Overall I was not impressed and would not go b...         0\n",
       "2998  The whole experience was underwhelming, and I ...         0\n",
       "2999  Then, as if I hadn't wasted enough of my life ...         0\n",
       "\n",
       "[3000 rows x 2 columns]"
      ]
     },
     "execution_count": 3,
     "metadata": {},
     "output_type": "execute_result"
    }
   ],
   "source": [
    "data = pd.DataFrame(data=np.concatenate([amazon,imdb,yelp], axis=0), columns=['sentance', 'sentiment'])\n",
    "data"
   ]
  },
  {
   "cell_type": "code",
   "execution_count": 4,
   "id": "5056e4c8",
   "metadata": {
    "execution": {
     "iopub.execute_input": "2023-05-26T17:57:28.257670Z",
     "iopub.status.busy": "2023-05-26T17:57:28.257315Z",
     "iopub.status.idle": "2023-05-26T17:57:43.373901Z",
     "shell.execute_reply": "2023-05-26T17:57:43.372649Z"
    },
    "papermill": {
     "duration": 15.126662,
     "end_time": "2023-05-26T17:57:43.376913",
     "exception": false,
     "start_time": "2023-05-26T17:57:28.250251",
     "status": "completed"
    },
    "tags": []
   },
   "outputs": [
    {
     "name": "stdout",
     "output_type": "stream",
     "text": [
      "Collecting pyspellchecker\r\n",
      "  Downloading pyspellchecker-0.7.2-py3-none-any.whl (3.4 MB)\r\n",
      "\u001b[2K     \u001b[90m━━━━━━━━━━━━━━━━━━━━━━━━━━━━━━━━━━━━━━━━\u001b[0m \u001b[32m3.4/3.4 MB\u001b[0m \u001b[31m30.1 MB/s\u001b[0m eta \u001b[36m0:00:00\u001b[0m\r\n",
      "\u001b[?25hInstalling collected packages: pyspellchecker\r\n",
      "Successfully installed pyspellchecker-0.7.2\r\n",
      "\u001b[33mWARNING: Running pip as the 'root' user can result in broken permissions and conflicting behaviour with the system package manager. It is recommended to use a virtual environment instead: https://pip.pypa.io/warnings/venv\u001b[0m\u001b[33m\r\n",
      "\u001b[0m"
     ]
    }
   ],
   "source": [
    "!pip install pyspellchecker\n",
    "\n",
    "import string\n",
    "from spellchecker import SpellChecker\n",
    "from nltk.corpus import stopwords\n",
    "from nltk.stem.porter import PorterStemmer\n",
    "\n",
    "sc = SpellChecker()\n",
    "stemmer = PorterStemmer()"
   ]
  },
  {
   "cell_type": "code",
   "execution_count": 5,
   "id": "4680d0b3",
   "metadata": {
    "execution": {
     "iopub.execute_input": "2023-05-26T17:57:43.394032Z",
     "iopub.status.busy": "2023-05-26T17:57:43.393627Z",
     "iopub.status.idle": "2023-05-26T17:57:43.404691Z",
     "shell.execute_reply": "2023-05-26T17:57:43.403525Z"
    },
    "papermill": {
     "duration": 0.023158,
     "end_time": "2023-05-26T17:57:43.406995",
     "exception": false,
     "start_time": "2023-05-26T17:57:43.383837",
     "status": "completed"
    },
    "tags": []
   },
   "outputs": [],
   "source": [
    "def remove_punc(sentance):\n",
    "    return sentance.translate(str.maketrans('','',string.punctuation))\n",
    "\n",
    "\n",
    "def correct(sentance):\n",
    "    misspelled = sc.unknown(str(sentance).split())\n",
    "    correct = [sc.correction(w) if w in misspelled else w for w in sentance.split()]\n",
    "    return \" \".join(filter(lambda c : c is not None, correct))\n",
    "\n",
    "\n",
    "def remove_stop(sentance):\n",
    "    correct = [w for w in sentance.split() if w not in stopwords.words('english')]\n",
    "    return \" \".join(correct)\n",
    "\n",
    "\n",
    "def stemming(sentance):\n",
    "    correct = [stemmer.stem(w) for w in sentance.split()]\n",
    "    return \" \".join(correct)\n",
    "\n",
    "\n",
    "def remove_numbers(sentance):\n",
    "    return \" \".join([s for s in sentance.split() if not s.isdigit()])"
   ]
  },
  {
   "cell_type": "code",
   "execution_count": 6,
   "id": "d8d13d6b",
   "metadata": {
    "execution": {
     "iopub.execute_input": "2023-05-26T17:57:43.421990Z",
     "iopub.status.busy": "2023-05-26T17:57:43.421607Z",
     "iopub.status.idle": "2023-05-26T17:57:51.682760Z",
     "shell.execute_reply": "2023-05-26T17:57:51.681711Z"
    },
    "papermill": {
     "duration": 8.271855,
     "end_time": "2023-05-26T17:57:51.685330",
     "exception": false,
     "start_time": "2023-05-26T17:57:43.413475",
     "status": "completed"
    },
    "tags": []
   },
   "outputs": [
    {
     "name": "stderr",
     "output_type": "stream",
     "text": [
      "/opt/conda/lib/python3.10/site-packages/tensorflow_io/python/ops/__init__.py:98: UserWarning: unable to load libtensorflow_io_plugins.so: unable to open file: libtensorflow_io_plugins.so, from paths: ['/opt/conda/lib/python3.10/site-packages/tensorflow_io/python/ops/libtensorflow_io_plugins.so']\n",
      "caused by: ['/opt/conda/lib/python3.10/site-packages/tensorflow_io/python/ops/libtensorflow_io_plugins.so: undefined symbol: _ZN3tsl6StatusC1EN10tensorflow5error4CodeESt17basic_string_viewIcSt11char_traitsIcEENS_14SourceLocationE']\n",
      "  warnings.warn(f\"unable to load libtensorflow_io_plugins.so: {e}\")\n",
      "/opt/conda/lib/python3.10/site-packages/tensorflow_io/python/ops/__init__.py:104: UserWarning: file system plugins are not loaded: unable to open file: libtensorflow_io.so, from paths: ['/opt/conda/lib/python3.10/site-packages/tensorflow_io/python/ops/libtensorflow_io.so']\n",
      "caused by: ['/opt/conda/lib/python3.10/site-packages/tensorflow_io/python/ops/libtensorflow_io.so: undefined symbol: _ZTVN10tensorflow13GcsFileSystemE']\n",
      "  warnings.warn(f\"file system plugins are not loaded: {e}\")\n"
     ]
    }
   ],
   "source": [
    "from keras.utils import pad_sequences\n",
    "\n",
    "def prepare_data(sentance, tokenizer=None):\n",
    "    sentance = sentance.lower()\n",
    "    sentance = remove_punc(sentance)\n",
    "    sentance = correct(sentance)\n",
    "    sentance = remove_stop(sentance)\n",
    "    sentance = stemming(sentance)\n",
    "    sentance = remove_numbers(sentance)\n",
    "    if tokenizer is None:\n",
    "        return sentance\n",
    "    else: \n",
    "        seq = tokenizer.texts_to_sequences([sentance])\n",
    "        seq_matrix = pad_sequences(seq, maxlen=max_len)\n",
    "        return seq_matrix.reshape(1,max_len,1)"
   ]
  },
  {
   "cell_type": "code",
   "execution_count": 7,
   "id": "608de6b0",
   "metadata": {
    "execution": {
     "iopub.execute_input": "2023-05-26T17:57:51.700777Z",
     "iopub.status.busy": "2023-05-26T17:57:51.699582Z",
     "iopub.status.idle": "2023-05-26T17:57:51.715673Z",
     "shell.execute_reply": "2023-05-26T17:57:51.714448Z"
    },
    "papermill": {
     "duration": 0.026141,
     "end_time": "2023-05-26T17:57:51.718051",
     "exception": false,
     "start_time": "2023-05-26T17:57:51.691910",
     "status": "completed"
    },
    "tags": []
   },
   "outputs": [
    {
     "name": "stdout",
     "output_type": "stream",
     "text": [
      "What Where did all the punctuation go\n",
      "its spelling time\n",
      "There longer stop words, even bother.\n",
      "It is final time for some good old stem shenanigan\n",
      "There were at least numbers here, but are left\n"
     ]
    }
   ],
   "source": [
    "print(remove_punc('What? Where did all the punctuation go????'))\n",
    "print(correct('its spellinf timr'))\n",
    "print(remove_stop('There are no longer stop words, so why even bother.'))\n",
    "print(stemming('It is finally time for some good old stemming shenanigans'))\n",
    "print(remove_numbers('There were at least 10 numbers here, but 0 are left'))"
   ]
  },
  {
   "cell_type": "code",
   "execution_count": 8,
   "id": "678fb988",
   "metadata": {
    "execution": {
     "iopub.execute_input": "2023-05-26T17:57:51.732745Z",
     "iopub.status.busy": "2023-05-26T17:57:51.732366Z",
     "iopub.status.idle": "2023-05-26T17:57:51.741562Z",
     "shell.execute_reply": "2023-05-26T17:57:51.740458Z"
    },
    "papermill": {
     "duration": 0.019153,
     "end_time": "2023-05-26T17:57:51.743623",
     "exception": false,
     "start_time": "2023-05-26T17:57:51.724470",
     "status": "completed"
    },
    "tags": []
   },
   "outputs": [
    {
     "data": {
      "text/plain": [
       "0       So there is no way for me to plug it in here i...\n",
       "1                             Good case, Excellent value.\n",
       "2                                  Great for the jawbone.\n",
       "3       Tied to charger for conversations lasting more...\n",
       "4                                       The mic is great.\n",
       "                              ...                        \n",
       "2995    I think food should have flavor and texture an...\n",
       "2996                             Appetite instantly gone.\n",
       "2997    Overall I was not impressed and would not go b...\n",
       "2998    The whole experience was underwhelming, and I ...\n",
       "2999    Then, as if I hadn't wasted enough of my life ...\n",
       "Name: sentance, Length: 3000, dtype: object"
      ]
     },
     "execution_count": 8,
     "metadata": {},
     "output_type": "execute_result"
    }
   ],
   "source": [
    "x = data['sentance']\n",
    "y = data['sentiment']\n",
    "x"
   ]
  },
  {
   "cell_type": "code",
   "execution_count": 9,
   "id": "28c99657",
   "metadata": {
    "execution": {
     "iopub.execute_input": "2023-05-26T17:57:51.758752Z",
     "iopub.status.busy": "2023-05-26T17:57:51.758155Z",
     "iopub.status.idle": "2023-05-26T18:00:34.927793Z",
     "shell.execute_reply": "2023-05-26T18:00:34.926343Z"
    },
    "papermill": {
     "duration": 163.181803,
     "end_time": "2023-05-26T18:00:34.931937",
     "exception": false,
     "start_time": "2023-05-26T17:57:51.750134",
     "status": "completed"
    },
    "tags": []
   },
   "outputs": [],
   "source": [
    "x = x.map(lambda x : prepare_data(x))"
   ]
  },
  {
   "cell_type": "code",
   "execution_count": 10,
   "id": "b98275b1",
   "metadata": {
    "execution": {
     "iopub.execute_input": "2023-05-26T18:00:34.949215Z",
     "iopub.status.busy": "2023-05-26T18:00:34.947767Z",
     "iopub.status.idle": "2023-05-26T18:00:34.954335Z",
     "shell.execute_reply": "2023-05-26T18:00:34.953115Z"
    },
    "papermill": {
     "duration": 0.01745,
     "end_time": "2023-05-26T18:00:34.956813",
     "exception": false,
     "start_time": "2023-05-26T18:00:34.939363",
     "status": "completed"
    },
    "tags": []
   },
   "outputs": [],
   "source": [
    "y = np.asarray(y, dtype='float32')"
   ]
  },
  {
   "cell_type": "code",
   "execution_count": 11,
   "id": "be799cf6",
   "metadata": {
    "execution": {
     "iopub.execute_input": "2023-05-26T18:00:34.972545Z",
     "iopub.status.busy": "2023-05-26T18:00:34.971774Z",
     "iopub.status.idle": "2023-05-26T18:00:34.982751Z",
     "shell.execute_reply": "2023-05-26T18:00:34.981542Z"
    },
    "papermill": {
     "duration": 0.021684,
     "end_time": "2023-05-26T18:00:34.985250",
     "exception": false,
     "start_time": "2023-05-26T18:00:34.963566",
     "status": "completed"
    },
    "tags": []
   },
   "outputs": [],
   "source": [
    "from sklearn.model_selection import train_test_split\n",
    "x_train, x_test, y_train, y_test = train_test_split(x, y, test_size=0.2, stratify=y, random_state=1234)"
   ]
  },
  {
   "cell_type": "code",
   "execution_count": 12,
   "id": "c20ec770",
   "metadata": {
    "execution": {
     "iopub.execute_input": "2023-05-26T18:00:35.000622Z",
     "iopub.status.busy": "2023-05-26T18:00:35.000181Z",
     "iopub.status.idle": "2023-05-26T18:00:35.098545Z",
     "shell.execute_reply": "2023-05-26T18:00:35.097429Z"
    },
    "papermill": {
     "duration": 0.109033,
     "end_time": "2023-05-26T18:00:35.101029",
     "exception": false,
     "start_time": "2023-05-26T18:00:34.991996",
     "status": "completed"
    },
    "tags": []
   },
   "outputs": [
    {
     "name": "stdout",
     "output_type": "stream",
     "text": [
      "2400\n"
     ]
    }
   ],
   "source": [
    "from keras.preprocessing.text import Tokenizer\n",
    "\n",
    "max_words=1500\n",
    "max_len=200\n",
    "\n",
    "tokenizer = Tokenizer(num_words=max_words, oov_token=1)\n",
    "tokenizer.fit_on_texts(x_train)\n",
    "\n",
    "train_seq = tokenizer.texts_to_sequences(x_train)\n",
    "print(len(train_seq))\n",
    "train_seq_matrix = pad_sequences(train_seq, maxlen=max_len)\n",
    "\n",
    "test_seq = tokenizer.texts_to_sequences(x_test)\n",
    "test_seq_matrix = pad_sequences(test_seq, maxlen=max_len)"
   ]
  },
  {
   "cell_type": "code",
   "execution_count": 13,
   "id": "6fed3b49",
   "metadata": {
    "execution": {
     "iopub.execute_input": "2023-05-26T18:00:35.116930Z",
     "iopub.status.busy": "2023-05-26T18:00:35.115866Z",
     "iopub.status.idle": "2023-05-26T18:00:35.124152Z",
     "shell.execute_reply": "2023-05-26T18:00:35.122856Z"
    },
    "papermill": {
     "duration": 0.018716,
     "end_time": "2023-05-26T18:00:35.126534",
     "exception": false,
     "start_time": "2023-05-26T18:00:35.107818",
     "status": "completed"
    },
    "tags": []
   },
   "outputs": [],
   "source": [
    "from keras.layers import LSTM, Embedding, Input, Activation, Dropout, Dense\n",
    "from keras.activations import relu, sigmoid\n",
    "from keras import Model\n",
    "\n",
    "def make_RNN_model():\n",
    "    inputs = Input(shape=[max_len])\n",
    "    layer = Embedding(max_words, 100)(inputs)\n",
    "    \n",
    "    layer = LSTM(128)(layer)\n",
    "    \n",
    "    layer = Dense(256)(layer)\n",
    "    layer = Activation(relu)(layer)\n",
    "    layer = Dropout(0.8)(layer)\n",
    "    \n",
    "    layer = Dense(64)(layer)\n",
    "    layer = Activation(relu)(layer)\n",
    "    layer = Dropout(0.8)(layer)\n",
    "    \n",
    "    layer = Dense(1)(layer)\n",
    "    outputs = Activation(sigmoid)(layer)\n",
    "    \n",
    "    return Model(inputs=inputs, outputs=outputs)"
   ]
  },
  {
   "cell_type": "code",
   "execution_count": 14,
   "id": "49f1ad9e",
   "metadata": {
    "execution": {
     "iopub.execute_input": "2023-05-26T18:00:35.142985Z",
     "iopub.status.busy": "2023-05-26T18:00:35.142592Z",
     "iopub.status.idle": "2023-05-26T18:00:35.941245Z",
     "shell.execute_reply": "2023-05-26T18:00:35.940087Z"
    },
    "papermill": {
     "duration": 0.810219,
     "end_time": "2023-05-26T18:00:35.944303",
     "exception": false,
     "start_time": "2023-05-26T18:00:35.134084",
     "status": "completed"
    },
    "tags": []
   },
   "outputs": [
    {
     "data": {
      "image/png": "[encoded data removed]",
      "text/plain": [
       "<IPython.core.display.Image object>"
      ]
     },
     "execution_count": 14,
     "metadata": {},
     "output_type": "execute_result"
    }
   ],
   "source": [
    "from keras.utils import plot_model\n",
    "\n",
    "model = make_RNN_model()\n",
    "plot_model(model, show_shapes=True)"
   ]
  },
  {
   "cell_type": "code",
   "execution_count": 15,
   "id": "65bdeb04",
   "metadata": {
    "execution": {
     "iopub.execute_input": "2023-05-26T18:00:35.963106Z",
     "iopub.status.busy": "2023-05-26T18:00:35.962669Z",
     "iopub.status.idle": "2023-05-26T18:00:35.997740Z",
     "shell.execute_reply": "2023-05-26T18:00:35.996470Z"
    },
    "papermill": {
     "duration": 0.055267,
     "end_time": "2023-05-26T18:00:36.007904",
     "exception": false,
     "start_time": "2023-05-26T18:00:35.952637",
     "status": "completed"
    },
    "tags": []
   },
   "outputs": [
    {
     "name": "stdout",
     "output_type": "stream",
     "text": [
      "Model: \"model\"\n",
      "_________________________________________________________________\n",
      " Layer (type)                Output Shape              Param #   \n",
      "=================================================================\n",
      " input_1 (InputLayer)        [(None, 200)]             0         \n",
      "                                                                 \n",
      " embedding (Embedding)       (None, 200, 100)          150000    \n",
      "                                                                 \n",
      " lstm (LSTM)                 (None, 128)               117248    \n",
      "                                                                 \n",
      " dense (Dense)               (None, 256)               33024     \n",
      "                                                                 \n",
      " activation (Activation)     (None, 256)               0         \n",
      "                                                                 \n",
      " dropout (Dropout)           (None, 256)               0         \n",
      "                                                                 \n",
      " dense_1 (Dense)             (None, 64)                16448     \n",
      "                                                                 \n",
      " activation_1 (Activation)   (None, 64)                0         \n",
      "                                                                 \n",
      " dropout_1 (Dropout)         (None, 64)                0         \n",
      "                                                                 \n",
      " dense_2 (Dense)             (None, 1)                 65        \n",
      "                                                                 \n",
      " activation_2 (Activation)   (None, 1)                 0         \n",
      "                                                                 \n",
      "=================================================================\n",
      "Total params: 316,785\n",
      "Trainable params: 316,785\n",
      "Non-trainable params: 0\n",
      "_________________________________________________________________\n"
     ]
    }
   ],
   "source": [
    "model.summary()"
   ]
  },
  {
   "cell_type": "code",
   "execution_count": 16,
   "id": "768fcccc",
   "metadata": {
    "execution": {
     "iopub.execute_input": "2023-05-26T18:00:36.029780Z",
     "iopub.status.busy": "2023-05-26T18:00:36.029410Z",
     "iopub.status.idle": "2023-05-26T18:02:29.639591Z",
     "shell.execute_reply": "2023-05-26T18:02:29.638291Z"
    },
    "papermill": {
     "duration": 113.62524,
     "end_time": "2023-05-26T18:02:29.643064",
     "exception": false,
     "start_time": "2023-05-26T18:00:36.017824",
     "status": "completed"
    },
    "tags": []
   },
   "outputs": [
    {
     "name": "stdout",
     "output_type": "stream",
     "text": [
      "Epoch 1/100\n",
      "15/15 [==============================] - 10s 502ms/step - loss: 0.6944 - accuracy: 0.4990 - val_loss: 0.6928 - val_accuracy: 0.5688\n",
      "Epoch 2/100\n",
      "15/15 [==============================] - 7s 504ms/step - loss: 0.6930 - accuracy: 0.5167 - val_loss: 0.6917 - val_accuracy: 0.6187\n",
      "Epoch 3/100\n",
      "15/15 [==============================] - 7s 466ms/step - loss: 0.6910 - accuracy: 0.5141 - val_loss: 0.6874 - val_accuracy: 0.5125\n",
      "Epoch 4/100\n",
      "15/15 [==============================] - 7s 442ms/step - loss: 0.6722 - accuracy: 0.6120 - val_loss: 0.6412 - val_accuracy: 0.7000\n",
      "Epoch 5/100\n",
      "15/15 [==============================] - 7s 486ms/step - loss: 0.5849 - accuracy: 0.7427 - val_loss: 0.5328 - val_accuracy: 0.7729\n",
      "Epoch 6/100\n",
      "15/15 [==============================] - 7s 467ms/step - loss: 1.1038 - accuracy: 0.8323 - val_loss: 0.5047 - val_accuracy: 0.7583\n",
      "Epoch 7/100\n",
      "15/15 [==============================] - 7s 464ms/step - loss: 1.0584 - accuracy: 0.8182 - val_loss: 0.5232 - val_accuracy: 0.7625\n",
      "Epoch 8/100\n",
      "15/15 [==============================] - 7s 452ms/step - loss: 0.3146 - accuracy: 0.9016 - val_loss: 0.5251 - val_accuracy: 0.7771\n",
      "Epoch 9/100\n",
      "15/15 [==============================] - 7s 469ms/step - loss: 0.2468 - accuracy: 0.9156 - val_loss: 0.5670 - val_accuracy: 0.7729\n",
      "Epoch 10/100\n",
      "15/15 [==============================] - 7s 459ms/step - loss: 0.2451 - accuracy: 0.9193 - val_loss: 0.6007 - val_accuracy: 0.7688\n",
      "Epoch 11/100\n",
      "15/15 [==============================] - 7s 459ms/step - loss: 0.2032 - accuracy: 0.9417 - val_loss: 0.6749 - val_accuracy: 0.7750\n",
      "Epoch 12/100\n",
      "15/15 [==============================] - 7s 449ms/step - loss: 0.1824 - accuracy: 0.9495 - val_loss: 0.7503 - val_accuracy: 0.7688\n",
      "Epoch 13/100\n",
      "15/15 [==============================] - 7s 453ms/step - loss: 0.1618 - accuracy: 0.9521 - val_loss: 0.8841 - val_accuracy: 0.7792\n",
      "Epoch 14/100\n",
      "15/15 [==============================] - 7s 452ms/step - loss: 5.3736 - accuracy: 0.7109 - val_loss: 3.5008 - val_accuracy: 0.5042\n",
      "Epoch 15/100\n",
      "15/15 [==============================] - 7s 462ms/step - loss: 1.5331 - accuracy: 0.7312 - val_loss: 0.6906 - val_accuracy: 0.7521\n",
      "Epoch 16/100\n",
      "15/15 [==============================] - 7s 442ms/step - loss: 0.3083 - accuracy: 0.8927 - val_loss: 0.7071 - val_accuracy: 0.7563\n"
     ]
    }
   ],
   "source": [
    "from keras.optimizers import RMSprop\n",
    "from keras.metrics import binary_crossentropy\n",
    "from keras.callbacks import EarlyStopping\n",
    "\n",
    "model.compile(optimizer=RMSprop(), loss=binary_crossentropy, metrics=['accuracy'])\n",
    "callback = EarlyStopping(monitor='val_loss', patience=10, min_delta=0.001)\n",
    "history = model.fit(x=train_seq_matrix,\n",
    "          y=y_train, \n",
    "          epochs=100, \n",
    "          callbacks=[callback], \n",
    "          validation_split=0.2, \n",
    "          batch_size=128)"
   ]
  },
  {
   "cell_type": "code",
   "execution_count": 17,
   "id": "012a3e36",
   "metadata": {
    "execution": {
     "iopub.execute_input": "2023-05-26T18:02:29.700301Z",
     "iopub.status.busy": "2023-05-26T18:02:29.699718Z",
     "iopub.status.idle": "2023-05-26T18:02:31.257321Z",
     "shell.execute_reply": "2023-05-26T18:02:31.256272Z"
    },
    "papermill": {
     "duration": 1.589144,
     "end_time": "2023-05-26T18:02:31.259990",
     "exception": false,
     "start_time": "2023-05-26T18:02:29.670846",
     "status": "completed"
    },
    "tags": []
   },
   "outputs": [
    {
     "name": "stdout",
     "output_type": "stream",
     "text": [
      "19/19 [==============================] - 1s 77ms/step - loss: 0.7366 - accuracy: 0.7333\n"
     ]
    },
    {
     "data": {
      "text/plain": [
       "[0.7366442680358887, 0.7333333492279053]"
      ]
     },
     "execution_count": 17,
     "metadata": {},
     "output_type": "execute_result"
    }
   ],
   "source": [
    "model.evaluate(test_seq_matrix, y_test)"
   ]
  },
  {
   "cell_type": "code",
   "execution_count": 18,
   "id": "7fb31ed2",
   "metadata": {
    "execution": {
     "iopub.execute_input": "2023-05-26T18:02:31.320233Z",
     "iopub.status.busy": "2023-05-26T18:02:31.319820Z",
     "iopub.status.idle": "2023-05-26T18:02:31.326666Z",
     "shell.execute_reply": "2023-05-26T18:02:31.325645Z"
    },
    "papermill": {
     "duration": 0.039943,
     "end_time": "2023-05-26T18:02:31.328786",
     "exception": false,
     "start_time": "2023-05-26T18:02:31.288843",
     "status": "completed"
    },
    "tags": []
   },
   "outputs": [
    {
     "data": {
      "text/plain": [
       "[[1], [1], [], [1], [1], [1], [], [1], [1], [1], [1], [1]]"
      ]
     },
     "execution_count": 18,
     "metadata": {},
     "output_type": "execute_result"
    }
   ],
   "source": [
    "tokenizer.texts_to_sequences('it was great')"
   ]
  },
  {
   "cell_type": "code",
   "execution_count": 19,
   "id": "27fb8edf",
   "metadata": {
    "execution": {
     "iopub.execute_input": "2023-05-26T18:02:31.388023Z",
     "iopub.status.busy": "2023-05-26T18:02:31.387591Z",
     "iopub.status.idle": "2023-05-26T18:02:31.392882Z",
     "shell.execute_reply": "2023-05-26T18:02:31.391891Z"
    },
    "papermill": {
     "duration": 0.037588,
     "end_time": "2023-05-26T18:02:31.395376",
     "exception": false,
     "start_time": "2023-05-26T18:02:31.357788",
     "status": "completed"
    },
    "tags": []
   },
   "outputs": [
    {
     "name": "stdout",
     "output_type": "stream",
     "text": [
      "[1, 131, 82, 1, 633, 44, 517, 518, 1045, 31, 48, 518, 8, 1, 121, 1046]\n"
     ]
    }
   ],
   "source": [
    "print(train_seq[0])"
   ]
  },
  {
   "cell_type": "code",
   "execution_count": 20,
   "id": "b2d12037",
   "metadata": {
    "execution": {
     "iopub.execute_input": "2023-05-26T18:02:31.454103Z",
     "iopub.status.busy": "2023-05-26T18:02:31.453645Z",
     "iopub.status.idle": "2023-05-26T18:02:31.460467Z",
     "shell.execute_reply": "2023-05-26T18:02:31.459329Z"
    },
    "papermill": {
     "duration": 0.038995,
     "end_time": "2023-05-26T18:02:31.462640",
     "exception": false,
     "start_time": "2023-05-26T18:02:31.423645",
     "status": "completed"
    },
    "tags": []
   },
   "outputs": [],
   "source": [
    "dict = {0 : 'negative', 1 : 'positive'}\n",
    "\n",
    "\n",
    "def predict(sentance, tokenizer, model):\n",
    "    seq = prepare_data(sentance, tokenizer=tokenizer)\n",
    "    pred = model.predict(seq).item()\n",
    "    print(pred)\n",
    "    prediction = np.round(pred)\n",
    "    return dict.get(prediction)"
   ]
  },
  {
   "cell_type": "code",
   "execution_count": 21,
   "id": "1683f339",
   "metadata": {
    "execution": {
     "iopub.execute_input": "2023-05-26T18:02:31.520958Z",
     "iopub.status.busy": "2023-05-26T18:02:31.520574Z",
     "iopub.status.idle": "2023-05-26T18:02:32.109347Z",
     "shell.execute_reply": "2023-05-26T18:02:32.108104Z"
    },
    "papermill": {
     "duration": 0.621556,
     "end_time": "2023-05-26T18:02:32.112279",
     "exception": false,
     "start_time": "2023-05-26T18:02:31.490723",
     "status": "completed"
    },
    "tags": []
   },
   "outputs": [
    {
     "name": "stdout",
     "output_type": "stream",
     "text": [
      "1/1 [==============================] - 1s 523ms/step\n",
      "0.9384778141975403\n"
     ]
    },
    {
     "data": {
      "text/plain": [
       "'positive'"
      ]
     },
     "execution_count": 21,
     "metadata": {},
     "output_type": "execute_result"
    }
   ],
   "source": [
    "predict('I am not really sure, but i was not happy with the performance overall', tokenizer, model)"
   ]
  }
 ],
 "metadata": {
  "kernelspec": {
   "display_name": "Python 3",
   "language": "python",
   "name": "python3"
  },
  "language_info": {
   "codemirror_mode": {
    "name": "ipython",
    "version": 3
   },
   "file_extension": ".py",
   "mimetype": "text/x-python",
   "name": "python",
   "nbconvert_exporter": "python",
   "pygments_lexer": "ipython3",
   "version": "3.10.10"
  },
  "papermill": {
   "default_parameters": {},
   "duration": 318.769661,
   "end_time": "2023-05-26T18:02:35.515354",
   "environment_variables": {},
   "exception": null,
   "input_path": "__notebook__.ipynb",
   "output_path": "__notebook__.ipynb",
   "parameters": {},
   "start_time": "2023-05-26T17:57:16.745693",
   "version": "2.4.0"
  }
 },
 "nbformat": 4,
 "nbformat_minor": 5
}
