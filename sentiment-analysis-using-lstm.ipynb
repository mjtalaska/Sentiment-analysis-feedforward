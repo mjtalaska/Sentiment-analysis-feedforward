{
 "cells": [
  {
   "cell_type": "code",
   "execution_count": 1,
   "id": "ad852a70",
   "metadata": {
    "_cell_guid": "b1076dfc-b9ad-4769-8c92-a6c4dae69d19",
    "_uuid": "8f2839f25d086af736a60e9eeb907d3b93b6e0e5",
    "execution": {
     "iopub.execute_input": "2023-05-26T18:22:30.110714Z",
     "iopub.status.busy": "2023-05-26T18:22:30.110326Z",
     "iopub.status.idle": "2023-05-26T18:22:30.132440Z",
     "shell.execute_reply": "2023-05-26T18:22:30.131296Z"
    },
    "papermill": {
     "duration": 0.034795,
     "end_time": "2023-05-26T18:22:30.135238",
     "exception": false,
     "start_time": "2023-05-26T18:22:30.100443",
     "status": "completed"
    },
    "tags": []
   },
   "outputs": [
    {
     "name": "stdout",
     "output_type": "stream",
     "text": [
      "/kaggle/input/sentiment-labelled-sentences/sentiment labelled sentences/amazon_cells_labelled.txt\n",
      "/kaggle/input/sentiment-labelled-sentences/sentiment labelled sentences/imdb_labelled.txt\n",
      "/kaggle/input/sentiment-labelled-sentences/sentiment labelled sentences/readme.txt\n",
      "/kaggle/input/sentiment-labelled-sentences/sentiment labelled sentences/yelp_labelled.txt\n"
     ]
    }
   ],
   "source": [
    "import numpy as np # linear algebra\n",
    "import pandas as pd # data processing, CSV file I/O (e.g. pd.read_csv)\n",
    "import os\n",
    "\n",
    "for dirname, _, filenames in os.walk('/kaggle/input'):\n",
    "    for filename in filenames:\n",
    "        print(os.path.join(dirname, filename))"
   ]
  },
  {
   "cell_type": "code",
   "execution_count": 2,
   "id": "01a4a2c1",
   "metadata": {
    "execution": {
     "iopub.execute_input": "2023-05-26T18:22:30.152891Z",
     "iopub.status.busy": "2023-05-26T18:22:30.152491Z",
     "iopub.status.idle": "2023-05-26T18:22:30.209581Z",
     "shell.execute_reply": "2023-05-26T18:22:30.208399Z"
    },
    "papermill": {
     "duration": 0.069329,
     "end_time": "2023-05-26T18:22:30.212506",
     "exception": false,
     "start_time": "2023-05-26T18:22:30.143177",
     "status": "completed"
    },
    "tags": []
   },
   "outputs": [
    {
     "name": "stdout",
     "output_type": "stream",
     "text": [
      "amazon = (1000, 2), imdb = (1000, 2), yelp = (1000, 2)\n"
     ]
    },
    {
     "name": "stderr",
     "output_type": "stream",
     "text": [
      "/tmp/ipykernel_20/3939053422.py:5: ParserWarning: Falling back to the 'python' engine because the 'c' engine does not support regex separators (separators > 1 char and different from '\\s+' are interpreted as regex); you can avoid this warning by specifying engine='python'.\n",
      "  imdb = pd.read_csv('/kaggle/input/sentiment-labelled-sentences/sentiment labelled sentences/imdb_labelled.txt',\n"
     ]
    }
   ],
   "source": [
    "amazon = pd.read_csv('/kaggle/input/sentiment-labelled-sentences/sentiment labelled sentences/amazon_cells_labelled.txt', \n",
    "                     sep='\\t',\n",
    "                     lineterminator='\\n',\n",
    "                     names=['sentance', 'sentiment'] )\n",
    "imdb = pd.read_csv('/kaggle/input/sentiment-labelled-sentences/sentiment labelled sentences/imdb_labelled.txt', \n",
    "                     sep='\\t|\\s{3}',\n",
    "                     lineterminator='\\n',\n",
    "                     names=['sentance', 'sentiment'] )\n",
    "yelp = pd.read_csv('/kaggle/input/sentiment-labelled-sentences/sentiment labelled sentences/yelp_labelled.txt', \n",
    "                     sep='\\t',\n",
    "                     lineterminator='\\n',\n",
    "                     names=['sentance', 'sentiment'] )\n",
    "print(f\"amazon = {amazon.shape}, imdb = {imdb.shape}, yelp = {yelp.shape}\")"
   ]
  },
  {
   "cell_type": "code",
   "execution_count": 3,
   "id": "fe1bda74",
   "metadata": {
    "execution": {
     "iopub.execute_input": "2023-05-26T18:22:30.230458Z",
     "iopub.status.busy": "2023-05-26T18:22:30.230036Z",
     "iopub.status.idle": "2023-05-26T18:22:30.267806Z",
     "shell.execute_reply": "2023-05-26T18:22:30.266548Z"
    },
    "papermill": {
     "duration": 0.050112,
     "end_time": "2023-05-26T18:22:30.270722",
     "exception": false,
     "start_time": "2023-05-26T18:22:30.220610",
     "status": "completed"
    },
    "tags": []
   },
   "outputs": [
    {
     "data": {
      "text/html": [
       "<div>\n",
       "<style scoped>\n",
       "    .dataframe tbody tr th:only-of-type {\n",
       "        vertical-align: middle;\n",
       "    }\n",
       "\n",
       "    .dataframe tbody tr th {\n",
       "        vertical-align: top;\n",
       "    }\n",
       "\n",
       "    .dataframe thead th {\n",
       "        text-align: right;\n",
       "    }\n",
       "</style>\n",
       "<table border=\"1\" class=\"dataframe\">\n",
       "  <thead>\n",
       "    <tr style=\"text-align: right;\">\n",
       "      <th></th>\n",
       "      <th>sentance</th>\n",
       "      <th>sentiment</th>\n",
       "    </tr>\n",
       "  </thead>\n",
       "  <tbody>\n",
       "    <tr>\n",
       "      <th>0</th>\n",
       "      <td>So there is no way for me to plug it in here i...</td>\n",
       "      <td>0</td>\n",
       "    </tr>\n",
       "    <tr>\n",
       "      <th>1</th>\n",
       "      <td>Good case, Excellent value.</td>\n",
       "      <td>1</td>\n",
       "    </tr>\n",
       "    <tr>\n",
       "      <th>2</th>\n",
       "      <td>Great for the jawbone.</td>\n",
       "      <td>1</td>\n",
       "    </tr>\n",
       "    <tr>\n",
       "      <th>3</th>\n",
       "      <td>Tied to charger for conversations lasting more...</td>\n",
       "      <td>0</td>\n",
       "    </tr>\n",
       "    <tr>\n",
       "      <th>4</th>\n",
       "      <td>The mic is great.</td>\n",
       "      <td>1</td>\n",
       "    </tr>\n",
       "    <tr>\n",
       "      <th>...</th>\n",
       "      <td>...</td>\n",
       "      <td>...</td>\n",
       "    </tr>\n",
       "    <tr>\n",
       "      <th>2995</th>\n",
       "      <td>I think food should have flavor and texture an...</td>\n",
       "      <td>0</td>\n",
       "    </tr>\n",
       "    <tr>\n",
       "      <th>2996</th>\n",
       "      <td>Appetite instantly gone.</td>\n",
       "      <td>0</td>\n",
       "    </tr>\n",
       "    <tr>\n",
       "      <th>2997</th>\n",
       "      <td>Overall I was not impressed and would not go b...</td>\n",
       "      <td>0</td>\n",
       "    </tr>\n",
       "    <tr>\n",
       "      <th>2998</th>\n",
       "      <td>The whole experience was underwhelming, and I ...</td>\n",
       "      <td>0</td>\n",
       "    </tr>\n",
       "    <tr>\n",
       "      <th>2999</th>\n",
       "      <td>Then, as if I hadn't wasted enough of my life ...</td>\n",
       "      <td>0</td>\n",
       "    </tr>\n",
       "  </tbody>\n",
       "</table>\n",
       "<p>3000 rows × 2 columns</p>\n",
       "</div>"
      ],
      "text/plain": [
       "                                               sentance sentiment\n",
       "0     So there is no way for me to plug it in here i...         0\n",
       "1                           Good case, Excellent value.         1\n",
       "2                                Great for the jawbone.         1\n",
       "3     Tied to charger for conversations lasting more...         0\n",
       "4                                     The mic is great.         1\n",
       "...                                                 ...       ...\n",
       "2995  I think food should have flavor and texture an...         0\n",
       "2996                           Appetite instantly gone.         0\n",
       "2997  Overall I was not impressed and would not go b...         0\n",
       "2998  The whole experience was underwhelming, and I ...         0\n",
       "2999  Then, as if I hadn't wasted enough of my life ...         0\n",
       "\n",
       "[3000 rows x 2 columns]"
      ]
     },
     "execution_count": 3,
     "metadata": {},
     "output_type": "execute_result"
    }
   ],
   "source": [
    "data = pd.DataFrame(data=np.concatenate([amazon,imdb,yelp], axis=0), columns=['sentance', 'sentiment'])\n",
    "data"
   ]
  },
  {
   "cell_type": "code",
   "execution_count": 4,
   "id": "41cb910d",
   "metadata": {
    "execution": {
     "iopub.execute_input": "2023-05-26T18:22:30.289221Z",
     "iopub.status.busy": "2023-05-26T18:22:30.288789Z",
     "iopub.status.idle": "2023-05-26T18:22:47.577967Z",
     "shell.execute_reply": "2023-05-26T18:22:47.576723Z"
    },
    "papermill": {
     "duration": 17.301821,
     "end_time": "2023-05-26T18:22:47.580968",
     "exception": false,
     "start_time": "2023-05-26T18:22:30.279147",
     "status": "completed"
    },
    "tags": []
   },
   "outputs": [
    {
     "name": "stdout",
     "output_type": "stream",
     "text": [
      "Collecting pyspellchecker\r\n",
      "  Downloading pyspellchecker-0.7.2-py3-none-any.whl (3.4 MB)\r\n",
      "\u001b[2K     \u001b[90m━━━━━━━━━━━━━━━━━━━━━━━━━━━━━━━━━━━━━━━━\u001b[0m \u001b[32m3.4/3.4 MB\u001b[0m \u001b[31m8.9 MB/s\u001b[0m eta \u001b[36m0:00:00\u001b[0m\r\n",
      "\u001b[?25hInstalling collected packages: pyspellchecker\r\n",
      "Successfully installed pyspellchecker-0.7.2\r\n",
      "\u001b[33mWARNING: Running pip as the 'root' user can result in broken permissions and conflicting behaviour with the system package manager. It is recommended to use a virtual environment instead: https://pip.pypa.io/warnings/venv\u001b[0m\u001b[33m\r\n",
      "\u001b[0m"
     ]
    }
   ],
   "source": [
    "!pip install pyspellchecker\n",
    "\n",
    "import string\n",
    "from spellchecker import SpellChecker\n",
    "from nltk.corpus import stopwords\n",
    "from nltk.stem.porter import PorterStemmer\n",
    "\n",
    "sc = SpellChecker()\n",
    "stemmer = PorterStemmer()"
   ]
  },
  {
   "cell_type": "code",
   "execution_count": 5,
   "id": "7c4fd9fc",
   "metadata": {
    "execution": {
     "iopub.execute_input": "2023-05-26T18:22:47.603161Z",
     "iopub.status.busy": "2023-05-26T18:22:47.602757Z",
     "iopub.status.idle": "2023-05-26T18:22:47.613077Z",
     "shell.execute_reply": "2023-05-26T18:22:47.611910Z"
    },
    "papermill": {
     "duration": 0.023438,
     "end_time": "2023-05-26T18:22:47.615317",
     "exception": false,
     "start_time": "2023-05-26T18:22:47.591879",
     "status": "completed"
    },
    "tags": []
   },
   "outputs": [],
   "source": [
    "def remove_punc(sentance):\n",
    "    return sentance.translate(str.maketrans('','',string.punctuation))\n",
    "\n",
    "\n",
    "def correct(sentance):\n",
    "    misspelled = sc.unknown(str(sentance).split())\n",
    "    correct = [sc.correction(w) if w in misspelled else w for w in sentance.split()]\n",
    "    return \" \".join(filter(lambda c : c is not None, correct))\n",
    "\n",
    "\n",
    "def remove_stop(sentance):\n",
    "    correct = [w for w in sentance.split() if w not in stopwords.words('english')]\n",
    "    return \" \".join(correct)\n",
    "\n",
    "\n",
    "def stemming(sentance):\n",
    "    correct = [stemmer.stem(w) for w in sentance.split()]\n",
    "    return \" \".join(correct)\n",
    "\n",
    "\n",
    "def remove_numbers(sentance):\n",
    "    return \" \".join([s for s in sentance.split() if not s.isdigit()])"
   ]
  },
  {
   "cell_type": "code",
   "execution_count": 6,
   "id": "b852a4c2",
   "metadata": {
    "execution": {
     "iopub.execute_input": "2023-05-26T18:22:47.635924Z",
     "iopub.status.busy": "2023-05-26T18:22:47.635537Z",
     "iopub.status.idle": "2023-05-26T18:22:47.640509Z",
     "shell.execute_reply": "2023-05-26T18:22:47.639278Z"
    },
    "papermill": {
     "duration": 0.018309,
     "end_time": "2023-05-26T18:22:47.643026",
     "exception": false,
     "start_time": "2023-05-26T18:22:47.624717",
     "status": "completed"
    },
    "tags": []
   },
   "outputs": [],
   "source": [
    "max_words=1500\n",
    "max_len=200"
   ]
  },
  {
   "cell_type": "code",
   "execution_count": 7,
   "id": "33c7e4b3",
   "metadata": {
    "execution": {
     "iopub.execute_input": "2023-05-26T18:22:47.664758Z",
     "iopub.status.busy": "2023-05-26T18:22:47.663639Z",
     "iopub.status.idle": "2023-05-26T18:22:56.517013Z",
     "shell.execute_reply": "2023-05-26T18:22:56.515782Z"
    },
    "papermill": {
     "duration": 8.867207,
     "end_time": "2023-05-26T18:22:56.519954",
     "exception": false,
     "start_time": "2023-05-26T18:22:47.652747",
     "status": "completed"
    },
    "tags": []
   },
   "outputs": [
    {
     "name": "stderr",
     "output_type": "stream",
     "text": [
      "/opt/conda/lib/python3.10/site-packages/tensorflow_io/python/ops/__init__.py:98: UserWarning: unable to load libtensorflow_io_plugins.so: unable to open file: libtensorflow_io_plugins.so, from paths: ['/opt/conda/lib/python3.10/site-packages/tensorflow_io/python/ops/libtensorflow_io_plugins.so']\n",
      "caused by: ['/opt/conda/lib/python3.10/site-packages/tensorflow_io/python/ops/libtensorflow_io_plugins.so: undefined symbol: _ZN3tsl6StatusC1EN10tensorflow5error4CodeESt17basic_string_viewIcSt11char_traitsIcEENS_14SourceLocationE']\n",
      "  warnings.warn(f\"unable to load libtensorflow_io_plugins.so: {e}\")\n",
      "/opt/conda/lib/python3.10/site-packages/tensorflow_io/python/ops/__init__.py:104: UserWarning: file system plugins are not loaded: unable to open file: libtensorflow_io.so, from paths: ['/opt/conda/lib/python3.10/site-packages/tensorflow_io/python/ops/libtensorflow_io.so']\n",
      "caused by: ['/opt/conda/lib/python3.10/site-packages/tensorflow_io/python/ops/libtensorflow_io.so: undefined symbol: _ZTVN10tensorflow13GcsFileSystemE']\n",
      "  warnings.warn(f\"file system plugins are not loaded: {e}\")\n"
     ]
    }
   ],
   "source": [
    "from keras.utils import pad_sequences\n",
    "\n",
    "def prepare_data(sentance, tokenizer=None):\n",
    "    sentance = sentance.lower()\n",
    "    sentance = remove_punc(sentance)\n",
    "    sentance = correct(sentance)\n",
    "    sentance = remove_stop(sentance)\n",
    "    sentance = stemming(sentance)\n",
    "    sentance = remove_numbers(sentance)\n",
    "    if tokenizer is None:\n",
    "        return sentance\n",
    "    else: \n",
    "        seq = tokenizer.texts_to_sequences([sentance])\n",
    "        seq_matrix = pad_sequences(seq, maxlen=max_len)\n",
    "        return seq_matrix.reshape(1,max_len,1)"
   ]
  },
  {
   "cell_type": "code",
   "execution_count": 8,
   "id": "ef3fefea",
   "metadata": {
    "execution": {
     "iopub.execute_input": "2023-05-26T18:22:56.543999Z",
     "iopub.status.busy": "2023-05-26T18:22:56.543225Z",
     "iopub.status.idle": "2023-05-26T18:22:56.559045Z",
     "shell.execute_reply": "2023-05-26T18:22:56.557894Z"
    },
    "papermill": {
     "duration": 0.030464,
     "end_time": "2023-05-26T18:22:56.561528",
     "exception": false,
     "start_time": "2023-05-26T18:22:56.531064",
     "status": "completed"
    },
    "tags": []
   },
   "outputs": [
    {
     "name": "stdout",
     "output_type": "stream",
     "text": [
      "What Where did all the punctuation go\n",
      "its spelling time\n",
      "There longer stop words, even bother.\n",
      "It is final time for some good old stem shenanigan\n",
      "There were at least numbers here, but are left\n"
     ]
    }
   ],
   "source": [
    "print(remove_punc('What? Where did all the punctuation go????'))\n",
    "print(correct('its spellinf timr'))\n",
    "print(remove_stop('There are no longer stop words, so why even bother.'))\n",
    "print(stemming('It is finally time for some good old stemming shenanigans'))\n",
    "print(remove_numbers('There were at least 10 numbers here, but 0 are left'))"
   ]
  },
  {
   "cell_type": "code",
   "execution_count": 9,
   "id": "a5222b19",
   "metadata": {
    "execution": {
     "iopub.execute_input": "2023-05-26T18:22:56.582868Z",
     "iopub.status.busy": "2023-05-26T18:22:56.582437Z",
     "iopub.status.idle": "2023-05-26T18:22:56.593022Z",
     "shell.execute_reply": "2023-05-26T18:22:56.591865Z"
    },
    "papermill": {
     "duration": 0.024113,
     "end_time": "2023-05-26T18:22:56.595563",
     "exception": false,
     "start_time": "2023-05-26T18:22:56.571450",
     "status": "completed"
    },
    "tags": []
   },
   "outputs": [
    {
     "data": {
      "text/plain": [
       "0       So there is no way for me to plug it in here i...\n",
       "1                             Good case, Excellent value.\n",
       "2                                  Great for the jawbone.\n",
       "3       Tied to charger for conversations lasting more...\n",
       "4                                       The mic is great.\n",
       "                              ...                        \n",
       "2995    I think food should have flavor and texture an...\n",
       "2996                             Appetite instantly gone.\n",
       "2997    Overall I was not impressed and would not go b...\n",
       "2998    The whole experience was underwhelming, and I ...\n",
       "2999    Then, as if I hadn't wasted enough of my life ...\n",
       "Name: sentance, Length: 3000, dtype: object"
      ]
     },
     "execution_count": 9,
     "metadata": {},
     "output_type": "execute_result"
    }
   ],
   "source": [
    "x = data['sentance']\n",
    "y = data['sentiment']\n",
    "x"
   ]
  },
  {
   "cell_type": "code",
   "execution_count": 10,
   "id": "82db5501",
   "metadata": {
    "execution": {
     "iopub.execute_input": "2023-05-26T18:22:56.618148Z",
     "iopub.status.busy": "2023-05-26T18:22:56.617416Z",
     "iopub.status.idle": "2023-05-26T18:26:19.790815Z",
     "shell.execute_reply": "2023-05-26T18:26:19.789522Z"
    },
    "papermill": {
     "duration": 203.188405,
     "end_time": "2023-05-26T18:26:19.794045",
     "exception": false,
     "start_time": "2023-05-26T18:22:56.605640",
     "status": "completed"
    },
    "tags": []
   },
   "outputs": [],
   "source": [
    "x = x.map(lambda x : prepare_data(x))"
   ]
  },
  {
   "cell_type": "code",
   "execution_count": 11,
   "id": "5d95c1c8",
   "metadata": {
    "execution": {
     "iopub.execute_input": "2023-05-26T18:26:19.816007Z",
     "iopub.status.busy": "2023-05-26T18:26:19.815609Z",
     "iopub.status.idle": "2023-05-26T18:26:19.820555Z",
     "shell.execute_reply": "2023-05-26T18:26:19.819594Z"
    },
    "papermill": {
     "duration": 0.018475,
     "end_time": "2023-05-26T18:26:19.822832",
     "exception": false,
     "start_time": "2023-05-26T18:26:19.804357",
     "status": "completed"
    },
    "tags": []
   },
   "outputs": [],
   "source": [
    "y = np.asarray(y, dtype='float32')"
   ]
  },
  {
   "cell_type": "code",
   "execution_count": 12,
   "id": "75db35a9",
   "metadata": {
    "execution": {
     "iopub.execute_input": "2023-05-26T18:26:19.844911Z",
     "iopub.status.busy": "2023-05-26T18:26:19.843738Z",
     "iopub.status.idle": "2023-05-26T18:26:19.856360Z",
     "shell.execute_reply": "2023-05-26T18:26:19.855174Z"
    },
    "papermill": {
     "duration": 0.026608,
     "end_time": "2023-05-26T18:26:19.859293",
     "exception": false,
     "start_time": "2023-05-26T18:26:19.832685",
     "status": "completed"
    },
    "tags": []
   },
   "outputs": [],
   "source": [
    "from sklearn.model_selection import train_test_split\n",
    "x_train, x_test, y_train, y_test = train_test_split(x, y, test_size=0.2, stratify=y, random_state=1234)"
   ]
  },
  {
   "cell_type": "code",
   "execution_count": 13,
   "id": "a5839fac",
   "metadata": {
    "execution": {
     "iopub.execute_input": "2023-05-26T18:26:19.881048Z",
     "iopub.status.busy": "2023-05-26T18:26:19.880600Z",
     "iopub.status.idle": "2023-05-26T18:26:20.005235Z",
     "shell.execute_reply": "2023-05-26T18:26:20.003727Z"
    },
    "papermill": {
     "duration": 0.138992,
     "end_time": "2023-05-26T18:26:20.007986",
     "exception": false,
     "start_time": "2023-05-26T18:26:19.868994",
     "status": "completed"
    },
    "tags": []
   },
   "outputs": [
    {
     "name": "stdout",
     "output_type": "stream",
     "text": [
      "2400\n"
     ]
    }
   ],
   "source": [
    "from keras.preprocessing.text import Tokenizer\n",
    "\n",
    "tokenizer = Tokenizer(num_words=max_words, oov_token=1)\n",
    "tokenizer.fit_on_texts(x_train)\n",
    "\n",
    "train_seq = tokenizer.texts_to_sequences(x_train)\n",
    "print(len(train_seq))\n",
    "train_seq_matrix = pad_sequences(train_seq, maxlen=max_len)\n",
    "\n",
    "test_seq = tokenizer.texts_to_sequences(x_test)\n",
    "test_seq_matrix = pad_sequences(test_seq, maxlen=max_len)"
   ]
  },
  {
   "cell_type": "code",
   "execution_count": 14,
   "id": "28f8ecbc",
   "metadata": {
    "execution": {
     "iopub.execute_input": "2023-05-26T18:26:20.030903Z",
     "iopub.status.busy": "2023-05-26T18:26:20.030485Z",
     "iopub.status.idle": "2023-05-26T18:26:20.039421Z",
     "shell.execute_reply": "2023-05-26T18:26:20.038219Z"
    },
    "papermill": {
     "duration": 0.023907,
     "end_time": "2023-05-26T18:26:20.041634",
     "exception": false,
     "start_time": "2023-05-26T18:26:20.017727",
     "status": "completed"
    },
    "tags": []
   },
   "outputs": [],
   "source": [
    "from keras.layers import LSTM, Embedding, Input, Activation, Dropout, Dense, Bidirectional\n",
    "from keras.activations import relu, sigmoid\n",
    "from keras import Model\n",
    "\n",
    "def make_RNN_model():\n",
    "    inputs = Input(shape=[max_len])\n",
    "    layer = Embedding(max_words, 100)(inputs)\n",
    "    \n",
    "    layer = Bidirectional(LSTM(128))(layer)\n",
    "    \n",
    "    layer = Dense(256)(layer)\n",
    "    layer = Activation(relu)(layer)\n",
    "    layer = Dropout(0.8)(layer)\n",
    "    \n",
    "    layer = Dense(64)(layer)\n",
    "    layer = Activation(relu)(layer)\n",
    "    layer = Dropout(0.8)(layer)\n",
    "    \n",
    "    layer = Dense(1)(layer)\n",
    "    outputs = Activation(sigmoid)(layer)\n",
    "    \n",
    "    return Model(inputs=inputs, outputs=outputs)"
   ]
  },
  {
   "cell_type": "code",
   "execution_count": 15,
   "id": "59ecaac0",
   "metadata": {
    "execution": {
     "iopub.execute_input": "2023-05-26T18:26:20.062977Z",
     "iopub.status.busy": "2023-05-26T18:26:20.062560Z",
     "iopub.status.idle": "2023-05-26T18:26:21.265856Z",
     "shell.execute_reply": "2023-05-26T18:26:21.264950Z"
    },
    "papermill": {
     "duration": 1.217659,
     "end_time": "2023-05-26T18:26:21.269125",
     "exception": false,
     "start_time": "2023-05-26T18:26:20.051466",
     "status": "completed"
    },
    "tags": []
   },
   "outputs": [
    {
     "data": {
      "image/png": "[encoded data removed]",
      "text/plain": [
       "<IPython.core.display.Image object>"
      ]
     },
     "execution_count": 15,
     "metadata": {},
     "output_type": "execute_result"
    }
   ],
   "source": [
    "from keras.utils import plot_model\n",
    "\n",
    "model = make_RNN_model()\n",
    "plot_model(model, show_shapes=True)"
   ]
  },
  {
   "cell_type": "code",
   "execution_count": 16,
   "id": "7416ed9e",
   "metadata": {
    "execution": {
     "iopub.execute_input": "2023-05-26T18:26:21.294842Z",
     "iopub.status.busy": "2023-05-26T18:26:21.294391Z",
     "iopub.status.idle": "2023-05-26T18:26:21.336439Z",
     "shell.execute_reply": "2023-05-26T18:26:21.335046Z"
    },
    "papermill": {
     "duration": 0.064107,
     "end_time": "2023-05-26T18:26:21.344946",
     "exception": false,
     "start_time": "2023-05-26T18:26:21.280839",
     "status": "completed"
    },
    "tags": []
   },
   "outputs": [
    {
     "name": "stdout",
     "output_type": "stream",
     "text": [
      "Model: \"model\"\n",
      "_________________________________________________________________\n",
      " Layer (type)                Output Shape              Param #   \n",
      "=================================================================\n",
      " input_1 (InputLayer)        [(None, 200)]             0         \n",
      "                                                                 \n",
      " embedding (Embedding)       (None, 200, 100)          150000    \n",
      "                                                                 \n",
      " bidirectional (Bidirectiona  (None, 256)              234496    \n",
      " l)                                                              \n",
      "                                                                 \n",
      " dense (Dense)               (None, 256)               65792     \n",
      "                                                                 \n",
      " activation (Activation)     (None, 256)               0         \n",
      "                                                                 \n",
      " dropout (Dropout)           (None, 256)               0         \n",
      "                                                                 \n",
      " dense_1 (Dense)             (None, 64)                16448     \n",
      "                                                                 \n",
      " activation_1 (Activation)   (None, 64)                0         \n",
      "                                                                 \n",
      " dropout_1 (Dropout)         (None, 64)                0         \n",
      "                                                                 \n",
      " dense_2 (Dense)             (None, 1)                 65        \n",
      "                                                                 \n",
      " activation_2 (Activation)   (None, 1)                 0         \n",
      "                                                                 \n",
      "=================================================================\n",
      "Total params: 466,801\n",
      "Trainable params: 466,801\n",
      "Non-trainable params: 0\n",
      "_________________________________________________________________\n"
     ]
    }
   ],
   "source": [
    "model.summary()"
   ]
  },
  {
   "cell_type": "code",
   "execution_count": 17,
   "id": "955ae017",
   "metadata": {
    "execution": {
     "iopub.execute_input": "2023-05-26T18:26:21.376432Z",
     "iopub.status.busy": "2023-05-26T18:26:21.375984Z",
     "iopub.status.idle": "2023-05-26T18:29:20.636176Z",
     "shell.execute_reply": "2023-05-26T18:29:20.635239Z"
    },
    "papermill": {
     "duration": 179.279401,
     "end_time": "2023-05-26T18:29:20.638903",
     "exception": false,
     "start_time": "2023-05-26T18:26:21.359502",
     "status": "completed"
    },
    "tags": []
   },
   "outputs": [
    {
     "name": "stdout",
     "output_type": "stream",
     "text": [
      "Epoch 1/100\n",
      "15/15 [==============================] - 16s 798ms/step - loss: 0.6972 - accuracy: 0.4932 - val_loss: 0.6926 - val_accuracy: 0.5750\n",
      "Epoch 2/100\n",
      "15/15 [==============================] - 11s 707ms/step - loss: 0.6941 - accuracy: 0.5094 - val_loss: 0.6916 - val_accuracy: 0.5458\n",
      "Epoch 3/100\n",
      "15/15 [==============================] - 11s 717ms/step - loss: 0.6945 - accuracy: 0.5089 - val_loss: 0.6906 - val_accuracy: 0.6604\n",
      "Epoch 4/100\n",
      "15/15 [==============================] - 11s 746ms/step - loss: 0.6854 - accuracy: 0.5484 - val_loss: 0.6769 - val_accuracy: 0.7312\n",
      "Epoch 5/100\n",
      "15/15 [==============================] - 10s 698ms/step - loss: 0.6493 - accuracy: 0.6516 - val_loss: 0.5930 - val_accuracy: 0.7479\n",
      "Epoch 6/100\n",
      "15/15 [==============================] - 10s 703ms/step - loss: 0.4783 - accuracy: 0.8052 - val_loss: 0.4755 - val_accuracy: 0.7917\n",
      "Epoch 7/100\n",
      "15/15 [==============================] - 11s 742ms/step - loss: 0.3641 - accuracy: 0.8745 - val_loss: 0.4988 - val_accuracy: 0.7729\n",
      "Epoch 8/100\n",
      "15/15 [==============================] - 11s 711ms/step - loss: 0.3056 - accuracy: 0.8974 - val_loss: 0.6116 - val_accuracy: 0.7750\n",
      "Epoch 9/100\n",
      "15/15 [==============================] - 11s 710ms/step - loss: 1.6821 - accuracy: 0.8906 - val_loss: 0.6192 - val_accuracy: 0.7750\n",
      "Epoch 10/100\n",
      "15/15 [==============================] - 11s 746ms/step - loss: 0.3007 - accuracy: 0.9062 - val_loss: 0.6598 - val_accuracy: 0.7583\n",
      "Epoch 11/100\n",
      "15/15 [==============================] - 11s 723ms/step - loss: 0.2215 - accuracy: 0.9302 - val_loss: 0.7276 - val_accuracy: 0.7604\n",
      "Epoch 12/100\n",
      "15/15 [==============================] - 11s 733ms/step - loss: 0.2020 - accuracy: 0.9438 - val_loss: 0.7871 - val_accuracy: 0.7583\n",
      "Epoch 13/100\n",
      "15/15 [==============================] - 11s 767ms/step - loss: 0.1662 - accuracy: 0.9500 - val_loss: 0.8938 - val_accuracy: 0.7521\n",
      "Epoch 14/100\n",
      "15/15 [==============================] - 11s 746ms/step - loss: 0.1478 - accuracy: 0.9615 - val_loss: 0.9537 - val_accuracy: 0.7667\n",
      "Epoch 15/100\n",
      "15/15 [==============================] - 11s 732ms/step - loss: 0.1361 - accuracy: 0.9589 - val_loss: 1.0376 - val_accuracy: 0.7771\n",
      "Epoch 16/100\n",
      "15/15 [==============================] - 11s 767ms/step - loss: 0.1230 - accuracy: 0.9661 - val_loss: 1.2014 - val_accuracy: 0.7792\n"
     ]
    }
   ],
   "source": [
    "from keras.optimizers import RMSprop\n",
    "from keras.metrics import binary_crossentropy\n",
    "from keras.callbacks import EarlyStopping\n",
    "\n",
    "model.compile(optimizer=RMSprop(), loss=binary_crossentropy, metrics=['accuracy'])\n",
    "callback = EarlyStopping(monitor='val_loss', patience=10, min_delta=0.001)\n",
    "history = model.fit(x=train_seq_matrix,\n",
    "          y=y_train, \n",
    "          epochs=100, \n",
    "          callbacks=[callback], \n",
    "          validation_split=0.2, \n",
    "          batch_size=128)"
   ]
  },
  {
   "cell_type": "code",
   "execution_count": 18,
   "id": "22763ead",
   "metadata": {
    "execution": {
     "iopub.execute_input": "2023-05-26T18:29:20.719332Z",
     "iopub.status.busy": "2023-05-26T18:29:20.718490Z",
     "iopub.status.idle": "2023-05-26T18:29:21.105084Z",
     "shell.execute_reply": "2023-05-26T18:29:21.102364Z"
    },
    "papermill": {
     "duration": 0.429756,
     "end_time": "2023-05-26T18:29:21.108269",
     "exception": false,
     "start_time": "2023-05-26T18:29:20.678513",
     "status": "completed"
    },
    "tags": []
   },
   "outputs": [
    {
     "data": {
      "image/png": "[encoded data removed]",
      "text/plain": [
       "<Figure size 640x480 with 1 Axes>"
      ]
     },
     "metadata": {},
     "output_type": "display_data"
    }
   ],
   "source": [
    "import matplotlib.pyplot as plt\n",
    "\n",
    "plt.plot(history.history['val_accuracy'])\n",
    "plt.plot(history.history['accuracy'])\n",
    "plt.plot(history.history['val_loss'])\n",
    "plt.plot(history.history['loss'])\n",
    "plt.legend(['Validation accuracy', 'Training accuracy', 'Validation loss', 'Training loss'])\n",
    "plt.show()"
   ]
  },
  {
   "cell_type": "code",
   "execution_count": null,
   "id": "7ba3c2e4",
   "metadata": {
    "execution": {
     "iopub.execute_input": "2023-05-26T18:17:43.783076Z",
     "iopub.status.busy": "2023-05-26T18:17:43.782638Z",
     "iopub.status.idle": "2023-05-26T18:17:43.790189Z",
     "shell.execute_reply": "2023-05-26T18:17:43.789275Z",
     "shell.execute_reply.started": "2023-05-26T18:17:43.783031Z"
    },
    "papermill": {
     "duration": 0.040766,
     "end_time": "2023-05-26T18:29:21.191487",
     "exception": false,
     "start_time": "2023-05-26T18:29:21.150721",
     "status": "completed"
    },
    "tags": []
   },
   "outputs": [],
   "source": []
  },
  {
   "cell_type": "code",
   "execution_count": 19,
   "id": "e01d50d8",
   "metadata": {
    "execution": {
     "iopub.execute_input": "2023-05-26T18:29:21.279466Z",
     "iopub.status.busy": "2023-05-26T18:29:21.277854Z",
     "iopub.status.idle": "2023-05-26T18:29:23.539885Z",
     "shell.execute_reply": "2023-05-26T18:29:23.538495Z"
    },
    "papermill": {
     "duration": 2.311393,
     "end_time": "2023-05-26T18:29:23.542754",
     "exception": false,
     "start_time": "2023-05-26T18:29:21.231361",
     "status": "completed"
    },
    "tags": []
   },
   "outputs": [
    {
     "name": "stdout",
     "output_type": "stream",
     "text": [
      "19/19 [==============================] - 2s 113ms/step - loss: 1.1864 - accuracy: 0.7483\n"
     ]
    },
    {
     "data": {
      "text/plain": [
       "[1.1863559484481812, 0.7483333349227905]"
      ]
     },
     "execution_count": 19,
     "metadata": {},
     "output_type": "execute_result"
    }
   ],
   "source": [
    "model.evaluate(test_seq_matrix, y_test)"
   ]
  },
  {
   "cell_type": "code",
   "execution_count": 20,
   "id": "fbb42c74",
   "metadata": {
    "execution": {
     "iopub.execute_input": "2023-05-26T18:29:23.632178Z",
     "iopub.status.busy": "2023-05-26T18:29:23.631286Z",
     "iopub.status.idle": "2023-05-26T18:29:23.638234Z",
     "shell.execute_reply": "2023-05-26T18:29:23.636963Z"
    },
    "papermill": {
     "duration": 0.055094,
     "end_time": "2023-05-26T18:29:23.640851",
     "exception": false,
     "start_time": "2023-05-26T18:29:23.585757",
     "status": "completed"
    },
    "tags": []
   },
   "outputs": [],
   "source": [
    "dict = {0 : 'negative', 1 : 'positive'}\n",
    "\n",
    "\n",
    "def predict(sentance, tokenizer, model):\n",
    "    seq = prepare_data(sentance, tokenizer=tokenizer)\n",
    "    pred = model.predict(seq).item()\n",
    "    print(pred)\n",
    "    prediction = np.round(pred)\n",
    "    return dict.get(prediction)"
   ]
  },
  {
   "cell_type": "code",
   "execution_count": 21,
   "id": "3e6ac5cc",
   "metadata": {
    "execution": {
     "iopub.execute_input": "2023-05-26T18:29:23.725335Z",
     "iopub.status.busy": "2023-05-26T18:29:23.724516Z",
     "iopub.status.idle": "2023-05-26T18:29:24.749986Z",
     "shell.execute_reply": "2023-05-26T18:29:24.748649Z"
    },
    "papermill": {
     "duration": 1.070422,
     "end_time": "2023-05-26T18:29:24.752499",
     "exception": false,
     "start_time": "2023-05-26T18:29:23.682077",
     "status": "completed"
    },
    "tags": []
   },
   "outputs": [
    {
     "name": "stdout",
     "output_type": "stream",
     "text": [
      "1/1 [==============================] - 1s 953ms/step\n",
      "3.7981583318469347e-06\n"
     ]
    },
    {
     "data": {
      "text/plain": [
       "'negative'"
      ]
     },
     "execution_count": 21,
     "metadata": {},
     "output_type": "execute_result"
    }
   ],
   "source": [
    "predict('Bad', tokenizer, model)"
   ]
  }
 ],
 "metadata": {
  "kernelspec": {
   "display_name": "Python 3",
   "language": "python",
   "name": "python3"
  },
  "language_info": {
   "codemirror_mode": {
    "name": "ipython",
    "version": 3
   },
   "file_extension": ".py",
   "mimetype": "text/x-python",
   "name": "python",
   "nbconvert_exporter": "python",
   "pygments_lexer": "ipython3",
   "version": "3.10.10"
  },
  "papermill": {
   "default_parameters": {},
   "duration": 429.989318,
   "end_time": "2023-05-26T18:29:27.489054",
   "environment_variables": {},
   "exception": null,
   "input_path": "__notebook__.ipynb",
   "output_path": "__notebook__.ipynb",
   "parameters": {},
   "start_time": "2023-05-26T18:22:17.499736",
   "version": "2.4.0"
  }
 },
 "nbformat": 4,
 "nbformat_minor": 5
}
