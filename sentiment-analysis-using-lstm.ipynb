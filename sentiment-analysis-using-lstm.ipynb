{
 "cells": [
  {
   "cell_type": "code",
   "execution_count": 1,
   "id": "0b216b56",
   "metadata": {
    "_cell_guid": "b1076dfc-b9ad-4769-8c92-a6c4dae69d19",
    "_uuid": "8f2839f25d086af736a60e9eeb907d3b93b6e0e5",
    "execution": {
     "iopub.execute_input": "2023-05-26T18:14:04.749459Z",
     "iopub.status.busy": "2023-05-26T18:14:04.749093Z",
     "iopub.status.idle": "2023-05-26T18:14:04.774139Z",
     "shell.execute_reply": "2023-05-26T18:14:04.772725Z"
    },
    "papermill": {
     "duration": 0.03718,
     "end_time": "2023-05-26T18:14:04.776536",
     "exception": false,
     "start_time": "2023-05-26T18:14:04.739356",
     "status": "completed"
    },
    "tags": []
   },
   "outputs": [
    {
     "name": "stdout",
     "output_type": "stream",
     "text": [
      "/kaggle/input/sentiment-labelled-sentences/sentiment labelled sentences/amazon_cells_labelled.txt\n",
      "/kaggle/input/sentiment-labelled-sentences/sentiment labelled sentences/imdb_labelled.txt\n",
      "/kaggle/input/sentiment-labelled-sentences/sentiment labelled sentences/readme.txt\n",
      "/kaggle/input/sentiment-labelled-sentences/sentiment labelled sentences/yelp_labelled.txt\n"
     ]
    }
   ],
   "source": [
    "import numpy as np # linear algebra\n",
    "import pandas as pd # data processing, CSV file I/O (e.g. pd.read_csv)\n",
    "import os\n",
    "\n",
    "for dirname, _, filenames in os.walk('/kaggle/input'):\n",
    "    for filename in filenames:\n",
    "        print(os.path.join(dirname, filename))"
   ]
  },
  {
   "cell_type": "code",
   "execution_count": 2,
   "id": "5d6404b2",
   "metadata": {
    "execution": {
     "iopub.execute_input": "2023-05-26T18:14:04.793219Z",
     "iopub.status.busy": "2023-05-26T18:14:04.792331Z",
     "iopub.status.idle": "2023-05-26T18:14:04.851994Z",
     "shell.execute_reply": "2023-05-26T18:14:04.850535Z"
    },
    "papermill": {
     "duration": 0.070561,
     "end_time": "2023-05-26T18:14:04.854531",
     "exception": false,
     "start_time": "2023-05-26T18:14:04.783970",
     "status": "completed"
    },
    "tags": []
   },
   "outputs": [
    {
     "name": "stdout",
     "output_type": "stream",
     "text": [
      "amazon = (1000, 2), imdb = (1000, 2), yelp = (1000, 2)\n"
     ]
    },
    {
     "name": "stderr",
     "output_type": "stream",
     "text": [
      "/tmp/ipykernel_20/3939053422.py:5: ParserWarning: Falling back to the 'python' engine because the 'c' engine does not support regex separators (separators > 1 char and different from '\\s+' are interpreted as regex); you can avoid this warning by specifying engine='python'.\n",
      "  imdb = pd.read_csv('/kaggle/input/sentiment-labelled-sentences/sentiment labelled sentences/imdb_labelled.txt',\n"
     ]
    }
   ],
   "source": [
    "amazon = pd.read_csv('/kaggle/input/sentiment-labelled-sentences/sentiment labelled sentences/amazon_cells_labelled.txt', \n",
    "                     sep='\\t',\n",
    "                     lineterminator='\\n',\n",
    "                     names=['sentance', 'sentiment'] )\n",
    "imdb = pd.read_csv('/kaggle/input/sentiment-labelled-sentences/sentiment labelled sentences/imdb_labelled.txt', \n",
    "                     sep='\\t|\\s{3}',\n",
    "                     lineterminator='\\n',\n",
    "                     names=['sentance', 'sentiment'] )\n",
    "yelp = pd.read_csv('/kaggle/input/sentiment-labelled-sentences/sentiment labelled sentences/yelp_labelled.txt', \n",
    "                     sep='\\t',\n",
    "                     lineterminator='\\n',\n",
    "                     names=['sentance', 'sentiment'] )\n",
    "print(f\"amazon = {amazon.shape}, imdb = {imdb.shape}, yelp = {yelp.shape}\")"
   ]
  },
  {
   "cell_type": "code",
   "execution_count": 3,
   "id": "cae4e098",
   "metadata": {
    "execution": {
     "iopub.execute_input": "2023-05-26T18:14:04.871196Z",
     "iopub.status.busy": "2023-05-26T18:14:04.870535Z",
     "iopub.status.idle": "2023-05-26T18:14:04.903095Z",
     "shell.execute_reply": "2023-05-26T18:14:04.901961Z"
    },
    "papermill": {
     "duration": 0.043627,
     "end_time": "2023-05-26T18:14:04.905481",
     "exception": false,
     "start_time": "2023-05-26T18:14:04.861854",
     "status": "completed"
    },
    "tags": []
   },
   "outputs": [
    {
     "data": {
      "text/html": [
       "<div>\n",
       "<style scoped>\n",
       "    .dataframe tbody tr th:only-of-type {\n",
       "        vertical-align: middle;\n",
       "    }\n",
       "\n",
       "    .dataframe tbody tr th {\n",
       "        vertical-align: top;\n",
       "    }\n",
       "\n",
       "    .dataframe thead th {\n",
       "        text-align: right;\n",
       "    }\n",
       "</style>\n",
       "<table border=\"1\" class=\"dataframe\">\n",
       "  <thead>\n",
       "    <tr style=\"text-align: right;\">\n",
       "      <th></th>\n",
       "      <th>sentance</th>\n",
       "      <th>sentiment</th>\n",
       "    </tr>\n",
       "  </thead>\n",
       "  <tbody>\n",
       "    <tr>\n",
       "      <th>0</th>\n",
       "      <td>So there is no way for me to plug it in here i...</td>\n",
       "      <td>0</td>\n",
       "    </tr>\n",
       "    <tr>\n",
       "      <th>1</th>\n",
       "      <td>Good case, Excellent value.</td>\n",
       "      <td>1</td>\n",
       "    </tr>\n",
       "    <tr>\n",
       "      <th>2</th>\n",
       "      <td>Great for the jawbone.</td>\n",
       "      <td>1</td>\n",
       "    </tr>\n",
       "    <tr>\n",
       "      <th>3</th>\n",
       "      <td>Tied to charger for conversations lasting more...</td>\n",
       "      <td>0</td>\n",
       "    </tr>\n",
       "    <tr>\n",
       "      <th>4</th>\n",
       "      <td>The mic is great.</td>\n",
       "      <td>1</td>\n",
       "    </tr>\n",
       "    <tr>\n",
       "      <th>...</th>\n",
       "      <td>...</td>\n",
       "      <td>...</td>\n",
       "    </tr>\n",
       "    <tr>\n",
       "      <th>2995</th>\n",
       "      <td>I think food should have flavor and texture an...</td>\n",
       "      <td>0</td>\n",
       "    </tr>\n",
       "    <tr>\n",
       "      <th>2996</th>\n",
       "      <td>Appetite instantly gone.</td>\n",
       "      <td>0</td>\n",
       "    </tr>\n",
       "    <tr>\n",
       "      <th>2997</th>\n",
       "      <td>Overall I was not impressed and would not go b...</td>\n",
       "      <td>0</td>\n",
       "    </tr>\n",
       "    <tr>\n",
       "      <th>2998</th>\n",
       "      <td>The whole experience was underwhelming, and I ...</td>\n",
       "      <td>0</td>\n",
       "    </tr>\n",
       "    <tr>\n",
       "      <th>2999</th>\n",
       "      <td>Then, as if I hadn't wasted enough of my life ...</td>\n",
       "      <td>0</td>\n",
       "    </tr>\n",
       "  </tbody>\n",
       "</table>\n",
       "<p>3000 rows × 2 columns</p>\n",
       "</div>"
      ],
      "text/plain": [
       "                                               sentance sentiment\n",
       "0     So there is no way for me to plug it in here i...         0\n",
       "1                           Good case, Excellent value.         1\n",
       "2                                Great for the jawbone.         1\n",
       "3     Tied to charger for conversations lasting more...         0\n",
       "4                                     The mic is great.         1\n",
       "...                                                 ...       ...\n",
       "2995  I think food should have flavor and texture an...         0\n",
       "2996                           Appetite instantly gone.         0\n",
       "2997  Overall I was not impressed and would not go b...         0\n",
       "2998  The whole experience was underwhelming, and I ...         0\n",
       "2999  Then, as if I hadn't wasted enough of my life ...         0\n",
       "\n",
       "[3000 rows x 2 columns]"
      ]
     },
     "execution_count": 3,
     "metadata": {},
     "output_type": "execute_result"
    }
   ],
   "source": [
    "data = pd.DataFrame(data=np.concatenate([amazon,imdb,yelp], axis=0), columns=['sentance', 'sentiment'])\n",
    "data"
   ]
  },
  {
   "cell_type": "code",
   "execution_count": 4,
   "id": "cd67f95e",
   "metadata": {
    "execution": {
     "iopub.execute_input": "2023-05-26T18:14:04.923111Z",
     "iopub.status.busy": "2023-05-26T18:14:04.922712Z",
     "iopub.status.idle": "2023-05-26T18:14:20.901632Z",
     "shell.execute_reply": "2023-05-26T18:14:20.900372Z"
    },
    "papermill": {
     "duration": 15.990967,
     "end_time": "2023-05-26T18:14:20.904494",
     "exception": false,
     "start_time": "2023-05-26T18:14:04.913527",
     "status": "completed"
    },
    "tags": []
   },
   "outputs": [
    {
     "name": "stdout",
     "output_type": "stream",
     "text": [
      "Collecting pyspellchecker\r\n",
      "  Downloading pyspellchecker-0.7.2-py3-none-any.whl (3.4 MB)\r\n",
      "\u001b[2K     \u001b[90m━━━━━━━━━━━━━━━━━━━━━━━━━━━━━━━━━━━━━━━━\u001b[0m \u001b[32m3.4/3.4 MB\u001b[0m \u001b[31m39.9 MB/s\u001b[0m eta \u001b[36m0:00:00\u001b[0m\r\n",
      "\u001b[?25hInstalling collected packages: pyspellchecker\r\n",
      "Successfully installed pyspellchecker-0.7.2\r\n",
      "\u001b[33mWARNING: Running pip as the 'root' user can result in broken permissions and conflicting behaviour with the system package manager. It is recommended to use a virtual environment instead: https://pip.pypa.io/warnings/venv\u001b[0m\u001b[33m\r\n",
      "\u001b[0m"
     ]
    }
   ],
   "source": [
    "!pip install pyspellchecker\n",
    "\n",
    "import string\n",
    "from spellchecker import SpellChecker\n",
    "from nltk.corpus import stopwords\n",
    "from nltk.stem.porter import PorterStemmer\n",
    "\n",
    "sc = SpellChecker()\n",
    "stemmer = PorterStemmer()"
   ]
  },
  {
   "cell_type": "code",
   "execution_count": 5,
   "id": "41b34484",
   "metadata": {
    "execution": {
     "iopub.execute_input": "2023-05-26T18:14:20.925261Z",
     "iopub.status.busy": "2023-05-26T18:14:20.924505Z",
     "iopub.status.idle": "2023-05-26T18:14:20.935811Z",
     "shell.execute_reply": "2023-05-26T18:14:20.934783Z"
    },
    "papermill": {
     "duration": 0.031787,
     "end_time": "2023-05-26T18:14:20.944636",
     "exception": false,
     "start_time": "2023-05-26T18:14:20.912849",
     "status": "completed"
    },
    "tags": []
   },
   "outputs": [],
   "source": [
    "def remove_punc(sentance):\n",
    "    return sentance.translate(str.maketrans('','',string.punctuation))\n",
    "\n",
    "\n",
    "def correct(sentance):\n",
    "    misspelled = sc.unknown(str(sentance).split())\n",
    "    correct = [sc.correction(w) if w in misspelled else w for w in sentance.split()]\n",
    "    return \" \".join(filter(lambda c : c is not None, correct))\n",
    "\n",
    "\n",
    "def remove_stop(sentance):\n",
    "    correct = [w for w in sentance.split() if w not in stopwords.words('english')]\n",
    "    return \" \".join(correct)\n",
    "\n",
    "\n",
    "def stemming(sentance):\n",
    "    correct = [stemmer.stem(w) for w in sentance.split()]\n",
    "    return \" \".join(correct)\n",
    "\n",
    "\n",
    "def remove_numbers(sentance):\n",
    "    return \" \".join([s for s in sentance.split() if not s.isdigit()])"
   ]
  },
  {
   "cell_type": "code",
   "execution_count": 6,
   "id": "fd02fac4",
   "metadata": {
    "execution": {
     "iopub.execute_input": "2023-05-26T18:14:20.963334Z",
     "iopub.status.busy": "2023-05-26T18:14:20.962942Z",
     "iopub.status.idle": "2023-05-26T18:14:20.967391Z",
     "shell.execute_reply": "2023-05-26T18:14:20.966323Z"
    },
    "papermill": {
     "duration": 0.01657,
     "end_time": "2023-05-26T18:14:20.969654",
     "exception": false,
     "start_time": "2023-05-26T18:14:20.953084",
     "status": "completed"
    },
    "tags": []
   },
   "outputs": [],
   "source": [
    "max_words=1500\n",
    "max_len=200"
   ]
  },
  {
   "cell_type": "code",
   "execution_count": 7,
   "id": "d5ae438b",
   "metadata": {
    "execution": {
     "iopub.execute_input": "2023-05-26T18:14:20.988819Z",
     "iopub.status.busy": "2023-05-26T18:14:20.988065Z",
     "iopub.status.idle": "2023-05-26T18:14:29.027278Z",
     "shell.execute_reply": "2023-05-26T18:14:29.026117Z"
    },
    "papermill": {
     "duration": 8.052087,
     "end_time": "2023-05-26T18:14:29.030131",
     "exception": false,
     "start_time": "2023-05-26T18:14:20.978044",
     "status": "completed"
    },
    "tags": []
   },
   "outputs": [
    {
     "name": "stderr",
     "output_type": "stream",
     "text": [
      "/opt/conda/lib/python3.10/site-packages/tensorflow_io/python/ops/__init__.py:98: UserWarning: unable to load libtensorflow_io_plugins.so: unable to open file: libtensorflow_io_plugins.so, from paths: ['/opt/conda/lib/python3.10/site-packages/tensorflow_io/python/ops/libtensorflow_io_plugins.so']\n",
      "caused by: ['/opt/conda/lib/python3.10/site-packages/tensorflow_io/python/ops/libtensorflow_io_plugins.so: undefined symbol: _ZN3tsl6StatusC1EN10tensorflow5error4CodeESt17basic_string_viewIcSt11char_traitsIcEENS_14SourceLocationE']\n",
      "  warnings.warn(f\"unable to load libtensorflow_io_plugins.so: {e}\")\n",
      "/opt/conda/lib/python3.10/site-packages/tensorflow_io/python/ops/__init__.py:104: UserWarning: file system plugins are not loaded: unable to open file: libtensorflow_io.so, from paths: ['/opt/conda/lib/python3.10/site-packages/tensorflow_io/python/ops/libtensorflow_io.so']\n",
      "caused by: ['/opt/conda/lib/python3.10/site-packages/tensorflow_io/python/ops/libtensorflow_io.so: undefined symbol: _ZTVN10tensorflow13GcsFileSystemE']\n",
      "  warnings.warn(f\"file system plugins are not loaded: {e}\")\n"
     ]
    }
   ],
   "source": [
    "from keras.utils import pad_sequences\n",
    "\n",
    "def prepare_data(sentance, tokenizer=None):\n",
    "    sentance = sentance.lower()\n",
    "    sentance = remove_punc(sentance)\n",
    "    sentance = correct(sentance)\n",
    "    sentance = remove_stop(sentance)\n",
    "    sentance = stemming(sentance)\n",
    "    sentance = remove_numbers(sentance)\n",
    "    if tokenizer is None:\n",
    "        return sentance\n",
    "    else: \n",
    "        seq = tokenizer.texts_to_sequences([sentance])\n",
    "        seq_matrix = pad_sequences(seq, maxlen=max_len)\n",
    "        return seq_matrix.reshape(1,max_len,1)"
   ]
  },
  {
   "cell_type": "code",
   "execution_count": 8,
   "id": "9fb7ee5d",
   "metadata": {
    "execution": {
     "iopub.execute_input": "2023-05-26T18:14:29.049211Z",
     "iopub.status.busy": "2023-05-26T18:14:29.048461Z",
     "iopub.status.idle": "2023-05-26T18:14:29.063910Z",
     "shell.execute_reply": "2023-05-26T18:14:29.062670Z"
    },
    "papermill": {
     "duration": 0.027586,
     "end_time": "2023-05-26T18:14:29.066217",
     "exception": false,
     "start_time": "2023-05-26T18:14:29.038631",
     "status": "completed"
    },
    "tags": []
   },
   "outputs": [
    {
     "name": "stdout",
     "output_type": "stream",
     "text": [
      "What Where did all the punctuation go\n",
      "its spelling time\n",
      "There longer stop words, even bother.\n",
      "It is final time for some good old stem shenanigan\n",
      "There were at least numbers here, but are left\n"
     ]
    }
   ],
   "source": [
    "print(remove_punc('What? Where did all the punctuation go????'))\n",
    "print(correct('its spellinf timr'))\n",
    "print(remove_stop('There are no longer stop words, so why even bother.'))\n",
    "print(stemming('It is finally time for some good old stemming shenanigans'))\n",
    "print(remove_numbers('There were at least 10 numbers here, but 0 are left'))"
   ]
  },
  {
   "cell_type": "code",
   "execution_count": 9,
   "id": "6bd10eae",
   "metadata": {
    "execution": {
     "iopub.execute_input": "2023-05-26T18:14:29.084528Z",
     "iopub.status.busy": "2023-05-26T18:14:29.084166Z",
     "iopub.status.idle": "2023-05-26T18:14:29.093281Z",
     "shell.execute_reply": "2023-05-26T18:14:29.092221Z"
    },
    "papermill": {
     "duration": 0.020841,
     "end_time": "2023-05-26T18:14:29.095468",
     "exception": false,
     "start_time": "2023-05-26T18:14:29.074627",
     "status": "completed"
    },
    "tags": []
   },
   "outputs": [
    {
     "data": {
      "text/plain": [
       "0       So there is no way for me to plug it in here i...\n",
       "1                             Good case, Excellent value.\n",
       "2                                  Great for the jawbone.\n",
       "3       Tied to charger for conversations lasting more...\n",
       "4                                       The mic is great.\n",
       "                              ...                        \n",
       "2995    I think food should have flavor and texture an...\n",
       "2996                             Appetite instantly gone.\n",
       "2997    Overall I was not impressed and would not go b...\n",
       "2998    The whole experience was underwhelming, and I ...\n",
       "2999    Then, as if I hadn't wasted enough of my life ...\n",
       "Name: sentance, Length: 3000, dtype: object"
      ]
     },
     "execution_count": 9,
     "metadata": {},
     "output_type": "execute_result"
    }
   ],
   "source": [
    "x = data['sentance']\n",
    "y = data['sentiment']\n",
    "x"
   ]
  },
  {
   "cell_type": "code",
   "execution_count": 10,
   "id": "c76b166d",
   "metadata": {
    "execution": {
     "iopub.execute_input": "2023-05-26T18:14:29.114346Z",
     "iopub.status.busy": "2023-05-26T18:14:29.113381Z",
     "iopub.status.idle": "2023-05-26T18:17:43.862609Z",
     "shell.execute_reply": "2023-05-26T18:17:43.861415Z"
    },
    "papermill": {
     "duration": 194.761724,
     "end_time": "2023-05-26T18:17:43.865676",
     "exception": false,
     "start_time": "2023-05-26T18:14:29.103952",
     "status": "completed"
    },
    "tags": []
   },
   "outputs": [],
   "source": [
    "x = x.map(lambda x : prepare_data(x))"
   ]
  },
  {
   "cell_type": "code",
   "execution_count": 11,
   "id": "7a4f5ce4",
   "metadata": {
    "execution": {
     "iopub.execute_input": "2023-05-26T18:17:43.884475Z",
     "iopub.status.busy": "2023-05-26T18:17:43.884117Z",
     "iopub.status.idle": "2023-05-26T18:17:43.889245Z",
     "shell.execute_reply": "2023-05-26T18:17:43.888164Z"
    },
    "papermill": {
     "duration": 0.016965,
     "end_time": "2023-05-26T18:17:43.891558",
     "exception": false,
     "start_time": "2023-05-26T18:17:43.874593",
     "status": "completed"
    },
    "tags": []
   },
   "outputs": [],
   "source": [
    "y = np.asarray(y, dtype='float32')"
   ]
  },
  {
   "cell_type": "code",
   "execution_count": 12,
   "id": "6c8b682f",
   "metadata": {
    "execution": {
     "iopub.execute_input": "2023-05-26T18:17:43.910616Z",
     "iopub.status.busy": "2023-05-26T18:17:43.910033Z",
     "iopub.status.idle": "2023-05-26T18:17:43.920939Z",
     "shell.execute_reply": "2023-05-26T18:17:43.919922Z"
    },
    "papermill": {
     "duration": 0.023317,
     "end_time": "2023-05-26T18:17:43.923416",
     "exception": false,
     "start_time": "2023-05-26T18:17:43.900099",
     "status": "completed"
    },
    "tags": []
   },
   "outputs": [],
   "source": [
    "from sklearn.model_selection import train_test_split\n",
    "x_train, x_test, y_train, y_test = train_test_split(x, y, test_size=0.2, stratify=y, random_state=1234)"
   ]
  },
  {
   "cell_type": "code",
   "execution_count": 13,
   "id": "e0130b0f",
   "metadata": {
    "execution": {
     "iopub.execute_input": "2023-05-26T18:17:43.942645Z",
     "iopub.status.busy": "2023-05-26T18:17:43.942042Z",
     "iopub.status.idle": "2023-05-26T18:17:44.071800Z",
     "shell.execute_reply": "2023-05-26T18:17:44.070503Z"
    },
    "papermill": {
     "duration": 0.143219,
     "end_time": "2023-05-26T18:17:44.075221",
     "exception": false,
     "start_time": "2023-05-26T18:17:43.932002",
     "status": "completed"
    },
    "tags": []
   },
   "outputs": [
    {
     "name": "stdout",
     "output_type": "stream",
     "text": [
      "2400\n"
     ]
    }
   ],
   "source": [
    "from keras.preprocessing.text import Tokenizer\n",
    "\n",
    "tokenizer = Tokenizer(num_words=max_words, oov_token=1)\n",
    "tokenizer.fit_on_texts(x_train)\n",
    "\n",
    "train_seq = tokenizer.texts_to_sequences(x_train)\n",
    "print(len(train_seq))\n",
    "train_seq_matrix = pad_sequences(train_seq, maxlen=max_len)\n",
    "\n",
    "test_seq = tokenizer.texts_to_sequences(x_test)\n",
    "test_seq_matrix = pad_sequences(test_seq, maxlen=max_len)"
   ]
  },
  {
   "cell_type": "code",
   "execution_count": 14,
   "id": "e8741ce1",
   "metadata": {
    "execution": {
     "iopub.execute_input": "2023-05-26T18:17:44.097670Z",
     "iopub.status.busy": "2023-05-26T18:17:44.097268Z",
     "iopub.status.idle": "2023-05-26T18:17:44.105367Z",
     "shell.execute_reply": "2023-05-26T18:17:44.104442Z"
    },
    "papermill": {
     "duration": 0.023186,
     "end_time": "2023-05-26T18:17:44.109553",
     "exception": false,
     "start_time": "2023-05-26T18:17:44.086367",
     "status": "completed"
    },
    "tags": []
   },
   "outputs": [],
   "source": [
    "from keras.layers import LSTM, Embedding, Input, Activation, Dropout, Dense, Bidirectional\n",
    "from keras.activations import relu, sigmoid\n",
    "from keras import Model\n",
    "\n",
    "def make_RNN_model():\n",
    "    inputs = Input(shape=[max_len])\n",
    "    layer = Embedding(max_words, 100)(inputs)\n",
    "    \n",
    "    layer = Bidirectional(LSTM(128))(layer)\n",
    "    \n",
    "    layer = Dense(256)(layer)\n",
    "    layer = Activation(relu)(layer)\n",
    "    layer = Dropout(0.8)(layer)\n",
    "    \n",
    "    layer = Dense(64)(layer)\n",
    "    layer = Activation(relu)(layer)\n",
    "    layer = Dropout(0.8)(layer)\n",
    "    \n",
    "    layer = Dense(1)(layer)\n",
    "    outputs = Activation(sigmoid)(layer)\n",
    "    \n",
    "    return Model(inputs=inputs, outputs=outputs)"
   ]
  },
  {
   "cell_type": "code",
   "execution_count": 15,
   "id": "2e0e8360",
   "metadata": {
    "execution": {
     "iopub.execute_input": "2023-05-26T18:17:44.130838Z",
     "iopub.status.busy": "2023-05-26T18:17:44.130478Z",
     "iopub.status.idle": "2023-05-26T18:17:45.204291Z",
     "shell.execute_reply": "2023-05-26T18:17:45.203197Z"
    },
    "papermill": {
     "duration": 1.086,
     "end_time": "2023-05-26T18:17:45.206732",
     "exception": false,
     "start_time": "2023-05-26T18:17:44.120732",
     "status": "completed"
    },
    "tags": []
   },
   "outputs": [
    {
     "data": {
      "image/png": "[encoded data removed]",
      "text/plain": [
       "<IPython.core.display.Image object>"
      ]
     },
     "execution_count": 15,
     "metadata": {},
     "output_type": "execute_result"
    }
   ],
   "source": [
    "from keras.utils import plot_model\n",
    "\n",
    "model = make_RNN_model()\n",
    "plot_model(model, show_shapes=True)"
   ]
  },
  {
   "cell_type": "code",
   "execution_count": 16,
   "id": "b22c6f3d",
   "metadata": {
    "execution": {
     "iopub.execute_input": "2023-05-26T18:17:45.229271Z",
     "iopub.status.busy": "2023-05-26T18:17:45.228851Z",
     "iopub.status.idle": "2023-05-26T18:17:45.267124Z",
     "shell.execute_reply": "2023-05-26T18:17:45.265932Z"
    },
    "papermill": {
     "duration": 0.054423,
     "end_time": "2023-05-26T18:17:45.271552",
     "exception": false,
     "start_time": "2023-05-26T18:17:45.217129",
     "status": "completed"
    },
    "tags": []
   },
   "outputs": [
    {
     "name": "stdout",
     "output_type": "stream",
     "text": [
      "Model: \"model\"\n",
      "_________________________________________________________________\n",
      " Layer (type)                Output Shape              Param #   \n",
      "=================================================================\n",
      " input_1 (InputLayer)        [(None, 200)]             0         \n",
      "                                                                 \n",
      " embedding (Embedding)       (None, 200, 100)          150000    \n",
      "                                                                 \n",
      " bidirectional (Bidirectiona  (None, 256)              234496    \n",
      " l)                                                              \n",
      "                                                                 \n",
      " dense (Dense)               (None, 256)               65792     \n",
      "                                                                 \n",
      " activation (Activation)     (None, 256)               0         \n",
      "                                                                 \n",
      " dropout (Dropout)           (None, 256)               0         \n",
      "                                                                 \n",
      " dense_1 (Dense)             (None, 64)                16448     \n",
      "                                                                 \n",
      " activation_1 (Activation)   (None, 64)                0         \n",
      "                                                                 \n",
      " dropout_1 (Dropout)         (None, 64)                0         \n",
      "                                                                 \n",
      " dense_2 (Dense)             (None, 1)                 65        \n",
      "                                                                 \n",
      " activation_2 (Activation)   (None, 1)                 0         \n",
      "                                                                 \n",
      "=================================================================\n",
      "Total params: 466,801\n",
      "Trainable params: 466,801\n",
      "Non-trainable params: 0\n",
      "_________________________________________________________________\n"
     ]
    }
   ],
   "source": [
    "model.summary()"
   ]
  },
  {
   "cell_type": "code",
   "execution_count": 17,
   "id": "746a7183",
   "metadata": {
    "execution": {
     "iopub.execute_input": "2023-05-26T18:17:45.299796Z",
     "iopub.status.busy": "2023-05-26T18:17:45.299394Z",
     "iopub.status.idle": "2023-05-26T18:20:40.937504Z",
     "shell.execute_reply": "2023-05-26T18:20:40.936469Z"
    },
    "papermill": {
     "duration": 175.654826,
     "end_time": "2023-05-26T18:20:40.939554",
     "exception": false,
     "start_time": "2023-05-26T18:17:45.284728",
     "status": "completed"
    },
    "tags": []
   },
   "outputs": [
    {
     "name": "stdout",
     "output_type": "stream",
     "text": [
      "Epoch 1/100\n",
      "15/15 [==============================] - 15s 742ms/step - loss: 0.6967 - accuracy: 0.4943 - val_loss: 0.6928 - val_accuracy: 0.5042\n",
      "Epoch 2/100\n",
      "15/15 [==============================] - 10s 662ms/step - loss: 0.6952 - accuracy: 0.5094 - val_loss: 0.6931 - val_accuracy: 0.4896\n",
      "Epoch 3/100\n",
      "15/15 [==============================] - 10s 668ms/step - loss: 0.6947 - accuracy: 0.4885 - val_loss: 0.6911 - val_accuracy: 0.6500\n",
      "Epoch 4/100\n",
      "15/15 [==============================] - 10s 676ms/step - loss: 0.6891 - accuracy: 0.5297 - val_loss: 0.6823 - val_accuracy: 0.7354\n",
      "Epoch 5/100\n",
      "15/15 [==============================] - 10s 668ms/step - loss: 0.6437 - accuracy: 0.6583 - val_loss: 0.5788 - val_accuracy: 0.7521\n",
      "Epoch 6/100\n",
      "15/15 [==============================] - 10s 693ms/step - loss: 0.5100 - accuracy: 0.7896 - val_loss: 0.4969 - val_accuracy: 0.7563\n",
      "Epoch 7/100\n",
      "15/15 [==============================] - 10s 666ms/step - loss: 0.3850 - accuracy: 0.8552 - val_loss: 0.4895 - val_accuracy: 0.7750\n",
      "Epoch 8/100\n",
      "15/15 [==============================] - 10s 690ms/step - loss: 0.2907 - accuracy: 0.9036 - val_loss: 0.5722 - val_accuracy: 0.7750\n",
      "Epoch 9/100\n",
      "15/15 [==============================] - 10s 663ms/step - loss: 0.2535 - accuracy: 0.9255 - val_loss: 0.6685 - val_accuracy: 0.7750\n",
      "Epoch 10/100\n",
      "15/15 [==============================] - 10s 665ms/step - loss: 0.2213 - accuracy: 0.9318 - val_loss: 0.7016 - val_accuracy: 0.7688\n",
      "Epoch 11/100\n",
      "15/15 [==============================] - 10s 688ms/step - loss: 0.2015 - accuracy: 0.9354 - val_loss: 0.7976 - val_accuracy: 0.7604\n",
      "Epoch 12/100\n",
      "15/15 [==============================] - 10s 671ms/step - loss: 0.1587 - accuracy: 0.9505 - val_loss: 0.8667 - val_accuracy: 0.7750\n",
      "Epoch 13/100\n",
      "15/15 [==============================] - 10s 668ms/step - loss: 0.1488 - accuracy: 0.9589 - val_loss: 0.9030 - val_accuracy: 0.7688\n",
      "Epoch 14/100\n",
      "15/15 [==============================] - 10s 694ms/step - loss: 0.1349 - accuracy: 0.9641 - val_loss: 1.1069 - val_accuracy: 0.7688\n",
      "Epoch 15/100\n",
      "15/15 [==============================] - 10s 667ms/step - loss: 0.1236 - accuracy: 0.9615 - val_loss: 1.1473 - val_accuracy: 0.7833\n",
      "Epoch 16/100\n",
      "15/15 [==============================] - 10s 657ms/step - loss: 0.1216 - accuracy: 0.9615 - val_loss: 1.2357 - val_accuracy: 0.7771\n",
      "Epoch 17/100\n",
      "15/15 [==============================] - 10s 686ms/step - loss: 0.1095 - accuracy: 0.9615 - val_loss: 1.3216 - val_accuracy: 0.7771\n"
     ]
    }
   ],
   "source": [
    "from keras.optimizers import RMSprop\n",
    "from keras.metrics import binary_crossentropy\n",
    "from keras.callbacks import EarlyStopping\n",
    "\n",
    "model.compile(optimizer=RMSprop(), loss=binary_crossentropy, metrics=['accuracy'])\n",
    "callback = EarlyStopping(monitor='val_loss', patience=10, min_delta=0.001)\n",
    "history = model.fit(x=train_seq_matrix,\n",
    "          y=y_train, \n",
    "          epochs=100, \n",
    "          callbacks=[callback], \n",
    "          validation_split=0.2, \n",
    "          batch_size=128)"
   ]
  },
  {
   "cell_type": "code",
   "execution_count": 18,
   "id": "a3f28d01",
   "metadata": {
    "execution": {
     "iopub.execute_input": "2023-05-26T18:20:41.016879Z",
     "iopub.status.busy": "2023-05-26T18:20:41.016266Z",
     "iopub.status.idle": "2023-05-26T18:21:13.301313Z",
     "shell.execute_reply": "2023-05-26T18:21:13.299990Z"
    },
    "papermill": {
     "duration": 32.32625,
     "end_time": "2023-05-26T18:21:13.303719",
     "exception": false,
     "start_time": "2023-05-26T18:20:40.977469",
     "status": "completed"
    },
    "tags": []
   },
   "outputs": [
    {
     "name": "stdout",
     "output_type": "stream",
     "text": [
      "19/19 [==============================] - 2s 103ms/step - loss: 1.5824 - accuracy: 0.7517\n"
     ]
    },
    {
     "data": {
      "text/plain": [
       "[1.5823925733566284, 0.7516666650772095]"
      ]
     },
     "execution_count": 18,
     "metadata": {},
     "output_type": "execute_result"
    }
   ],
   "source": [
    "model.evaluate(test_seq_matrix, y_test)"
   ]
  },
  {
   "cell_type": "code",
   "execution_count": 19,
   "id": "1b9e89fd",
   "metadata": {
    "execution": {
     "iopub.execute_input": "2023-05-26T18:21:13.386592Z",
     "iopub.status.busy": "2023-05-26T18:21:13.386217Z",
     "iopub.status.idle": "2023-05-26T18:21:13.393652Z",
     "shell.execute_reply": "2023-05-26T18:21:13.392668Z"
    },
    "papermill": {
     "duration": 0.051443,
     "end_time": "2023-05-26T18:21:13.396110",
     "exception": false,
     "start_time": "2023-05-26T18:21:13.344667",
     "status": "completed"
    },
    "tags": []
   },
   "outputs": [
    {
     "data": {
      "text/plain": [
       "[[1], [1], [], [1], [1], [1], [], [1], [1], [1], [1], [1]]"
      ]
     },
     "execution_count": 19,
     "metadata": {},
     "output_type": "execute_result"
    }
   ],
   "source": [
    "tokenizer.texts_to_sequences('it was great')"
   ]
  },
  {
   "cell_type": "code",
   "execution_count": 20,
   "id": "5d40de20",
   "metadata": {
    "execution": {
     "iopub.execute_input": "2023-05-26T18:21:13.478863Z",
     "iopub.status.busy": "2023-05-26T18:21:13.478465Z",
     "iopub.status.idle": "2023-05-26T18:21:13.484282Z",
     "shell.execute_reply": "2023-05-26T18:21:13.483184Z"
    },
    "papermill": {
     "duration": 0.050004,
     "end_time": "2023-05-26T18:21:13.487026",
     "exception": false,
     "start_time": "2023-05-26T18:21:13.437022",
     "status": "completed"
    },
    "tags": []
   },
   "outputs": [
    {
     "name": "stdout",
     "output_type": "stream",
     "text": [
      "[1, 131, 82, 1, 633, 44, 517, 518, 1045, 31, 48, 518, 8, 1, 121, 1046]\n"
     ]
    }
   ],
   "source": [
    "print(train_seq[0])"
   ]
  },
  {
   "cell_type": "code",
   "execution_count": 21,
   "id": "d6011f4d",
   "metadata": {
    "execution": {
     "iopub.execute_input": "2023-05-26T18:21:13.570062Z",
     "iopub.status.busy": "2023-05-26T18:21:13.568849Z",
     "iopub.status.idle": "2023-05-26T18:21:13.575885Z",
     "shell.execute_reply": "2023-05-26T18:21:13.574631Z"
    },
    "papermill": {
     "duration": 0.050001,
     "end_time": "2023-05-26T18:21:13.578116",
     "exception": false,
     "start_time": "2023-05-26T18:21:13.528115",
     "status": "completed"
    },
    "tags": []
   },
   "outputs": [],
   "source": [
    "dict = {0 : 'negative', 1 : 'positive'}\n",
    "\n",
    "\n",
    "def predict(sentance, tokenizer, model):\n",
    "    seq = prepare_data(sentance, tokenizer=tokenizer)\n",
    "    pred = model.predict(seq).item()\n",
    "    print(pred)\n",
    "    prediction = np.round(pred)\n",
    "    return dict.get(prediction)"
   ]
  },
  {
   "cell_type": "code",
   "execution_count": 22,
   "id": "4627d19e",
   "metadata": {
    "execution": {
     "iopub.execute_input": "2023-05-26T18:21:13.659476Z",
     "iopub.status.busy": "2023-05-26T18:21:13.659066Z",
     "iopub.status.idle": "2023-05-26T18:21:14.552576Z",
     "shell.execute_reply": "2023-05-26T18:21:14.551454Z"
    },
    "papermill": {
     "duration": 0.937021,
     "end_time": "2023-05-26T18:21:14.554761",
     "exception": false,
     "start_time": "2023-05-26T18:21:13.617740",
     "status": "completed"
    },
    "tags": []
   },
   "outputs": [
    {
     "name": "stdout",
     "output_type": "stream",
     "text": [
      "1/1 [==============================] - 1s 836ms/step\n",
      "0.9558872580528259\n"
     ]
    },
    {
     "data": {
      "text/plain": [
       "'positive'"
      ]
     },
     "execution_count": 22,
     "metadata": {},
     "output_type": "execute_result"
    }
   ],
   "source": [
    "predict('I am not really sure, but i was not happy with the performance overall', tokenizer, model)"
   ]
  }
 ],
 "metadata": {
  "kernelspec": {
   "display_name": "Python 3",
   "language": "python",
   "name": "python3"
  },
  "language_info": {
   "codemirror_mode": {
    "name": "ipython",
    "version": 3
   },
   "file_extension": ".py",
   "mimetype": "text/x-python",
   "name": "python",
   "nbconvert_exporter": "python",
   "pygments_lexer": "ipython3",
   "version": "3.10.10"
  },
  "papermill": {
   "default_parameters": {},
   "duration": 444.816116,
   "end_time": "2023-05-26T18:21:18.058602",
   "environment_variables": {},
   "exception": null,
   "input_path": "__notebook__.ipynb",
   "output_path": "__notebook__.ipynb",
   "parameters": {},
   "start_time": "2023-05-26T18:13:53.242486",
   "version": "2.4.0"
  }
 },
 "nbformat": 4,
 "nbformat_minor": 5
}
