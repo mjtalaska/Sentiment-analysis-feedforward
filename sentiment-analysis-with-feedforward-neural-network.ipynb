{
 "cells": [
  {
   "cell_type": "code",
   "execution_count": 1,
   "id": "a4fe975d",
   "metadata": {
    "_cell_guid": "b1076dfc-b9ad-4769-8c92-a6c4dae69d19",
    "_uuid": "8f2839f25d086af736a60e9eeb907d3b93b6e0e5",
    "execution": {
     "iopub.execute_input": "2023-05-25T13:15:59.010768Z",
     "iopub.status.busy": "2023-05-25T13:15:59.010195Z",
     "iopub.status.idle": "2023-05-25T13:15:59.073487Z",
     "shell.execute_reply": "2023-05-25T13:15:59.072037Z"
    },
    "papermill": {
     "duration": 0.077813,
     "end_time": "2023-05-25T13:15:59.075711",
     "exception": false,
     "start_time": "2023-05-25T13:15:58.997898",
     "status": "completed"
    },
    "tags": []
   },
   "outputs": [
    {
     "name": "stdout",
     "output_type": "stream",
     "text": [
      "/kaggle/input/sentiment-labelled-sentences/sentiment labelled sentences/amazon_cells_labelled.txt\n",
      "/kaggle/input/sentiment-labelled-sentences/sentiment labelled sentences/imdb_labelled.txt\n",
      "/kaggle/input/sentiment-labelled-sentences/sentiment labelled sentences/readme.txt\n",
      "/kaggle/input/sentiment-labelled-sentences/sentiment labelled sentences/yelp_labelled.txt\n"
     ]
    }
   ],
   "source": [
    "# This Python 3 environment comes with many helpful analytics libraries installed\n",
    "# It is defined by the kaggle/python Docker image: https://github.com/kaggle/docker-python\n",
    "# For example, here's several helpful packages to load\n",
    "\n",
    "import numpy as np # linear algebra\n",
    "import pandas as pd # data processing, CSV file I/O (e.g. pd.read_csv)\n",
    "\n",
    "# Input data files are available in the read-only \"../input/\" directory\n",
    "# For example, running this (by clicking run or pressing Shift+Enter) will list all files under the input directory\n",
    "\n",
    "import os\n",
    "for dirname, _, filenames in os.walk('/kaggle/input'):\n",
    "    for filename in filenames:\n",
    "        print(os.path.join(dirname, filename))\n",
    "\n",
    "# You can write up to 20GB to the current directory (/kaggle/working/) that gets preserved as output when you create a version using \"Save & Run All\" \n",
    "# You can also write temporary files to /kaggle/temp/, but they won't be saved outside of the current session"
   ]
  },
  {
   "cell_type": "code",
   "execution_count": 2,
   "id": "35b48807",
   "metadata": {
    "execution": {
     "iopub.execute_input": "2023-05-25T13:15:59.094173Z",
     "iopub.status.busy": "2023-05-25T13:15:59.093890Z",
     "iopub.status.idle": "2023-05-25T13:15:59.139724Z",
     "shell.execute_reply": "2023-05-25T13:15:59.138776Z"
    },
    "papermill": {
     "duration": 0.057618,
     "end_time": "2023-05-25T13:15:59.142100",
     "exception": false,
     "start_time": "2023-05-25T13:15:59.084482",
     "status": "completed"
    },
    "tags": []
   },
   "outputs": [
    {
     "name": "stdout",
     "output_type": "stream",
     "text": [
      "amazon = (1000, 2), imdb = (1000, 2), yelp = (1000, 2)\n"
     ]
    },
    {
     "name": "stderr",
     "output_type": "stream",
     "text": [
      "/tmp/ipykernel_24/3939053422.py:5: ParserWarning: Falling back to the 'python' engine because the 'c' engine does not support regex separators (separators > 1 char and different from '\\s+' are interpreted as regex); you can avoid this warning by specifying engine='python'.\n",
      "  imdb = pd.read_csv('/kaggle/input/sentiment-labelled-sentences/sentiment labelled sentences/imdb_labelled.txt',\n"
     ]
    }
   ],
   "source": [
    "amazon = pd.read_csv('/kaggle/input/sentiment-labelled-sentences/sentiment labelled sentences/amazon_cells_labelled.txt', \n",
    "                     sep='\\t',\n",
    "                     lineterminator='\\n',\n",
    "                     names=['sentance', 'sentiment'] )\n",
    "imdb = pd.read_csv('/kaggle/input/sentiment-labelled-sentences/sentiment labelled sentences/imdb_labelled.txt', \n",
    "                     sep='\\t|\\s{3}',\n",
    "                     lineterminator='\\n',\n",
    "                     names=['sentance', 'sentiment'] )\n",
    "yelp = pd.read_csv('/kaggle/input/sentiment-labelled-sentences/sentiment labelled sentences/yelp_labelled.txt', \n",
    "                     sep='\\t',\n",
    "                     lineterminator='\\n',\n",
    "                     names=['sentance', 'sentiment'] )\n",
    "print(f\"amazon = {amazon.shape}, imdb = {imdb.shape}, yelp = {yelp.shape}\")"
   ]
  },
  {
   "cell_type": "code",
   "execution_count": 3,
   "id": "598fcb58",
   "metadata": {
    "execution": {
     "iopub.execute_input": "2023-05-25T13:15:59.161275Z",
     "iopub.status.busy": "2023-05-25T13:15:59.160988Z",
     "iopub.status.idle": "2023-05-25T13:15:59.170350Z",
     "shell.execute_reply": "2023-05-25T13:15:59.169286Z"
    },
    "papermill": {
     "duration": 0.021251,
     "end_time": "2023-05-25T13:15:59.172426",
     "exception": false,
     "start_time": "2023-05-25T13:15:59.151175",
     "status": "completed"
    },
    "tags": []
   },
   "outputs": [
    {
     "data": {
      "text/plain": [
       "(3000, 2)"
      ]
     },
     "execution_count": 3,
     "metadata": {},
     "output_type": "execute_result"
    }
   ],
   "source": [
    "data = pd.DataFrame(data=np.concatenate([amazon,imdb,yelp], axis=0), columns=['sentance', 'sentiment'])\n",
    "data.shape"
   ]
  },
  {
   "cell_type": "code",
   "execution_count": 4,
   "id": "9b3427d5",
   "metadata": {
    "execution": {
     "iopub.execute_input": "2023-05-25T13:15:59.192088Z",
     "iopub.status.busy": "2023-05-25T13:15:59.191825Z",
     "iopub.status.idle": "2023-05-25T13:15:59.207375Z",
     "shell.execute_reply": "2023-05-25T13:15:59.206288Z"
    },
    "papermill": {
     "duration": 0.02859,
     "end_time": "2023-05-25T13:15:59.209718",
     "exception": false,
     "start_time": "2023-05-25T13:15:59.181128",
     "status": "completed"
    },
    "tags": []
   },
   "outputs": [
    {
     "data": {
      "text/html": [
       "<div>\n",
       "<style scoped>\n",
       "    .dataframe tbody tr th:only-of-type {\n",
       "        vertical-align: middle;\n",
       "    }\n",
       "\n",
       "    .dataframe tbody tr th {\n",
       "        vertical-align: top;\n",
       "    }\n",
       "\n",
       "    .dataframe thead th {\n",
       "        text-align: right;\n",
       "    }\n",
       "</style>\n",
       "<table border=\"1\" class=\"dataframe\">\n",
       "  <thead>\n",
       "    <tr style=\"text-align: right;\">\n",
       "      <th></th>\n",
       "      <th>sentance</th>\n",
       "      <th>sentiment</th>\n",
       "    </tr>\n",
       "  </thead>\n",
       "  <tbody>\n",
       "    <tr>\n",
       "      <th>0</th>\n",
       "      <td>So there is no way for me to plug it in here i...</td>\n",
       "      <td>0</td>\n",
       "    </tr>\n",
       "    <tr>\n",
       "      <th>1</th>\n",
       "      <td>Good case, Excellent value.</td>\n",
       "      <td>1</td>\n",
       "    </tr>\n",
       "    <tr>\n",
       "      <th>2</th>\n",
       "      <td>Great for the jawbone.</td>\n",
       "      <td>1</td>\n",
       "    </tr>\n",
       "    <tr>\n",
       "      <th>3</th>\n",
       "      <td>Tied to charger for conversations lasting more...</td>\n",
       "      <td>0</td>\n",
       "    </tr>\n",
       "    <tr>\n",
       "      <th>4</th>\n",
       "      <td>The mic is great.</td>\n",
       "      <td>1</td>\n",
       "    </tr>\n",
       "    <tr>\n",
       "      <th>...</th>\n",
       "      <td>...</td>\n",
       "      <td>...</td>\n",
       "    </tr>\n",
       "    <tr>\n",
       "      <th>2995</th>\n",
       "      <td>I think food should have flavor and texture an...</td>\n",
       "      <td>0</td>\n",
       "    </tr>\n",
       "    <tr>\n",
       "      <th>2996</th>\n",
       "      <td>Appetite instantly gone.</td>\n",
       "      <td>0</td>\n",
       "    </tr>\n",
       "    <tr>\n",
       "      <th>2997</th>\n",
       "      <td>Overall I was not impressed and would not go b...</td>\n",
       "      <td>0</td>\n",
       "    </tr>\n",
       "    <tr>\n",
       "      <th>2998</th>\n",
       "      <td>The whole experience was underwhelming, and I ...</td>\n",
       "      <td>0</td>\n",
       "    </tr>\n",
       "    <tr>\n",
       "      <th>2999</th>\n",
       "      <td>Then, as if I hadn't wasted enough of my life ...</td>\n",
       "      <td>0</td>\n",
       "    </tr>\n",
       "  </tbody>\n",
       "</table>\n",
       "<p>3000 rows × 2 columns</p>\n",
       "</div>"
      ],
      "text/plain": [
       "                                               sentance sentiment\n",
       "0     So there is no way for me to plug it in here i...         0\n",
       "1                           Good case, Excellent value.         1\n",
       "2                                Great for the jawbone.         1\n",
       "3     Tied to charger for conversations lasting more...         0\n",
       "4                                     The mic is great.         1\n",
       "...                                                 ...       ...\n",
       "2995  I think food should have flavor and texture an...         0\n",
       "2996                           Appetite instantly gone.         0\n",
       "2997  Overall I was not impressed and would not go b...         0\n",
       "2998  The whole experience was underwhelming, and I ...         0\n",
       "2999  Then, as if I hadn't wasted enough of my life ...         0\n",
       "\n",
       "[3000 rows x 2 columns]"
      ]
     },
     "execution_count": 4,
     "metadata": {},
     "output_type": "execute_result"
    }
   ],
   "source": [
    "data"
   ]
  },
  {
   "cell_type": "code",
   "execution_count": 5,
   "id": "3786e27d",
   "metadata": {
    "execution": {
     "iopub.execute_input": "2023-05-25T13:15:59.229889Z",
     "iopub.status.busy": "2023-05-25T13:15:59.229623Z",
     "iopub.status.idle": "2023-05-25T13:15:59.243302Z",
     "shell.execute_reply": "2023-05-25T13:15:59.242299Z"
    },
    "papermill": {
     "duration": 0.025532,
     "end_time": "2023-05-25T13:15:59.245355",
     "exception": false,
     "start_time": "2023-05-25T13:15:59.219823",
     "status": "completed"
    },
    "tags": []
   },
   "outputs": [
    {
     "data": {
      "text/html": [
       "<div>\n",
       "<style scoped>\n",
       "    .dataframe tbody tr th:only-of-type {\n",
       "        vertical-align: middle;\n",
       "    }\n",
       "\n",
       "    .dataframe tbody tr th {\n",
       "        vertical-align: top;\n",
       "    }\n",
       "\n",
       "    .dataframe thead th {\n",
       "        text-align: right;\n",
       "    }\n",
       "</style>\n",
       "<table border=\"1\" class=\"dataframe\">\n",
       "  <thead>\n",
       "    <tr style=\"text-align: right;\">\n",
       "      <th></th>\n",
       "      <th>sentance</th>\n",
       "      <th>sentiment</th>\n",
       "    </tr>\n",
       "  </thead>\n",
       "  <tbody>\n",
       "    <tr>\n",
       "      <th>0</th>\n",
       "      <td>so there is no way for me to plug it in here i...</td>\n",
       "      <td>0</td>\n",
       "    </tr>\n",
       "    <tr>\n",
       "      <th>1</th>\n",
       "      <td>good case, excellent value.</td>\n",
       "      <td>1</td>\n",
       "    </tr>\n",
       "    <tr>\n",
       "      <th>2</th>\n",
       "      <td>great for the jawbone.</td>\n",
       "      <td>1</td>\n",
       "    </tr>\n",
       "    <tr>\n",
       "      <th>3</th>\n",
       "      <td>tied to charger for conversations lasting more...</td>\n",
       "      <td>0</td>\n",
       "    </tr>\n",
       "    <tr>\n",
       "      <th>4</th>\n",
       "      <td>the mic is great.</td>\n",
       "      <td>1</td>\n",
       "    </tr>\n",
       "    <tr>\n",
       "      <th>...</th>\n",
       "      <td>...</td>\n",
       "      <td>...</td>\n",
       "    </tr>\n",
       "    <tr>\n",
       "      <th>2995</th>\n",
       "      <td>i think food should have flavor and texture an...</td>\n",
       "      <td>0</td>\n",
       "    </tr>\n",
       "    <tr>\n",
       "      <th>2996</th>\n",
       "      <td>appetite instantly gone.</td>\n",
       "      <td>0</td>\n",
       "    </tr>\n",
       "    <tr>\n",
       "      <th>2997</th>\n",
       "      <td>overall i was not impressed and would not go b...</td>\n",
       "      <td>0</td>\n",
       "    </tr>\n",
       "    <tr>\n",
       "      <th>2998</th>\n",
       "      <td>the whole experience was underwhelming, and i ...</td>\n",
       "      <td>0</td>\n",
       "    </tr>\n",
       "    <tr>\n",
       "      <th>2999</th>\n",
       "      <td>then, as if i hadn't wasted enough of my life ...</td>\n",
       "      <td>0</td>\n",
       "    </tr>\n",
       "  </tbody>\n",
       "</table>\n",
       "<p>3000 rows × 2 columns</p>\n",
       "</div>"
      ],
      "text/plain": [
       "                                               sentance sentiment\n",
       "0     so there is no way for me to plug it in here i...         0\n",
       "1                           good case, excellent value.         1\n",
       "2                                great for the jawbone.         1\n",
       "3     tied to charger for conversations lasting more...         0\n",
       "4                                     the mic is great.         1\n",
       "...                                                 ...       ...\n",
       "2995  i think food should have flavor and texture an...         0\n",
       "2996                           appetite instantly gone.         0\n",
       "2997  overall i was not impressed and would not go b...         0\n",
       "2998  the whole experience was underwhelming, and i ...         0\n",
       "2999  then, as if i hadn't wasted enough of my life ...         0\n",
       "\n",
       "[3000 rows x 2 columns]"
      ]
     },
     "execution_count": 5,
     "metadata": {},
     "output_type": "execute_result"
    }
   ],
   "source": [
    "data['sentance'] = data['sentance'].str.lower()\n",
    "data"
   ]
  },
  {
   "cell_type": "code",
   "execution_count": 6,
   "id": "fa534fb5",
   "metadata": {
    "execution": {
     "iopub.execute_input": "2023-05-25T13:15:59.266164Z",
     "iopub.status.busy": "2023-05-25T13:15:59.265441Z",
     "iopub.status.idle": "2023-05-25T13:16:11.673957Z",
     "shell.execute_reply": "2023-05-25T13:16:11.672716Z"
    },
    "papermill": {
     "duration": 12.421211,
     "end_time": "2023-05-25T13:16:11.676614",
     "exception": false,
     "start_time": "2023-05-25T13:15:59.255403",
     "status": "completed"
    },
    "tags": []
   },
   "outputs": [
    {
     "name": "stdout",
     "output_type": "stream",
     "text": [
      "Collecting pyspellchecker\r\n",
      "  Downloading pyspellchecker-0.7.2-py3-none-any.whl (3.4 MB)\r\n",
      "\u001b[2K     \u001b[90m━━━━━━━━━━━━━━━━━━━━━━━━━━━━━━━━━━━━━━━━\u001b[0m \u001b[32m3.4/3.4 MB\u001b[0m \u001b[31m30.3 MB/s\u001b[0m eta \u001b[36m0:00:00\u001b[0m\r\n",
      "\u001b[?25hInstalling collected packages: pyspellchecker\r\n",
      "Successfully installed pyspellchecker-0.7.2\r\n",
      "\u001b[33mWARNING: Running pip as the 'root' user can result in broken permissions and conflicting behaviour with the system package manager. It is recommended to use a virtual environment instead: https://pip.pypa.io/warnings/venv\u001b[0m\u001b[33m\r\n",
      "\u001b[0m"
     ]
    }
   ],
   "source": [
    "!pip install pyspellchecker\n",
    "from spellchecker import SpellChecker\n",
    "sc = SpellChecker()"
   ]
  },
  {
   "cell_type": "code",
   "execution_count": 7,
   "id": "1b5d1aa1",
   "metadata": {
    "execution": {
     "iopub.execute_input": "2023-05-25T13:16:11.700250Z",
     "iopub.status.busy": "2023-05-25T13:16:11.699215Z",
     "iopub.status.idle": "2023-05-25T13:16:11.706929Z",
     "shell.execute_reply": "2023-05-25T13:16:11.705985Z"
    },
    "papermill": {
     "duration": 0.021972,
     "end_time": "2023-05-25T13:16:11.709142",
     "exception": false,
     "start_time": "2023-05-25T13:16:11.687170",
     "status": "completed"
    },
    "tags": []
   },
   "outputs": [
    {
     "name": "stdout",
     "output_type": "stream",
     "text": [
      "In this sentance our job my lord is to remove all the punctuation\n"
     ]
    }
   ],
   "source": [
    "import string\n",
    "\n",
    "def remove_punc(sentance):\n",
    "    return sentance.translate(str.maketrans('','',string.punctuation))\n",
    "\n",
    "print(remove_punc('In this sentance, our job, my lord, is to remove all the punctuation!'))"
   ]
  },
  {
   "cell_type": "code",
   "execution_count": 8,
   "id": "77c6af05",
   "metadata": {
    "execution": {
     "iopub.execute_input": "2023-05-25T13:16:11.731946Z",
     "iopub.status.busy": "2023-05-25T13:16:11.730416Z",
     "iopub.status.idle": "2023-05-25T13:16:11.738409Z",
     "shell.execute_reply": "2023-05-25T13:16:11.737374Z"
    },
    "papermill": {
     "duration": 0.021087,
     "end_time": "2023-05-25T13:16:11.740531",
     "exception": false,
     "start_time": "2023-05-25T13:16:11.719444",
     "status": "completed"
    },
    "tags": []
   },
   "outputs": [
    {
     "name": "stdout",
     "output_type": "stream",
     "text": [
      "its spelling time\n"
     ]
    }
   ],
   "source": [
    "def correct(sentance):\n",
    "    misspelled = sc.unknown(str(sentance).split())\n",
    "    correct = [sc.correction(w) if w in misspelled else w for w in sentance.split()]\n",
    "    return \" \".join(filter(lambda c : c is not None, correct))\n",
    "\n",
    "print(correct('its spellinf timr'))"
   ]
  },
  {
   "cell_type": "code",
   "execution_count": 9,
   "id": "090de6e2",
   "metadata": {
    "execution": {
     "iopub.execute_input": "2023-05-25T13:16:11.762283Z",
     "iopub.status.busy": "2023-05-25T13:16:11.761469Z",
     "iopub.status.idle": "2023-05-25T13:16:13.161333Z",
     "shell.execute_reply": "2023-05-25T13:16:13.160113Z"
    },
    "papermill": {
     "duration": 1.413326,
     "end_time": "2023-05-25T13:16:13.163906",
     "exception": false,
     "start_time": "2023-05-25T13:16:11.750580",
     "status": "completed"
    },
    "tags": []
   },
   "outputs": [
    {
     "name": "stderr",
     "output_type": "stream",
     "text": [
      "/opt/conda/lib/python3.10/site-packages/scipy/__init__.py:146: UserWarning: A NumPy version >=1.16.5 and <1.23.0 is required for this version of SciPy (detected version 1.23.5\n",
      "  warnings.warn(f\"A NumPy version >={np_minversion} and <{np_maxversion}\"\n"
     ]
    },
    {
     "name": "stdout",
     "output_type": "stream",
     "text": [
      "know longer stop, even bother\n"
     ]
    }
   ],
   "source": [
    "from nltk.corpus import stopwords\n",
    "\n",
    "def remove_stop(sentance):\n",
    "    correct = [w for w in sentance.split() if w not in stopwords.words('english')]\n",
    "    return \" \".join(correct)\n",
    "\n",
    "print(remove_stop('i know there is no longer stop, so why even bother'))"
   ]
  },
  {
   "cell_type": "code",
   "execution_count": 10,
   "id": "d753b386",
   "metadata": {
    "execution": {
     "iopub.execute_input": "2023-05-25T13:16:13.186180Z",
     "iopub.status.busy": "2023-05-25T13:16:13.185307Z",
     "iopub.status.idle": "2023-05-25T13:16:13.192337Z",
     "shell.execute_reply": "2023-05-25T13:16:13.191254Z"
    },
    "papermill": {
     "duration": 0.019954,
     "end_time": "2023-05-25T13:16:13.194392",
     "exception": false,
     "start_time": "2023-05-25T13:16:13.174438",
     "status": "completed"
    },
    "tags": []
   },
   "outputs": [
    {
     "name": "stdout",
     "output_type": "stream",
     "text": [
      "and now it is time to final stem thi hell of a sentance, am I right, fellas?\n"
     ]
    }
   ],
   "source": [
    "from nltk.stem.porter import PorterStemmer\n",
    "stemmer = PorterStemmer()\n",
    "\n",
    "def stemming(sentance):\n",
    "    correct = [stemmer.stem(w) for w in sentance.split()]\n",
    "    return \" \".join(correct)\n",
    "\n",
    "print(stemming('And now it is time to finally stem this hell of a sentance, am I right, fellas?'))"
   ]
  },
  {
   "cell_type": "code",
   "execution_count": 11,
   "id": "80413ce9",
   "metadata": {
    "execution": {
     "iopub.execute_input": "2023-05-25T13:16:13.216211Z",
     "iopub.status.busy": "2023-05-25T13:16:13.215352Z",
     "iopub.status.idle": "2023-05-25T13:16:13.220399Z",
     "shell.execute_reply": "2023-05-25T13:16:13.219535Z"
    },
    "papermill": {
     "duration": 0.017947,
     "end_time": "2023-05-25T13:16:13.222466",
     "exception": false,
     "start_time": "2023-05-25T13:16:13.204519",
     "status": "completed"
    },
    "tags": []
   },
   "outputs": [],
   "source": [
    "def remove_numbers(sentance):\n",
    "    return \" \".join([s for s in sentance.split() if not s.isdigit()])"
   ]
  },
  {
   "cell_type": "code",
   "execution_count": 12,
   "id": "67b46085",
   "metadata": {
    "execution": {
     "iopub.execute_input": "2023-05-25T13:16:13.244647Z",
     "iopub.status.busy": "2023-05-25T13:16:13.244010Z",
     "iopub.status.idle": "2023-05-25T13:16:13.250064Z",
     "shell.execute_reply": "2023-05-25T13:16:13.249198Z"
    },
    "papermill": {
     "duration": 0.019567,
     "end_time": "2023-05-25T13:16:13.252046",
     "exception": false,
     "start_time": "2023-05-25T13:16:13.232479",
     "status": "completed"
    },
    "tags": []
   },
   "outputs": [],
   "source": [
    "def prepare_data(sentance, vectorizer=None):\n",
    "    sentance = remove_punc(sentance)\n",
    "    sentance = correct(sentance)\n",
    "    sentance = remove_stop(sentance)\n",
    "    sentance = stemming(sentance)\n",
    "    sentance = remove_numbers(sentance)\n",
    "    if vectorizer is None:\n",
    "        return sentance\n",
    "    else: \n",
    "        return np.asarray(vectorizer(sentance).numpy(), dtype='float32').reshape(1,-1)"
   ]
  },
  {
   "cell_type": "code",
   "execution_count": 13,
   "id": "8d606eed",
   "metadata": {
    "execution": {
     "iopub.execute_input": "2023-05-25T13:16:13.273845Z",
     "iopub.status.busy": "2023-05-25T13:16:13.273080Z",
     "iopub.status.idle": "2023-05-25T13:16:13.281634Z",
     "shell.execute_reply": "2023-05-25T13:16:13.280668Z"
    },
    "papermill": {
     "duration": 0.021097,
     "end_time": "2023-05-25T13:16:13.283626",
     "exception": false,
     "start_time": "2023-05-25T13:16:13.262529",
     "status": "completed"
    },
    "tags": []
   },
   "outputs": [
    {
     "data": {
      "text/plain": [
       "0       so there is no way for me to plug it in here i...\n",
       "1                             good case, excellent value.\n",
       "2                                  great for the jawbone.\n",
       "3       tied to charger for conversations lasting more...\n",
       "4                                       the mic is great.\n",
       "                              ...                        \n",
       "2995    i think food should have flavor and texture an...\n",
       "2996                             appetite instantly gone.\n",
       "2997    overall i was not impressed and would not go b...\n",
       "2998    the whole experience was underwhelming, and i ...\n",
       "2999    then, as if i hadn't wasted enough of my life ...\n",
       "Name: sentance, Length: 3000, dtype: object"
      ]
     },
     "execution_count": 13,
     "metadata": {},
     "output_type": "execute_result"
    }
   ],
   "source": [
    "x = data['sentance']\n",
    "y = data['sentiment']\n",
    "x"
   ]
  },
  {
   "cell_type": "code",
   "execution_count": 14,
   "id": "17b5ef5a",
   "metadata": {
    "execution": {
     "iopub.execute_input": "2023-05-25T13:16:13.305714Z",
     "iopub.status.busy": "2023-05-25T13:16:13.304887Z",
     "iopub.status.idle": "2023-05-25T13:16:13.322280Z",
     "shell.execute_reply": "2023-05-25T13:16:13.321443Z"
    },
    "papermill": {
     "duration": 0.030312,
     "end_time": "2023-05-25T13:16:13.324249",
     "exception": false,
     "start_time": "2023-05-25T13:16:13.293937",
     "status": "completed"
    },
    "tags": []
   },
   "outputs": [],
   "source": [
    "x = x.map(lambda x : remove_punc(x))\n"
   ]
  },
  {
   "cell_type": "code",
   "execution_count": 15,
   "id": "a697e727",
   "metadata": {
    "execution": {
     "iopub.execute_input": "2023-05-25T13:16:13.345531Z",
     "iopub.status.busy": "2023-05-25T13:16:13.345243Z",
     "iopub.status.idle": "2023-05-25T13:18:55.633100Z",
     "shell.execute_reply": "2023-05-25T13:18:55.632198Z"
    },
    "papermill": {
     "duration": 162.307625,
     "end_time": "2023-05-25T13:18:55.641774",
     "exception": false,
     "start_time": "2023-05-25T13:16:13.334149",
     "status": "completed"
    },
    "tags": []
   },
   "outputs": [
    {
     "data": {
      "text/plain": [
       "0       so there is no way for me to plug it in here i...\n",
       "1                               good case excellent value\n",
       "2                                   great for the jawbone\n",
       "3       tied to charger for conversations lasting more...\n",
       "4                                        the mic is great\n",
       "                              ...                        \n",
       "2995    i think food should have flavor and texture an...\n",
       "2996                              appetite instantly gone\n",
       "2997    overall i was not impressed and would not go back\n",
       "2998    the whole experience was underwhelming and i t...\n",
       "2999    then as if i hadnt wasted enough of my life th...\n",
       "Name: sentance, Length: 3000, dtype: object"
      ]
     },
     "execution_count": 15,
     "metadata": {},
     "output_type": "execute_result"
    }
   ],
   "source": [
    "x = x.map(lambda x : correct(x))\n",
    "x"
   ]
  },
  {
   "cell_type": "code",
   "execution_count": 16,
   "id": "6f28cb26",
   "metadata": {
    "execution": {
     "iopub.execute_input": "2023-05-25T13:18:55.663717Z",
     "iopub.status.busy": "2023-05-25T13:18:55.663146Z",
     "iopub.status.idle": "2023-05-25T13:18:59.687222Z",
     "shell.execute_reply": "2023-05-25T13:18:59.686032Z"
    },
    "papermill": {
     "duration": 4.038243,
     "end_time": "2023-05-25T13:18:59.690469",
     "exception": false,
     "start_time": "2023-05-25T13:18:55.652226",
     "status": "completed"
    },
    "tags": []
   },
   "outputs": [
    {
     "data": {
      "text/plain": [
       "0                         way plug us unless go converter\n",
       "1                               good case excellent value\n",
       "2                                           great jawbone\n",
       "3          tied charger conversations lasting 45 problems\n",
       "4                                               mic great\n",
       "                              ...                        \n",
       "2995                    think food flavor texture lacking\n",
       "2996                              appetite instantly gone\n",
       "2997                      overall impressed would go back\n",
       "2998    whole experience underwhelming think well go n...\n",
       "2999    hadnt wasted enough life poured salt wound dra...\n",
       "Name: sentance, Length: 3000, dtype: object"
      ]
     },
     "execution_count": 16,
     "metadata": {},
     "output_type": "execute_result"
    }
   ],
   "source": [
    "x = x.map(lambda x : remove_stop(x))\n",
    "x"
   ]
  },
  {
   "cell_type": "code",
   "execution_count": 17,
   "id": "6d2c35d7",
   "metadata": {
    "execution": {
     "iopub.execute_input": "2023-05-25T13:18:59.713226Z",
     "iopub.status.busy": "2023-05-25T13:18:59.712927Z",
     "iopub.status.idle": "2023-05-25T13:19:00.328142Z",
     "shell.execute_reply": "2023-05-25T13:19:00.327158Z"
    },
    "papermill": {
     "duration": 0.629319,
     "end_time": "2023-05-25T13:19:00.330507",
     "exception": false,
     "start_time": "2023-05-25T13:18:59.701188",
     "status": "completed"
    },
    "tags": []
   },
   "outputs": [
    {
     "data": {
      "text/plain": [
       "0                           way plug us unless go convert\n",
       "1                                    good case excel valu\n",
       "2                                            great jawbon\n",
       "3                     tie charger convers last 45 problem\n",
       "4                                               mic great\n",
       "                              ...                        \n",
       "2995                        think food flavor textur lack\n",
       "2996                               appetit instantli gone\n",
       "2997                         overal impress would go back\n",
       "2998    whole experi underwhelm think well go ninja su...\n",
       "2999    hadnt wast enough life pour salt wound draw ti...\n",
       "Name: sentance, Length: 3000, dtype: object"
      ]
     },
     "execution_count": 17,
     "metadata": {},
     "output_type": "execute_result"
    }
   ],
   "source": [
    "x = x.map(lambda x : stemming(x))\n",
    "x"
   ]
  },
  {
   "cell_type": "code",
   "execution_count": 18,
   "id": "42ae8a8a",
   "metadata": {
    "execution": {
     "iopub.execute_input": "2023-05-25T13:19:00.353916Z",
     "iopub.status.busy": "2023-05-25T13:19:00.353132Z",
     "iopub.status.idle": "2023-05-25T13:19:00.367695Z",
     "shell.execute_reply": "2023-05-25T13:19:00.366703Z"
    },
    "papermill": {
     "duration": 0.029085,
     "end_time": "2023-05-25T13:19:00.370439",
     "exception": false,
     "start_time": "2023-05-25T13:19:00.341354",
     "status": "completed"
    },
    "tags": []
   },
   "outputs": [
    {
     "data": {
      "text/plain": [
       "0                           way plug us unless go convert\n",
       "1                                    good case excel valu\n",
       "2                                            great jawbon\n",
       "3                        tie charger convers last problem\n",
       "4                                               mic great\n",
       "                              ...                        \n",
       "2995                        think food flavor textur lack\n",
       "2996                               appetit instantli gone\n",
       "2997                         overal impress would go back\n",
       "2998    whole experi underwhelm think well go ninja su...\n",
       "2999    hadnt wast enough life pour salt wound draw ti...\n",
       "Name: sentance, Length: 3000, dtype: object"
      ]
     },
     "execution_count": 18,
     "metadata": {},
     "output_type": "execute_result"
    }
   ],
   "source": [
    "x = x.map(lambda x : remove_numbers(x))\n",
    "x"
   ]
  },
  {
   "cell_type": "code",
   "execution_count": 19,
   "id": "55a4a414",
   "metadata": {
    "execution": {
     "iopub.execute_input": "2023-05-25T13:19:00.394038Z",
     "iopub.status.busy": "2023-05-25T13:19:00.393380Z",
     "iopub.status.idle": "2023-05-25T13:19:12.371163Z",
     "shell.execute_reply": "2023-05-25T13:19:12.370151Z"
    },
    "papermill": {
     "duration": 11.992631,
     "end_time": "2023-05-25T13:19:12.373876",
     "exception": false,
     "start_time": "2023-05-25T13:19:00.381245",
     "status": "completed"
    },
    "tags": []
   },
   "outputs": [],
   "source": [
    "from keras.layers import TextVectorization\n",
    "import tensorflow as tf\n",
    "data_to_adapt = tf.constant(x)\n",
    "\n",
    "n = 7\n",
    "vectorizer = TextVectorization(output_mode='tf-idf', ngrams=n)\n",
    "vectorizer.adapt(data_to_adapt)"
   ]
  },
  {
   "cell_type": "code",
   "execution_count": 20,
   "id": "aa826498",
   "metadata": {
    "execution": {
     "iopub.execute_input": "2023-05-25T13:19:12.398053Z",
     "iopub.status.busy": "2023-05-25T13:19:12.397746Z",
     "iopub.status.idle": "2023-05-25T13:19:12.482239Z",
     "shell.execute_reply": "2023-05-25T13:19:12.481354Z"
    },
    "papermill": {
     "duration": 0.098978,
     "end_time": "2023-05-25T13:19:12.484746",
     "exception": false,
     "start_time": "2023-05-25T13:19:12.385768",
     "status": "completed"
    },
    "tags": []
   },
   "outputs": [
    {
     "data": {
      "text/plain": [
       "array([0., 0., 0., ..., 0., 0., 0.], dtype=float32)"
      ]
     },
     "execution_count": 20,
     "metadata": {},
     "output_type": "execute_result"
    }
   ],
   "source": [
    "vectorizer(x[0]).numpy()"
   ]
  },
  {
   "cell_type": "code",
   "execution_count": 21,
   "id": "ea18f12c",
   "metadata": {
    "execution": {
     "iopub.execute_input": "2023-05-25T13:19:12.509136Z",
     "iopub.status.busy": "2023-05-25T13:19:12.508294Z",
     "iopub.status.idle": "2023-05-25T13:19:13.102564Z",
     "shell.execute_reply": "2023-05-25T13:19:13.101661Z"
    },
    "papermill": {
     "duration": 0.608143,
     "end_time": "2023-05-25T13:19:13.104646",
     "exception": false,
     "start_time": "2023-05-25T13:19:12.496503",
     "status": "completed"
    },
    "tags": []
   },
   "outputs": [
    {
     "data": {
      "image/png": "[encoded data removed]",
      "text/plain": [
       "<IPython.core.display.Image object>"
      ]
     },
     "execution_count": 21,
     "metadata": {},
     "output_type": "execute_result"
    }
   ],
   "source": [
    "from keras.layers import Input, Dropout, Dense, Activation, BatchNormalization\n",
    "from keras import Model\n",
    "from keras.utils import plot_model\n",
    "\n",
    "latent = [4096, 1024, 512, 128, 64]\n",
    "\n",
    "inputs = Input(shape=(vectorizer.vocabulary_size(), ))\n",
    "layer = inputs\n",
    "\n",
    "for l in latent:\n",
    "    layer = Dense(l, activation='relu')(layer)\n",
    "    layer = BatchNormalization()(layer)\n",
    "    layer = Dropout(0.4)(layer)\n",
    "\n",
    "outputs = Dense(1, activation='sigmoid')(layer)\n",
    "\n",
    "model = Model(inputs, outputs)\n",
    "plot_model(model, show_shapes=True)"
   ]
  },
  {
   "cell_type": "code",
   "execution_count": 22,
   "id": "58944e36",
   "metadata": {
    "execution": {
     "iopub.execute_input": "2023-05-25T13:19:13.132044Z",
     "iopub.status.busy": "2023-05-25T13:19:13.131751Z",
     "iopub.status.idle": "2023-05-25T13:19:58.643828Z",
     "shell.execute_reply": "2023-05-25T13:19:58.642846Z"
    },
    "papermill": {
     "duration": 45.52863,
     "end_time": "2023-05-25T13:19:58.646182",
     "exception": false,
     "start_time": "2023-05-25T13:19:13.117552",
     "status": "completed"
    },
    "tags": []
   },
   "outputs": [],
   "source": [
    "from sklearn.model_selection import train_test_split\n",
    "\n",
    "x_data = x.map(lambda x : vectorizer(x).numpy())"
   ]
  },
  {
   "cell_type": "code",
   "execution_count": 23,
   "id": "127a878b",
   "metadata": {
    "execution": {
     "iopub.execute_input": "2023-05-25T13:19:58.674463Z",
     "iopub.status.busy": "2023-05-25T13:19:58.673588Z",
     "iopub.status.idle": "2023-05-25T13:19:59.426979Z",
     "shell.execute_reply": "2023-05-25T13:19:59.425838Z"
    },
    "papermill": {
     "duration": 0.769981,
     "end_time": "2023-05-25T13:19:59.429688",
     "exception": false,
     "start_time": "2023-05-25T13:19:58.659707",
     "status": "completed"
    },
    "tags": []
   },
   "outputs": [],
   "source": [
    "x_data = np.asarray([e.astype('float32') for e in x_data])"
   ]
  },
  {
   "cell_type": "code",
   "execution_count": 24,
   "id": "756c2991",
   "metadata": {
    "execution": {
     "iopub.execute_input": "2023-05-25T13:19:59.458906Z",
     "iopub.status.busy": "2023-05-25T13:19:59.457884Z",
     "iopub.status.idle": "2023-05-25T13:19:59.463381Z",
     "shell.execute_reply": "2023-05-25T13:19:59.462392Z"
    },
    "papermill": {
     "duration": 0.022326,
     "end_time": "2023-05-25T13:19:59.465567",
     "exception": false,
     "start_time": "2023-05-25T13:19:59.443241",
     "status": "completed"
    },
    "tags": []
   },
   "outputs": [],
   "source": [
    "y_data = np.asarray(y, dtype='float32')"
   ]
  },
  {
   "cell_type": "code",
   "execution_count": 25,
   "id": "ae9957dd",
   "metadata": {
    "execution": {
     "iopub.execute_input": "2023-05-25T13:19:59.492688Z",
     "iopub.status.busy": "2023-05-25T13:19:59.492409Z",
     "iopub.status.idle": "2023-05-25T13:19:59.900580Z",
     "shell.execute_reply": "2023-05-25T13:19:59.899520Z"
    },
    "papermill": {
     "duration": 0.424702,
     "end_time": "2023-05-25T13:19:59.903461",
     "exception": false,
     "start_time": "2023-05-25T13:19:59.478759",
     "status": "completed"
    },
    "tags": []
   },
   "outputs": [],
   "source": [
    "x_train, x_test, y_train, y_test = train_test_split(x_data, y_data, test_size=0.2, stratify=y, random_state=1234)\n",
    "x_train, x_val, y_train, y_val = train_test_split(x_train, y_train, test_size=0.2, random_state=1234)"
   ]
  },
  {
   "cell_type": "code",
   "execution_count": 26,
   "id": "94fbdbe3",
   "metadata": {
    "execution": {
     "iopub.execute_input": "2023-05-25T13:19:59.936502Z",
     "iopub.status.busy": "2023-05-25T13:19:59.936152Z",
     "iopub.status.idle": "2023-05-25T13:20:53.577271Z",
     "shell.execute_reply": "2023-05-25T13:20:53.576257Z"
    },
    "papermill": {
     "duration": 53.65721,
     "end_time": "2023-05-25T13:20:53.579640",
     "exception": false,
     "start_time": "2023-05-25T13:19:59.922430",
     "status": "completed"
    },
    "tags": []
   },
   "outputs": [
    {
     "name": "stdout",
     "output_type": "stream",
     "text": [
      "Epoch 1/50\n",
      "30/30 [==============================] - 6s 80ms/step - loss: 0.2538 - accuracy: 0.6365 - val_loss: 0.4595 - val_accuracy: 0.5271\n",
      "Epoch 2/50\n",
      "30/30 [==============================] - 2s 68ms/step - loss: 0.1314 - accuracy: 0.8266 - val_loss: 0.2209 - val_accuracy: 0.7542\n",
      "Epoch 3/50\n",
      "30/30 [==============================] - 2s 69ms/step - loss: 0.0605 - accuracy: 0.9182 - val_loss: 0.2363 - val_accuracy: 0.7417\n",
      "Epoch 4/50\n",
      "30/30 [==============================] - 2s 60ms/step - loss: 0.0362 - accuracy: 0.9531 - val_loss: 0.2575 - val_accuracy: 0.7063\n",
      "Epoch 5/50\n",
      "30/30 [==============================] - 2s 60ms/step - loss: 0.0300 - accuracy: 0.9594 - val_loss: 0.2407 - val_accuracy: 0.7188\n",
      "Epoch 6/50\n",
      "30/30 [==============================] - 2s 61ms/step - loss: 0.0290 - accuracy: 0.9630 - val_loss: 0.1796 - val_accuracy: 0.7646\n",
      "Epoch 7/50\n",
      "30/30 [==============================] - 2s 61ms/step - loss: 0.0213 - accuracy: 0.9724 - val_loss: 0.2266 - val_accuracy: 0.7417\n",
      "Epoch 8/50\n",
      "30/30 [==============================] - 2s 63ms/step - loss: 0.0218 - accuracy: 0.9729 - val_loss: 0.2347 - val_accuracy: 0.7146\n",
      "Epoch 9/50\n",
      "30/30 [==============================] - 2s 64ms/step - loss: 0.0321 - accuracy: 0.9594 - val_loss: 0.3288 - val_accuracy: 0.6229\n",
      "Epoch 10/50\n",
      "30/30 [==============================] - 2s 61ms/step - loss: 0.0309 - accuracy: 0.9594 - val_loss: 0.2069 - val_accuracy: 0.7292\n",
      "Epoch 11/50\n",
      "30/30 [==============================] - 2s 62ms/step - loss: 0.0275 - accuracy: 0.9667 - val_loss: 0.1688 - val_accuracy: 0.8021\n",
      "Epoch 12/50\n",
      "30/30 [==============================] - 2s 61ms/step - loss: 0.0190 - accuracy: 0.9729 - val_loss: 0.2166 - val_accuracy: 0.7333\n",
      "Epoch 13/50\n",
      "30/30 [==============================] - 2s 64ms/step - loss: 0.0152 - accuracy: 0.9818 - val_loss: 0.1718 - val_accuracy: 0.7771\n",
      "Epoch 14/50\n",
      "30/30 [==============================] - 2s 62ms/step - loss: 0.0185 - accuracy: 0.9771 - val_loss: 0.1998 - val_accuracy: 0.7437\n",
      "Epoch 15/50\n",
      "30/30 [==============================] - 2s 61ms/step - loss: 0.0208 - accuracy: 0.9734 - val_loss: 0.2750 - val_accuracy: 0.6646\n",
      "Epoch 16/50\n",
      "30/30 [==============================] - 2s 62ms/step - loss: 0.0185 - accuracy: 0.9766 - val_loss: 0.1675 - val_accuracy: 0.7833\n",
      "Epoch 17/50\n",
      "30/30 [==============================] - 2s 61ms/step - loss: 0.0201 - accuracy: 0.9766 - val_loss: 0.1860 - val_accuracy: 0.7729\n",
      "Epoch 18/50\n",
      "30/30 [==============================] - 2s 63ms/step - loss: 0.0203 - accuracy: 0.9740 - val_loss: 0.2735 - val_accuracy: 0.6625\n",
      "Epoch 19/50\n",
      "30/30 [==============================] - 2s 64ms/step - loss: 0.0215 - accuracy: 0.9729 - val_loss: 0.1824 - val_accuracy: 0.7542\n",
      "Epoch 20/50\n",
      "30/30 [==============================] - 2s 64ms/step - loss: 0.0184 - accuracy: 0.9760 - val_loss: 0.2177 - val_accuracy: 0.7250\n",
      "Epoch 21/50\n",
      "30/30 [==============================] - 2s 62ms/step - loss: 0.0196 - accuracy: 0.9750 - val_loss: 0.2542 - val_accuracy: 0.6854\n",
      "Epoch 22/50\n",
      "30/30 [==============================] - 2s 61ms/step - loss: 0.0163 - accuracy: 0.9792 - val_loss: 0.1836 - val_accuracy: 0.7708\n",
      "Epoch 23/50\n",
      "30/30 [==============================] - 2s 61ms/step - loss: 0.0173 - accuracy: 0.9781 - val_loss: 0.1771 - val_accuracy: 0.7854\n",
      "Epoch 24/50\n",
      "30/30 [==============================] - 2s 62ms/step - loss: 0.0205 - accuracy: 0.9745 - val_loss: 0.2372 - val_accuracy: 0.7021\n",
      "Epoch 25/50\n",
      "30/30 [==============================] - 2s 62ms/step - loss: 0.0148 - accuracy: 0.9807 - val_loss: 0.2160 - val_accuracy: 0.7208\n",
      "Epoch 26/50\n",
      "30/30 [==============================] - 2s 62ms/step - loss: 0.0141 - accuracy: 0.9812 - val_loss: 0.1939 - val_accuracy: 0.7458\n"
     ]
    },
    {
     "data": {
      "text/plain": [
       "<keras.callbacks.History at 0x7a73bc5422c0>"
      ]
     },
     "execution_count": 26,
     "metadata": {},
     "output_type": "execute_result"
    }
   ],
   "source": [
    "from keras.optimizers import Adam, RMSprop\n",
    "from keras.callbacks import EarlyStopping\n",
    "\n",
    "callback = EarlyStopping(monitor='val_loss', patience=10)\n",
    "\n",
    "model.compile(optimizer=Adam(learning_rate=0.01), loss='mse', metrics=['accuracy'])\n",
    "model.fit(x=x_train, y=y_train, validation_data=[x_val, y_val], epochs=50, batch_size=64, callbacks=[callback])"
   ]
  },
  {
   "cell_type": "code",
   "execution_count": 27,
   "id": "d73119cc",
   "metadata": {
    "execution": {
     "iopub.execute_input": "2023-05-25T13:20:53.730758Z",
     "iopub.status.busy": "2023-05-25T13:20:53.730384Z",
     "iopub.status.idle": "2023-05-25T13:20:54.118962Z",
     "shell.execute_reply": "2023-05-25T13:20:54.117996Z"
    },
    "papermill": {
     "duration": 0.465499,
     "end_time": "2023-05-25T13:20:54.121396",
     "exception": false,
     "start_time": "2023-05-25T13:20:53.655897",
     "status": "completed"
    },
    "tags": []
   },
   "outputs": [
    {
     "name": "stdout",
     "output_type": "stream",
     "text": [
      "19/19 [==============================] - 0s 9ms/step - loss: 0.2010 - accuracy: 0.7333\n"
     ]
    },
    {
     "data": {
      "text/plain": [
       "[0.20104901492595673, 0.7333333492279053]"
      ]
     },
     "execution_count": 27,
     "metadata": {},
     "output_type": "execute_result"
    }
   ],
   "source": [
    "model.evaluate(x_test, y_test)"
   ]
  },
  {
   "cell_type": "code",
   "execution_count": 28,
   "id": "fb29add9",
   "metadata": {
    "execution": {
     "iopub.execute_input": "2023-05-25T13:20:54.284204Z",
     "iopub.status.busy": "2023-05-25T13:20:54.283245Z",
     "iopub.status.idle": "2023-05-25T13:20:54.424366Z",
     "shell.execute_reply": "2023-05-25T13:20:54.423266Z"
    },
    "papermill": {
     "duration": 0.219698,
     "end_time": "2023-05-25T13:20:54.426966",
     "exception": false,
     "start_time": "2023-05-25T13:20:54.207268",
     "status": "completed"
    },
    "tags": []
   },
   "outputs": [
    {
     "data": {
      "text/html": [
       "<style>#sk-container-id-1 {color: black;background-color: white;}#sk-container-id-1 pre{padding: 0;}#sk-container-id-1 div.sk-toggleable {background-color: white;}#sk-container-id-1 label.sk-toggleable__label {cursor: pointer;display: block;width: 100%;margin-bottom: 0;padding: 0.3em;box-sizing: border-box;text-align: center;}#sk-container-id-1 label.sk-toggleable__label-arrow:before {content: \"▸\";float: left;margin-right: 0.25em;color: #696969;}#sk-container-id-1 label.sk-toggleable__label-arrow:hover:before {color: black;}#sk-container-id-1 div.sk-estimator:hover label.sk-toggleable__label-arrow:before {color: black;}#sk-container-id-1 div.sk-toggleable__content {max-height: 0;max-width: 0;overflow: hidden;text-align: left;background-color: #f0f8ff;}#sk-container-id-1 div.sk-toggleable__content pre {margin: 0.2em;color: black;border-radius: 0.25em;background-color: #f0f8ff;}#sk-container-id-1 input.sk-toggleable__control:checked~div.sk-toggleable__content {max-height: 200px;max-width: 100%;overflow: auto;}#sk-container-id-1 input.sk-toggleable__control:checked~label.sk-toggleable__label-arrow:before {content: \"▾\";}#sk-container-id-1 div.sk-estimator input.sk-toggleable__control:checked~label.sk-toggleable__label {background-color: #d4ebff;}#sk-container-id-1 div.sk-label input.sk-toggleable__control:checked~label.sk-toggleable__label {background-color: #d4ebff;}#sk-container-id-1 input.sk-hidden--visually {border: 0;clip: rect(1px 1px 1px 1px);clip: rect(1px, 1px, 1px, 1px);height: 1px;margin: -1px;overflow: hidden;padding: 0;position: absolute;width: 1px;}#sk-container-id-1 div.sk-estimator {font-family: monospace;background-color: #f0f8ff;border: 1px dotted black;border-radius: 0.25em;box-sizing: border-box;margin-bottom: 0.5em;}#sk-container-id-1 div.sk-estimator:hover {background-color: #d4ebff;}#sk-container-id-1 div.sk-parallel-item::after {content: \"\";width: 100%;border-bottom: 1px solid gray;flex-grow: 1;}#sk-container-id-1 div.sk-label:hover label.sk-toggleable__label {background-color: #d4ebff;}#sk-container-id-1 div.sk-serial::before {content: \"\";position: absolute;border-left: 1px solid gray;box-sizing: border-box;top: 0;bottom: 0;left: 50%;z-index: 0;}#sk-container-id-1 div.sk-serial {display: flex;flex-direction: column;align-items: center;background-color: white;padding-right: 0.2em;padding-left: 0.2em;position: relative;}#sk-container-id-1 div.sk-item {position: relative;z-index: 1;}#sk-container-id-1 div.sk-parallel {display: flex;align-items: stretch;justify-content: center;background-color: white;position: relative;}#sk-container-id-1 div.sk-item::before, #sk-container-id-1 div.sk-parallel-item::before {content: \"\";position: absolute;border-left: 1px solid gray;box-sizing: border-box;top: 0;bottom: 0;left: 50%;z-index: -1;}#sk-container-id-1 div.sk-parallel-item {display: flex;flex-direction: column;z-index: 1;position: relative;background-color: white;}#sk-container-id-1 div.sk-parallel-item:first-child::after {align-self: flex-end;width: 50%;}#sk-container-id-1 div.sk-parallel-item:last-child::after {align-self: flex-start;width: 50%;}#sk-container-id-1 div.sk-parallel-item:only-child::after {width: 0;}#sk-container-id-1 div.sk-dashed-wrapped {border: 1px dashed gray;margin: 0 0.4em 0.5em 0.4em;box-sizing: border-box;padding-bottom: 0.4em;background-color: white;}#sk-container-id-1 div.sk-label label {font-family: monospace;font-weight: bold;display: inline-block;line-height: 1.2em;}#sk-container-id-1 div.sk-label-container {text-align: center;}#sk-container-id-1 div.sk-container {/* jupyter's `normalize.less` sets `[hidden] { display: none; }` but bootstrap.min.css set `[hidden] { display: none !important; }` so we also need the `!important` here to be able to override the default hidden behavior on the sphinx rendered scikit-learn.org. See: https://github.com/scikit-learn/scikit-learn/issues/21755 */display: inline-block !important;position: relative;}#sk-container-id-1 div.sk-text-repr-fallback {display: none;}</style><div id=\"sk-container-id-1\" class=\"sk-top-container\"><div class=\"sk-text-repr-fallback\"><pre>KNeighborsClassifier()</pre><b>In a Jupyter environment, please rerun this cell to show the HTML representation or trust the notebook. <br />On GitHub, the HTML representation is unable to render, please try loading this page with nbviewer.org.</b></div><div class=\"sk-container\" hidden><div class=\"sk-item\"><div class=\"sk-estimator sk-toggleable\"><input class=\"sk-toggleable__control sk-hidden--visually\" id=\"sk-estimator-id-1\" type=\"checkbox\" checked><label for=\"sk-estimator-id-1\" class=\"sk-toggleable__label sk-toggleable__label-arrow\">KNeighborsClassifier</label><div class=\"sk-toggleable__content\"><pre>KNeighborsClassifier()</pre></div></div></div></div></div>"
      ],
      "text/plain": [
       "KNeighborsClassifier()"
      ]
     },
     "execution_count": 28,
     "metadata": {},
     "output_type": "execute_result"
    }
   ],
   "source": [
    "from sklearn.neighbors import KNeighborsClassifier\n",
    "\n",
    "knn = KNeighborsClassifier(n_neighbors=5)\n",
    "knn.fit(x_train, y_train)"
   ]
  },
  {
   "cell_type": "code",
   "execution_count": 29,
   "id": "b8b851e6",
   "metadata": {
    "execution": {
     "iopub.execute_input": "2023-05-25T13:20:54.579535Z",
     "iopub.status.busy": "2023-05-25T13:20:54.579141Z",
     "iopub.status.idle": "2023-05-25T13:20:59.540585Z",
     "shell.execute_reply": "2023-05-25T13:20:59.539369Z"
    },
    "papermill": {
     "duration": 5.041127,
     "end_time": "2023-05-25T13:20:59.543376",
     "exception": false,
     "start_time": "2023-05-25T13:20:54.502249",
     "status": "completed"
    },
    "tags": []
   },
   "outputs": [
    {
     "data": {
      "text/plain": [
       "0.6283333333333333"
      ]
     },
     "execution_count": 29,
     "metadata": {},
     "output_type": "execute_result"
    }
   ],
   "source": [
    "knn.score(x_test, y_test)"
   ]
  },
  {
   "cell_type": "code",
   "execution_count": 30,
   "id": "1b21dc5c",
   "metadata": {
    "execution": {
     "iopub.execute_input": "2023-05-25T13:20:59.722881Z",
     "iopub.status.busy": "2023-05-25T13:20:59.722502Z",
     "iopub.status.idle": "2023-05-25T13:20:59.727047Z",
     "shell.execute_reply": "2023-05-25T13:20:59.726063Z"
    },
    "papermill": {
     "duration": 0.093839,
     "end_time": "2023-05-25T13:20:59.729417",
     "exception": false,
     "start_time": "2023-05-25T13:20:59.635578",
     "status": "completed"
    },
    "tags": []
   },
   "outputs": [],
   "source": [
    "dict = {0 : 'negative', 1 : 'positive'}"
   ]
  },
  {
   "cell_type": "code",
   "execution_count": 31,
   "id": "76db0800",
   "metadata": {
    "execution": {
     "iopub.execute_input": "2023-05-25T13:20:59.898596Z",
     "iopub.status.busy": "2023-05-25T13:20:59.897689Z",
     "iopub.status.idle": "2023-05-25T13:21:00.163777Z",
     "shell.execute_reply": "2023-05-25T13:21:00.162755Z"
    },
    "papermill": {
     "duration": 0.351494,
     "end_time": "2023-05-25T13:21:00.165985",
     "exception": false,
     "start_time": "2023-05-25T13:20:59.814491",
     "status": "completed"
    },
    "tags": []
   },
   "outputs": [
    {
     "name": "stdout",
     "output_type": "stream",
     "text": [
      "1/1 [==============================] - 0s 185ms/step\n"
     ]
    },
    {
     "data": {
      "text/plain": [
       "'positive'"
      ]
     },
     "execution_count": 31,
     "metadata": {},
     "output_type": "execute_result"
    }
   ],
   "source": [
    "dict.get(np.round(model.predict(prepare_data('Wow, such a great movie!', vectorizer))).item())"
   ]
  },
  {
   "cell_type": "code",
   "execution_count": 32,
   "id": "15cef366",
   "metadata": {
    "execution": {
     "iopub.execute_input": "2023-05-25T13:21:00.327748Z",
     "iopub.status.busy": "2023-05-25T13:21:00.327374Z",
     "iopub.status.idle": "2023-05-25T13:21:10.307130Z",
     "shell.execute_reply": "2023-05-25T13:21:10.306065Z"
    },
    "papermill": {
     "duration": 10.060728,
     "end_time": "2023-05-25T13:21:10.309762",
     "exception": false,
     "start_time": "2023-05-25T13:21:00.249034",
     "status": "completed"
    },
    "tags": []
   },
   "outputs": [],
   "source": [
    "model.save('/kaggle/working/sentiment_model.h5')"
   ]
  }
 ],
 "metadata": {
  "kernelspec": {
   "display_name": "Python 3",
   "language": "python",
   "name": "python3"
  },
  "language_info": {
   "codemirror_mode": {
    "name": "ipython",
    "version": 3
   },
   "file_extension": ".py",
   "mimetype": "text/x-python",
   "name": "python",
   "nbconvert_exporter": "python",
   "pygments_lexer": "ipython3",
   "version": "3.10.10"
  },
  "papermill": {
   "default_parameters": {},
   "duration": 325.81875,
   "end_time": "2023-05-25T13:21:14.230905",
   "environment_variables": {},
   "exception": null,
   "input_path": "__notebook__.ipynb",
   "output_path": "__notebook__.ipynb",
   "parameters": {},
   "start_time": "2023-05-25T13:15:48.412155",
   "version": "2.4.0"
  }
 },
 "nbformat": 4,
 "nbformat_minor": 5
}
