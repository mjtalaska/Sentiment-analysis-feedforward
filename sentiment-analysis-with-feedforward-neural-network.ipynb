{
 "cells": [
  {
   "cell_type": "code",
   "execution_count": 1,
   "id": "76a68940",
   "metadata": {
    "_cell_guid": "b1076dfc-b9ad-4769-8c92-a6c4dae69d19",
    "_uuid": "8f2839f25d086af736a60e9eeb907d3b93b6e0e5",
    "execution": {
     "iopub.execute_input": "2023-05-25T09:03:35.523436Z",
     "iopub.status.busy": "2023-05-25T09:03:35.522999Z",
     "iopub.status.idle": "2023-05-25T09:03:35.551397Z",
     "shell.execute_reply": "2023-05-25T09:03:35.550560Z"
    },
    "papermill": {
     "duration": 0.041709,
     "end_time": "2023-05-25T09:03:35.553460",
     "exception": false,
     "start_time": "2023-05-25T09:03:35.511751",
     "status": "completed"
    },
    "tags": []
   },
   "outputs": [
    {
     "name": "stdout",
     "output_type": "stream",
     "text": [
      "/kaggle/input/sentiment-labelled-sentences/sentiment labelled sentences/amazon_cells_labelled.txt\n",
      "/kaggle/input/sentiment-labelled-sentences/sentiment labelled sentences/imdb_labelled.txt\n",
      "/kaggle/input/sentiment-labelled-sentences/sentiment labelled sentences/readme.txt\n",
      "/kaggle/input/sentiment-labelled-sentences/sentiment labelled sentences/yelp_labelled.txt\n"
     ]
    }
   ],
   "source": [
    "# This Python 3 environment comes with many helpful analytics libraries installed\n",
    "# It is defined by the kaggle/python Docker image: https://github.com/kaggle/docker-python\n",
    "# For example, here's several helpful packages to load\n",
    "\n",
    "import numpy as np # linear algebra\n",
    "import pandas as pd # data processing, CSV file I/O (e.g. pd.read_csv)\n",
    "\n",
    "# Input data files are available in the read-only \"../input/\" directory\n",
    "# For example, running this (by clicking run or pressing Shift+Enter) will list all files under the input directory\n",
    "\n",
    "import os\n",
    "for dirname, _, filenames in os.walk('/kaggle/input'):\n",
    "    for filename in filenames:\n",
    "        print(os.path.join(dirname, filename))\n",
    "\n",
    "# You can write up to 20GB to the current directory (/kaggle/working/) that gets preserved as output when you create a version using \"Save & Run All\" \n",
    "# You can also write temporary files to /kaggle/temp/, but they won't be saved outside of the current session"
   ]
  },
  {
   "cell_type": "code",
   "execution_count": 2,
   "id": "4e24b39d",
   "metadata": {
    "execution": {
     "iopub.execute_input": "2023-05-25T09:03:35.570392Z",
     "iopub.status.busy": "2023-05-25T09:03:35.569677Z",
     "iopub.status.idle": "2023-05-25T09:03:35.628510Z",
     "shell.execute_reply": "2023-05-25T09:03:35.627582Z"
    },
    "papermill": {
     "duration": 0.069238,
     "end_time": "2023-05-25T09:03:35.630682",
     "exception": false,
     "start_time": "2023-05-25T09:03:35.561444",
     "status": "completed"
    },
    "tags": []
   },
   "outputs": [
    {
     "name": "stdout",
     "output_type": "stream",
     "text": [
      "amazon = (1000, 2), imdb = (1000, 2), yelp = (1000, 2)\n"
     ]
    },
    {
     "name": "stderr",
     "output_type": "stream",
     "text": [
      "/tmp/ipykernel_24/3939053422.py:5: ParserWarning: Falling back to the 'python' engine because the 'c' engine does not support regex separators (separators > 1 char and different from '\\s+' are interpreted as regex); you can avoid this warning by specifying engine='python'.\n",
      "  imdb = pd.read_csv('/kaggle/input/sentiment-labelled-sentences/sentiment labelled sentences/imdb_labelled.txt',\n"
     ]
    }
   ],
   "source": [
    "amazon = pd.read_csv('/kaggle/input/sentiment-labelled-sentences/sentiment labelled sentences/amazon_cells_labelled.txt', \n",
    "                     sep='\\t',\n",
    "                     lineterminator='\\n',\n",
    "                     names=['sentance', 'sentiment'] )\n",
    "imdb = pd.read_csv('/kaggle/input/sentiment-labelled-sentences/sentiment labelled sentences/imdb_labelled.txt', \n",
    "                     sep='\\t|\\s{3}',\n",
    "                     lineterminator='\\n',\n",
    "                     names=['sentance', 'sentiment'] )\n",
    "yelp = pd.read_csv('/kaggle/input/sentiment-labelled-sentences/sentiment labelled sentences/yelp_labelled.txt', \n",
    "                     sep='\\t',\n",
    "                     lineterminator='\\n',\n",
    "                     names=['sentance', 'sentiment'] )\n",
    "print(f\"amazon = {amazon.shape}, imdb = {imdb.shape}, yelp = {yelp.shape}\")"
   ]
  },
  {
   "cell_type": "code",
   "execution_count": 3,
   "id": "1f2c10d7",
   "metadata": {
    "execution": {
     "iopub.execute_input": "2023-05-25T09:03:35.647806Z",
     "iopub.status.busy": "2023-05-25T09:03:35.647525Z",
     "iopub.status.idle": "2023-05-25T09:03:35.657888Z",
     "shell.execute_reply": "2023-05-25T09:03:35.657010Z"
    },
    "papermill": {
     "duration": 0.021314,
     "end_time": "2023-05-25T09:03:35.659903",
     "exception": false,
     "start_time": "2023-05-25T09:03:35.638589",
     "status": "completed"
    },
    "tags": []
   },
   "outputs": [
    {
     "data": {
      "text/plain": [
       "(3000, 2)"
      ]
     },
     "execution_count": 3,
     "metadata": {},
     "output_type": "execute_result"
    }
   ],
   "source": [
    "data = pd.DataFrame(data=np.concatenate([amazon,imdb,yelp], axis=0), columns=['sentance', 'sentiment'])\n",
    "data.shape"
   ]
  },
  {
   "cell_type": "code",
   "execution_count": 4,
   "id": "dac41cd8",
   "metadata": {
    "execution": {
     "iopub.execute_input": "2023-05-25T09:03:35.677568Z",
     "iopub.status.busy": "2023-05-25T09:03:35.677309Z",
     "iopub.status.idle": "2023-05-25T09:03:35.696156Z",
     "shell.execute_reply": "2023-05-25T09:03:35.695164Z"
    },
    "papermill": {
     "duration": 0.030555,
     "end_time": "2023-05-25T09:03:35.698344",
     "exception": false,
     "start_time": "2023-05-25T09:03:35.667789",
     "status": "completed"
    },
    "tags": []
   },
   "outputs": [
    {
     "data": {
      "text/html": [
       "<div>\n",
       "<style scoped>\n",
       "    .dataframe tbody tr th:only-of-type {\n",
       "        vertical-align: middle;\n",
       "    }\n",
       "\n",
       "    .dataframe tbody tr th {\n",
       "        vertical-align: top;\n",
       "    }\n",
       "\n",
       "    .dataframe thead th {\n",
       "        text-align: right;\n",
       "    }\n",
       "</style>\n",
       "<table border=\"1\" class=\"dataframe\">\n",
       "  <thead>\n",
       "    <tr style=\"text-align: right;\">\n",
       "      <th></th>\n",
       "      <th>sentance</th>\n",
       "      <th>sentiment</th>\n",
       "    </tr>\n",
       "  </thead>\n",
       "  <tbody>\n",
       "    <tr>\n",
       "      <th>0</th>\n",
       "      <td>So there is no way for me to plug it in here i...</td>\n",
       "      <td>0</td>\n",
       "    </tr>\n",
       "    <tr>\n",
       "      <th>1</th>\n",
       "      <td>Good case, Excellent value.</td>\n",
       "      <td>1</td>\n",
       "    </tr>\n",
       "    <tr>\n",
       "      <th>2</th>\n",
       "      <td>Great for the jawbone.</td>\n",
       "      <td>1</td>\n",
       "    </tr>\n",
       "    <tr>\n",
       "      <th>3</th>\n",
       "      <td>Tied to charger for conversations lasting more...</td>\n",
       "      <td>0</td>\n",
       "    </tr>\n",
       "    <tr>\n",
       "      <th>4</th>\n",
       "      <td>The mic is great.</td>\n",
       "      <td>1</td>\n",
       "    </tr>\n",
       "    <tr>\n",
       "      <th>...</th>\n",
       "      <td>...</td>\n",
       "      <td>...</td>\n",
       "    </tr>\n",
       "    <tr>\n",
       "      <th>2995</th>\n",
       "      <td>I think food should have flavor and texture an...</td>\n",
       "      <td>0</td>\n",
       "    </tr>\n",
       "    <tr>\n",
       "      <th>2996</th>\n",
       "      <td>Appetite instantly gone.</td>\n",
       "      <td>0</td>\n",
       "    </tr>\n",
       "    <tr>\n",
       "      <th>2997</th>\n",
       "      <td>Overall I was not impressed and would not go b...</td>\n",
       "      <td>0</td>\n",
       "    </tr>\n",
       "    <tr>\n",
       "      <th>2998</th>\n",
       "      <td>The whole experience was underwhelming, and I ...</td>\n",
       "      <td>0</td>\n",
       "    </tr>\n",
       "    <tr>\n",
       "      <th>2999</th>\n",
       "      <td>Then, as if I hadn't wasted enough of my life ...</td>\n",
       "      <td>0</td>\n",
       "    </tr>\n",
       "  </tbody>\n",
       "</table>\n",
       "<p>3000 rows × 2 columns</p>\n",
       "</div>"
      ],
      "text/plain": [
       "                                               sentance sentiment\n",
       "0     So there is no way for me to plug it in here i...         0\n",
       "1                           Good case, Excellent value.         1\n",
       "2                                Great for the jawbone.         1\n",
       "3     Tied to charger for conversations lasting more...         0\n",
       "4                                     The mic is great.         1\n",
       "...                                                 ...       ...\n",
       "2995  I think food should have flavor and texture an...         0\n",
       "2996                           Appetite instantly gone.         0\n",
       "2997  Overall I was not impressed and would not go b...         0\n",
       "2998  The whole experience was underwhelming, and I ...         0\n",
       "2999  Then, as if I hadn't wasted enough of my life ...         0\n",
       "\n",
       "[3000 rows x 2 columns]"
      ]
     },
     "execution_count": 4,
     "metadata": {},
     "output_type": "execute_result"
    }
   ],
   "source": [
    "data"
   ]
  },
  {
   "cell_type": "code",
   "execution_count": 5,
   "id": "a8ed2d2b",
   "metadata": {
    "execution": {
     "iopub.execute_input": "2023-05-25T09:03:35.716089Z",
     "iopub.status.busy": "2023-05-25T09:03:35.715349Z",
     "iopub.status.idle": "2023-05-25T09:03:35.728325Z",
     "shell.execute_reply": "2023-05-25T09:03:35.727262Z"
    },
    "papermill": {
     "duration": 0.02392,
     "end_time": "2023-05-25T09:03:35.730531",
     "exception": false,
     "start_time": "2023-05-25T09:03:35.706611",
     "status": "completed"
    },
    "tags": []
   },
   "outputs": [
    {
     "data": {
      "text/html": [
       "<div>\n",
       "<style scoped>\n",
       "    .dataframe tbody tr th:only-of-type {\n",
       "        vertical-align: middle;\n",
       "    }\n",
       "\n",
       "    .dataframe tbody tr th {\n",
       "        vertical-align: top;\n",
       "    }\n",
       "\n",
       "    .dataframe thead th {\n",
       "        text-align: right;\n",
       "    }\n",
       "</style>\n",
       "<table border=\"1\" class=\"dataframe\">\n",
       "  <thead>\n",
       "    <tr style=\"text-align: right;\">\n",
       "      <th></th>\n",
       "      <th>sentance</th>\n",
       "      <th>sentiment</th>\n",
       "    </tr>\n",
       "  </thead>\n",
       "  <tbody>\n",
       "    <tr>\n",
       "      <th>0</th>\n",
       "      <td>so there is no way for me to plug it in here i...</td>\n",
       "      <td>0</td>\n",
       "    </tr>\n",
       "    <tr>\n",
       "      <th>1</th>\n",
       "      <td>good case, excellent value.</td>\n",
       "      <td>1</td>\n",
       "    </tr>\n",
       "    <tr>\n",
       "      <th>2</th>\n",
       "      <td>great for the jawbone.</td>\n",
       "      <td>1</td>\n",
       "    </tr>\n",
       "    <tr>\n",
       "      <th>3</th>\n",
       "      <td>tied to charger for conversations lasting more...</td>\n",
       "      <td>0</td>\n",
       "    </tr>\n",
       "    <tr>\n",
       "      <th>4</th>\n",
       "      <td>the mic is great.</td>\n",
       "      <td>1</td>\n",
       "    </tr>\n",
       "    <tr>\n",
       "      <th>...</th>\n",
       "      <td>...</td>\n",
       "      <td>...</td>\n",
       "    </tr>\n",
       "    <tr>\n",
       "      <th>2995</th>\n",
       "      <td>i think food should have flavor and texture an...</td>\n",
       "      <td>0</td>\n",
       "    </tr>\n",
       "    <tr>\n",
       "      <th>2996</th>\n",
       "      <td>appetite instantly gone.</td>\n",
       "      <td>0</td>\n",
       "    </tr>\n",
       "    <tr>\n",
       "      <th>2997</th>\n",
       "      <td>overall i was not impressed and would not go b...</td>\n",
       "      <td>0</td>\n",
       "    </tr>\n",
       "    <tr>\n",
       "      <th>2998</th>\n",
       "      <td>the whole experience was underwhelming, and i ...</td>\n",
       "      <td>0</td>\n",
       "    </tr>\n",
       "    <tr>\n",
       "      <th>2999</th>\n",
       "      <td>then, as if i hadn't wasted enough of my life ...</td>\n",
       "      <td>0</td>\n",
       "    </tr>\n",
       "  </tbody>\n",
       "</table>\n",
       "<p>3000 rows × 2 columns</p>\n",
       "</div>"
      ],
      "text/plain": [
       "                                               sentance sentiment\n",
       "0     so there is no way for me to plug it in here i...         0\n",
       "1                           good case, excellent value.         1\n",
       "2                                great for the jawbone.         1\n",
       "3     tied to charger for conversations lasting more...         0\n",
       "4                                     the mic is great.         1\n",
       "...                                                 ...       ...\n",
       "2995  i think food should have flavor and texture an...         0\n",
       "2996                           appetite instantly gone.         0\n",
       "2997  overall i was not impressed and would not go b...         0\n",
       "2998  the whole experience was underwhelming, and i ...         0\n",
       "2999  then, as if i hadn't wasted enough of my life ...         0\n",
       "\n",
       "[3000 rows x 2 columns]"
      ]
     },
     "execution_count": 5,
     "metadata": {},
     "output_type": "execute_result"
    }
   ],
   "source": [
    "data['sentance'] = data['sentance'].str.lower()\n",
    "data"
   ]
  },
  {
   "cell_type": "code",
   "execution_count": 6,
   "id": "ee0db54b",
   "metadata": {
    "execution": {
     "iopub.execute_input": "2023-05-25T09:03:35.749459Z",
     "iopub.status.busy": "2023-05-25T09:03:35.748769Z",
     "iopub.status.idle": "2023-05-25T09:03:50.037316Z",
     "shell.execute_reply": "2023-05-25T09:03:50.036169Z"
    },
    "papermill": {
     "duration": 14.300184,
     "end_time": "2023-05-25T09:03:50.039659",
     "exception": false,
     "start_time": "2023-05-25T09:03:35.739475",
     "status": "completed"
    },
    "tags": []
   },
   "outputs": [
    {
     "name": "stdout",
     "output_type": "stream",
     "text": [
      "Collecting pyspellchecker\r\n",
      "  Downloading pyspellchecker-0.7.2-py3-none-any.whl (3.4 MB)\r\n",
      "\u001b[2K     \u001b[90m━━━━━━━━━━━━━━━━━━━━━━━━━━━━━━━━━━━━━━━━\u001b[0m \u001b[32m3.4/3.4 MB\u001b[0m \u001b[31m35.8 MB/s\u001b[0m eta \u001b[36m0:00:00\u001b[0m\r\n",
      "\u001b[?25hInstalling collected packages: pyspellchecker\r\n",
      "Successfully installed pyspellchecker-0.7.2\r\n",
      "\u001b[33mWARNING: Running pip as the 'root' user can result in broken permissions and conflicting behaviour with the system package manager. It is recommended to use a virtual environment instead: https://pip.pypa.io/warnings/venv\u001b[0m\u001b[33m\r\n",
      "\u001b[0m"
     ]
    }
   ],
   "source": [
    "!pip install pyspellchecker\n",
    "from spellchecker import SpellChecker\n",
    "sc = SpellChecker()"
   ]
  },
  {
   "cell_type": "code",
   "execution_count": 7,
   "id": "ea2789b7",
   "metadata": {
    "execution": {
     "iopub.execute_input": "2023-05-25T09:03:50.061082Z",
     "iopub.status.busy": "2023-05-25T09:03:50.060181Z",
     "iopub.status.idle": "2023-05-25T09:03:50.066777Z",
     "shell.execute_reply": "2023-05-25T09:03:50.065743Z"
    },
    "papermill": {
     "duration": 0.020404,
     "end_time": "2023-05-25T09:03:50.069837",
     "exception": false,
     "start_time": "2023-05-25T09:03:50.049433",
     "status": "completed"
    },
    "tags": []
   },
   "outputs": [
    {
     "name": "stdout",
     "output_type": "stream",
     "text": [
      "In this sentance our job my lord is to remove all the punctuation\n"
     ]
    }
   ],
   "source": [
    "import string\n",
    "\n",
    "def remove_punc(sentance):\n",
    "    return sentance.translate(str.maketrans('','',string.punctuation))\n",
    "\n",
    "print(remove_punc('In this sentance, our job, my lord, is to remove all the punctuation!'))"
   ]
  },
  {
   "cell_type": "code",
   "execution_count": 8,
   "id": "b7452e55",
   "metadata": {
    "execution": {
     "iopub.execute_input": "2023-05-25T09:03:50.089772Z",
     "iopub.status.busy": "2023-05-25T09:03:50.088980Z",
     "iopub.status.idle": "2023-05-25T09:03:50.096967Z",
     "shell.execute_reply": "2023-05-25T09:03:50.095897Z"
    },
    "papermill": {
     "duration": 0.019976,
     "end_time": "2023-05-25T09:03:50.099010",
     "exception": false,
     "start_time": "2023-05-25T09:03:50.079034",
     "status": "completed"
    },
    "tags": []
   },
   "outputs": [
    {
     "name": "stdout",
     "output_type": "stream",
     "text": [
      "its spelling time\n"
     ]
    }
   ],
   "source": [
    "def correct(sentance):\n",
    "    misspelled = sc.unknown(str(sentance).split())\n",
    "    correct = [sc.correction(w) if w in misspelled else w for w in sentance.split()]\n",
    "    return \" \".join(filter(lambda c : c is not None, correct))\n",
    "\n",
    "print(correct('its spellinf timr'))"
   ]
  },
  {
   "cell_type": "code",
   "execution_count": 9,
   "id": "46a53d52",
   "metadata": {
    "execution": {
     "iopub.execute_input": "2023-05-25T09:03:50.119251Z",
     "iopub.status.busy": "2023-05-25T09:03:50.118400Z",
     "iopub.status.idle": "2023-05-25T09:03:52.874545Z",
     "shell.execute_reply": "2023-05-25T09:03:52.873532Z"
    },
    "papermill": {
     "duration": 2.768548,
     "end_time": "2023-05-25T09:03:52.876839",
     "exception": false,
     "start_time": "2023-05-25T09:03:50.108291",
     "status": "completed"
    },
    "tags": []
   },
   "outputs": [
    {
     "name": "stderr",
     "output_type": "stream",
     "text": [
      "/opt/conda/lib/python3.10/site-packages/scipy/__init__.py:146: UserWarning: A NumPy version >=1.16.5 and <1.23.0 is required for this version of SciPy (detected version 1.23.5\n",
      "  warnings.warn(f\"A NumPy version >={np_minversion} and <{np_maxversion}\"\n"
     ]
    },
    {
     "name": "stdout",
     "output_type": "stream",
     "text": [
      "know longer stop, even bother\n"
     ]
    }
   ],
   "source": [
    "from nltk.corpus import stopwords\n",
    "\n",
    "def remove_stop(sentance):\n",
    "    correct = [w for w in sentance.split() if w not in stopwords.words('english')]\n",
    "    return \" \".join(correct)\n",
    "\n",
    "print(remove_stop('i know there is no longer stop, so why even bother'))"
   ]
  },
  {
   "cell_type": "code",
   "execution_count": 10,
   "id": "ff720d94",
   "metadata": {
    "execution": {
     "iopub.execute_input": "2023-05-25T09:03:52.899568Z",
     "iopub.status.busy": "2023-05-25T09:03:52.898648Z",
     "iopub.status.idle": "2023-05-25T09:03:52.906017Z",
     "shell.execute_reply": "2023-05-25T09:03:52.904965Z"
    },
    "papermill": {
     "duration": 0.020939,
     "end_time": "2023-05-25T09:03:52.908128",
     "exception": false,
     "start_time": "2023-05-25T09:03:52.887189",
     "status": "completed"
    },
    "tags": []
   },
   "outputs": [
    {
     "name": "stdout",
     "output_type": "stream",
     "text": [
      "and now it is time to final stem thi hell of a sentance, am I right, fellas?\n"
     ]
    }
   ],
   "source": [
    "from nltk.stem.porter import PorterStemmer\n",
    "stemmer = PorterStemmer()\n",
    "\n",
    "def stemming(sentance):\n",
    "    correct = [stemmer.stem(w) for w in sentance.split()]\n",
    "    return \" \".join(correct)\n",
    "\n",
    "print(stemming('And now it is time to finally stem this hell of a sentance, am I right, fellas?'))"
   ]
  },
  {
   "cell_type": "code",
   "execution_count": 11,
   "id": "a68e8671",
   "metadata": {
    "execution": {
     "iopub.execute_input": "2023-05-25T09:03:52.929122Z",
     "iopub.status.busy": "2023-05-25T09:03:52.928206Z",
     "iopub.status.idle": "2023-05-25T09:03:52.937350Z",
     "shell.execute_reply": "2023-05-25T09:03:52.936392Z"
    },
    "papermill": {
     "duration": 0.021601,
     "end_time": "2023-05-25T09:03:52.939410",
     "exception": false,
     "start_time": "2023-05-25T09:03:52.917809",
     "status": "completed"
    },
    "tags": []
   },
   "outputs": [
    {
     "data": {
      "text/plain": [
       "0       so there is no way for me to plug it in here i...\n",
       "1                             good case, excellent value.\n",
       "2                                  great for the jawbone.\n",
       "3       tied to charger for conversations lasting more...\n",
       "4                                       the mic is great.\n",
       "                              ...                        \n",
       "2995    i think food should have flavor and texture an...\n",
       "2996                             appetite instantly gone.\n",
       "2997    overall i was not impressed and would not go b...\n",
       "2998    the whole experience was underwhelming, and i ...\n",
       "2999    then, as if i hadn't wasted enough of my life ...\n",
       "Name: sentance, Length: 3000, dtype: object"
      ]
     },
     "execution_count": 11,
     "metadata": {},
     "output_type": "execute_result"
    }
   ],
   "source": [
    "x = data['sentance']\n",
    "y = data['sentiment']\n",
    "x"
   ]
  },
  {
   "cell_type": "code",
   "execution_count": 12,
   "id": "886aa05d",
   "metadata": {
    "execution": {
     "iopub.execute_input": "2023-05-25T09:03:52.960566Z",
     "iopub.status.busy": "2023-05-25T09:03:52.959755Z",
     "iopub.status.idle": "2023-05-25T09:03:52.977737Z",
     "shell.execute_reply": "2023-05-25T09:03:52.976842Z"
    },
    "papermill": {
     "duration": 0.030535,
     "end_time": "2023-05-25T09:03:52.979690",
     "exception": false,
     "start_time": "2023-05-25T09:03:52.949155",
     "status": "completed"
    },
    "tags": []
   },
   "outputs": [],
   "source": [
    "x = x.map(lambda x : remove_punc(x))\n"
   ]
  },
  {
   "cell_type": "code",
   "execution_count": 13,
   "id": "11031fa0",
   "metadata": {
    "execution": {
     "iopub.execute_input": "2023-05-25T09:03:52.999838Z",
     "iopub.status.busy": "2023-05-25T09:03:52.999570Z",
     "iopub.status.idle": "2023-05-25T09:06:39.936956Z",
     "shell.execute_reply": "2023-05-25T09:06:39.936023Z"
    },
    "papermill": {
     "duration": 166.959589,
     "end_time": "2023-05-25T09:06:39.948756",
     "exception": false,
     "start_time": "2023-05-25T09:03:52.989167",
     "status": "completed"
    },
    "tags": []
   },
   "outputs": [
    {
     "data": {
      "text/plain": [
       "0       so there is no way for me to plug it in here i...\n",
       "1                               good case excellent value\n",
       "2                                   great for the jawbone\n",
       "3       tied to charger for conversations lasting more...\n",
       "4                                        the mic is great\n",
       "                              ...                        \n",
       "2995    i think food should have flavor and texture an...\n",
       "2996                              appetite instantly gone\n",
       "2997    overall i was not impressed and would not go back\n",
       "2998    the whole experience was underwhelming and i t...\n",
       "2999    then as if i hadnt wasted enough of my life th...\n",
       "Name: sentance, Length: 3000, dtype: object"
      ]
     },
     "execution_count": 13,
     "metadata": {},
     "output_type": "execute_result"
    }
   ],
   "source": [
    "x = x.map(lambda x : correct(x))\n",
    "x"
   ]
  },
  {
   "cell_type": "code",
   "execution_count": 14,
   "id": "85dbf69a",
   "metadata": {
    "execution": {
     "iopub.execute_input": "2023-05-25T09:06:39.969886Z",
     "iopub.status.busy": "2023-05-25T09:06:39.969337Z",
     "iopub.status.idle": "2023-05-25T09:06:44.139776Z",
     "shell.execute_reply": "2023-05-25T09:06:44.138889Z"
    },
    "papermill": {
     "duration": 4.183603,
     "end_time": "2023-05-25T09:06:44.142087",
     "exception": false,
     "start_time": "2023-05-25T09:06:39.958484",
     "status": "completed"
    },
    "tags": []
   },
   "outputs": [
    {
     "data": {
      "text/plain": [
       "0                         way plug us unless go converter\n",
       "1                               good case excellent value\n",
       "2                                           great jawbone\n",
       "3          tied charger conversations lasting 45 problems\n",
       "4                                               mic great\n",
       "                              ...                        \n",
       "2995                    think food flavor texture lacking\n",
       "2996                              appetite instantly gone\n",
       "2997                      overall impressed would go back\n",
       "2998    whole experience underwhelming think well go n...\n",
       "2999    hadnt wasted enough life poured salt wound dra...\n",
       "Name: sentance, Length: 3000, dtype: object"
      ]
     },
     "execution_count": 14,
     "metadata": {},
     "output_type": "execute_result"
    }
   ],
   "source": [
    "x = x.map(lambda x : remove_stop(x))\n",
    "x"
   ]
  },
  {
   "cell_type": "code",
   "execution_count": 15,
   "id": "ff6349e4",
   "metadata": {
    "execution": {
     "iopub.execute_input": "2023-05-25T09:06:44.162808Z",
     "iopub.status.busy": "2023-05-25T09:06:44.162501Z",
     "iopub.status.idle": "2023-05-25T09:06:44.860310Z",
     "shell.execute_reply": "2023-05-25T09:06:44.859327Z"
    },
    "papermill": {
     "duration": 0.711518,
     "end_time": "2023-05-25T09:06:44.863360",
     "exception": false,
     "start_time": "2023-05-25T09:06:44.151842",
     "status": "completed"
    },
    "tags": []
   },
   "outputs": [
    {
     "data": {
      "text/plain": [
       "0                           way plug us unless go convert\n",
       "1                                    good case excel valu\n",
       "2                                            great jawbon\n",
       "3                     tie charger convers last 45 problem\n",
       "4                                               mic great\n",
       "                              ...                        \n",
       "2995                        think food flavor textur lack\n",
       "2996                               appetit instantli gone\n",
       "2997                         overal impress would go back\n",
       "2998    whole experi underwhelm think well go ninja su...\n",
       "2999    hadnt wast enough life pour salt wound draw ti...\n",
       "Name: sentance, Length: 3000, dtype: object"
      ]
     },
     "execution_count": 15,
     "metadata": {},
     "output_type": "execute_result"
    }
   ],
   "source": [
    "x = x.map(lambda x : stemming(x))\n",
    "x"
   ]
  },
  {
   "cell_type": "code",
   "execution_count": 16,
   "id": "c29095fe",
   "metadata": {
    "execution": {
     "iopub.execute_input": "2023-05-25T09:06:44.895804Z",
     "iopub.status.busy": "2023-05-25T09:06:44.895341Z",
     "iopub.status.idle": "2023-05-25T09:06:44.901872Z",
     "shell.execute_reply": "2023-05-25T09:06:44.899563Z"
    },
    "papermill": {
     "duration": 0.024973,
     "end_time": "2023-05-25T09:06:44.904567",
     "exception": false,
     "start_time": "2023-05-25T09:06:44.879594",
     "status": "completed"
    },
    "tags": []
   },
   "outputs": [],
   "source": [
    "def remove_numbers(sentance):\n",
    "    return \" \".join([s for s in sentance.split() if not s.isdigit()])"
   ]
  },
  {
   "cell_type": "code",
   "execution_count": 17,
   "id": "eba06899",
   "metadata": {
    "execution": {
     "iopub.execute_input": "2023-05-25T09:06:44.932834Z",
     "iopub.status.busy": "2023-05-25T09:06:44.932409Z",
     "iopub.status.idle": "2023-05-25T09:06:44.953536Z",
     "shell.execute_reply": "2023-05-25T09:06:44.952502Z"
    },
    "papermill": {
     "duration": 0.038595,
     "end_time": "2023-05-25T09:06:44.956567",
     "exception": false,
     "start_time": "2023-05-25T09:06:44.917972",
     "status": "completed"
    },
    "tags": []
   },
   "outputs": [
    {
     "data": {
      "text/plain": [
       "0                           way plug us unless go convert\n",
       "1                                    good case excel valu\n",
       "2                                            great jawbon\n",
       "3                        tie charger convers last problem\n",
       "4                                               mic great\n",
       "                              ...                        \n",
       "2995                        think food flavor textur lack\n",
       "2996                               appetit instantli gone\n",
       "2997                         overal impress would go back\n",
       "2998    whole experi underwhelm think well go ninja su...\n",
       "2999    hadnt wast enough life pour salt wound draw ti...\n",
       "Name: sentance, Length: 3000, dtype: object"
      ]
     },
     "execution_count": 17,
     "metadata": {},
     "output_type": "execute_result"
    }
   ],
   "source": [
    "x = x.map(lambda x : remove_numbers(x))\n",
    "x"
   ]
  },
  {
   "cell_type": "code",
   "execution_count": 18,
   "id": "dcb94416",
   "metadata": {
    "execution": {
     "iopub.execute_input": "2023-05-25T09:06:44.987470Z",
     "iopub.status.busy": "2023-05-25T09:06:44.987151Z",
     "iopub.status.idle": "2023-05-25T09:07:04.493035Z",
     "shell.execute_reply": "2023-05-25T09:07:04.491797Z"
    },
    "papermill": {
     "duration": 19.523999,
     "end_time": "2023-05-25T09:07:04.495593",
     "exception": false,
     "start_time": "2023-05-25T09:06:44.971594",
     "status": "completed"
    },
    "tags": []
   },
   "outputs": [],
   "source": [
    "from keras.layers import TextVectorization\n",
    "import tensorflow as tf\n",
    "data_to_adapt = tf.constant(x)\n",
    "\n",
    "n = 5\n",
    "vectorizer = TextVectorization(output_mode='tf-idf', ngrams=n)\n",
    "vectorizer.adapt(data_to_adapt)"
   ]
  },
  {
   "cell_type": "code",
   "execution_count": 19,
   "id": "e1497935",
   "metadata": {
    "execution": {
     "iopub.execute_input": "2023-05-25T09:07:04.517745Z",
     "iopub.status.busy": "2023-05-25T09:07:04.517409Z",
     "iopub.status.idle": "2023-05-25T09:07:04.616953Z",
     "shell.execute_reply": "2023-05-25T09:07:04.615829Z"
    },
    "papermill": {
     "duration": 0.113351,
     "end_time": "2023-05-25T09:07:04.619302",
     "exception": false,
     "start_time": "2023-05-25T09:07:04.505951",
     "status": "completed"
    },
    "tags": []
   },
   "outputs": [
    {
     "data": {
      "text/plain": [
       "array([0., 0., 0., ..., 0., 0., 0.], dtype=float32)"
      ]
     },
     "execution_count": 19,
     "metadata": {},
     "output_type": "execute_result"
    }
   ],
   "source": [
    "vectorizer(x[0]).numpy()"
   ]
  },
  {
   "cell_type": "code",
   "execution_count": 20,
   "id": "b4bc031e",
   "metadata": {
    "execution": {
     "iopub.execute_input": "2023-05-25T09:07:04.643036Z",
     "iopub.status.busy": "2023-05-25T09:07:04.642709Z",
     "iopub.status.idle": "2023-05-25T09:07:05.377058Z",
     "shell.execute_reply": "2023-05-25T09:07:05.376172Z"
    },
    "papermill": {
     "duration": 0.749103,
     "end_time": "2023-05-25T09:07:05.379926",
     "exception": false,
     "start_time": "2023-05-25T09:07:04.630823",
     "status": "completed"
    },
    "tags": []
   },
   "outputs": [
    {
     "data": {
      "image/png": "[encoded data removed]",
      "text/plain": [
       "<IPython.core.display.Image object>"
      ]
     },
     "execution_count": 20,
     "metadata": {},
     "output_type": "execute_result"
    }
   ],
   "source": [
    "from keras.layers import Input, Dropout, Dense, Activation, BatchNormalization\n",
    "from keras import Model\n",
    "from keras.utils import plot_model\n",
    "\n",
    "latent = [4096, 1024, 512, 128, 64]\n",
    "\n",
    "inputs = Input(shape=(vectorizer.vocabulary_size(), ))\n",
    "layer = inputs\n",
    "\n",
    "for l in latent:\n",
    "    layer = Dense(l, activation='softmax')(layer)\n",
    "    layer = BatchNormalization()(layer)\n",
    "    layer = Dropout(0.5)(layer)\n",
    "\n",
    "outputs = Dense(1, activation='sigmoid')(layer)\n",
    "\n",
    "model = Model(inputs, outputs)\n",
    "plot_model(model, show_shapes=True)"
   ]
  },
  {
   "cell_type": "code",
   "execution_count": 21,
   "id": "e8672bc7",
   "metadata": {
    "execution": {
     "iopub.execute_input": "2023-05-25T09:07:05.405923Z",
     "iopub.status.busy": "2023-05-25T09:07:05.405632Z",
     "iopub.status.idle": "2023-05-25T09:07:52.218693Z",
     "shell.execute_reply": "2023-05-25T09:07:52.217667Z"
    },
    "papermill": {
     "duration": 46.829361,
     "end_time": "2023-05-25T09:07:52.221646",
     "exception": false,
     "start_time": "2023-05-25T09:07:05.392285",
     "status": "completed"
    },
    "tags": []
   },
   "outputs": [],
   "source": [
    "from sklearn.model_selection import train_test_split\n",
    "\n",
    "x = x.map(lambda x : vectorizer(x).numpy())"
   ]
  },
  {
   "cell_type": "code",
   "execution_count": 22,
   "id": "fc943730",
   "metadata": {
    "execution": {
     "iopub.execute_input": "2023-05-25T09:07:52.247669Z",
     "iopub.status.busy": "2023-05-25T09:07:52.247346Z",
     "iopub.status.idle": "2023-05-25T09:07:52.888230Z",
     "shell.execute_reply": "2023-05-25T09:07:52.887163Z"
    },
    "papermill": {
     "duration": 0.65665,
     "end_time": "2023-05-25T09:07:52.891050",
     "exception": false,
     "start_time": "2023-05-25T09:07:52.234400",
     "status": "completed"
    },
    "tags": []
   },
   "outputs": [],
   "source": [
    "x = np.asarray([e.astype('float32') for e in x])"
   ]
  },
  {
   "cell_type": "code",
   "execution_count": 23,
   "id": "81151a04",
   "metadata": {
    "execution": {
     "iopub.execute_input": "2023-05-25T09:07:52.918687Z",
     "iopub.status.busy": "2023-05-25T09:07:52.917941Z",
     "iopub.status.idle": "2023-05-25T09:07:52.922910Z",
     "shell.execute_reply": "2023-05-25T09:07:52.921974Z"
    },
    "papermill": {
     "duration": 0.020924,
     "end_time": "2023-05-25T09:07:52.924913",
     "exception": false,
     "start_time": "2023-05-25T09:07:52.903989",
     "status": "completed"
    },
    "tags": []
   },
   "outputs": [],
   "source": [
    "y = np.asarray(y, dtype='float32')"
   ]
  },
  {
   "cell_type": "code",
   "execution_count": 24,
   "id": "912adc6f",
   "metadata": {
    "execution": {
     "iopub.execute_input": "2023-05-25T09:07:52.949038Z",
     "iopub.status.busy": "2023-05-25T09:07:52.948704Z",
     "iopub.status.idle": "2023-05-25T09:07:53.234910Z",
     "shell.execute_reply": "2023-05-25T09:07:53.233909Z"
    },
    "papermill": {
     "duration": 0.301141,
     "end_time": "2023-05-25T09:07:53.237418",
     "exception": false,
     "start_time": "2023-05-25T09:07:52.936277",
     "status": "completed"
    },
    "tags": []
   },
   "outputs": [],
   "source": [
    "x_train, x_test, y_train, y_test = train_test_split(x, y, test_size=0.2, stratify=y, random_state=1234)\n",
    "x_train, x_val, y_train, y_val = train_test_split(x_train, y_train, test_size=0.2, random_state=1234)"
   ]
  },
  {
   "cell_type": "code",
   "execution_count": 25,
   "id": "b7a466b3",
   "metadata": {
    "execution": {
     "iopub.execute_input": "2023-05-25T09:07:53.263809Z",
     "iopub.status.busy": "2023-05-25T09:07:53.263508Z",
     "iopub.status.idle": "2023-05-25T09:09:19.318081Z",
     "shell.execute_reply": "2023-05-25T09:09:19.317022Z"
    },
    "papermill": {
     "duration": 86.069904,
     "end_time": "2023-05-25T09:09:19.320525",
     "exception": false,
     "start_time": "2023-05-25T09:07:53.250621",
     "status": "completed"
    },
    "tags": []
   },
   "outputs": [
    {
     "name": "stdout",
     "output_type": "stream",
     "text": [
      "Epoch 1/50\n",
      "30/30 [==============================] - 9s 103ms/step - loss: 0.6934 - accuracy: 0.4771 - val_loss: 0.6934 - val_accuracy: 0.4896\n",
      "Epoch 2/50\n",
      "30/30 [==============================] - 3s 86ms/step - loss: 0.6933 - accuracy: 0.4984 - val_loss: 0.6933 - val_accuracy: 0.4896\n",
      "Epoch 3/50\n",
      "30/30 [==============================] - 3s 89ms/step - loss: 0.6934 - accuracy: 0.5000 - val_loss: 0.6933 - val_accuracy: 0.4896\n",
      "Epoch 4/50\n",
      "30/30 [==============================] - 3s 88ms/step - loss: 0.6916 - accuracy: 0.5526 - val_loss: 0.6934 - val_accuracy: 0.4896\n",
      "Epoch 5/50\n",
      "30/30 [==============================] - 3s 88ms/step - loss: 0.3931 - accuracy: 0.9052 - val_loss: 0.6934 - val_accuracy: 0.4896\n",
      "Epoch 6/50\n",
      "30/30 [==============================] - 3s 87ms/step - loss: 0.1345 - accuracy: 0.9432 - val_loss: 0.6931 - val_accuracy: 0.5104\n",
      "Epoch 7/50\n",
      "30/30 [==============================] - 3s 86ms/step - loss: 0.1018 - accuracy: 0.9615 - val_loss: 0.6931 - val_accuracy: 0.5104\n",
      "Epoch 8/50\n",
      "30/30 [==============================] - 3s 91ms/step - loss: 0.1141 - accuracy: 0.9604 - val_loss: 0.6929 - val_accuracy: 0.5104\n",
      "Epoch 9/50\n",
      "30/30 [==============================] - 3s 87ms/step - loss: 0.0842 - accuracy: 0.9656 - val_loss: 0.6938 - val_accuracy: 0.4896\n",
      "Epoch 10/50\n",
      "30/30 [==============================] - 3s 87ms/step - loss: 0.0829 - accuracy: 0.9734 - val_loss: 0.6933 - val_accuracy: 0.4896\n",
      "Epoch 11/50\n",
      "30/30 [==============================] - 3s 86ms/step - loss: 0.0737 - accuracy: 0.9755 - val_loss: 0.6930 - val_accuracy: 0.4896\n",
      "Epoch 12/50\n",
      "30/30 [==============================] - 3s 86ms/step - loss: 0.0718 - accuracy: 0.9729 - val_loss: 0.6925 - val_accuracy: 0.5104\n",
      "Epoch 13/50\n",
      "30/30 [==============================] - 3s 89ms/step - loss: 0.0636 - accuracy: 0.9797 - val_loss: 0.6930 - val_accuracy: 0.4896\n",
      "Epoch 14/50\n",
      "30/30 [==============================] - 3s 87ms/step - loss: 0.0764 - accuracy: 0.9776 - val_loss: 0.6912 - val_accuracy: 0.5104\n",
      "Epoch 15/50\n",
      "30/30 [==============================] - 3s 88ms/step - loss: 0.0570 - accuracy: 0.9786 - val_loss: 0.6890 - val_accuracy: 0.5813\n",
      "Epoch 16/50\n",
      "30/30 [==============================] - 3s 88ms/step - loss: 0.0685 - accuracy: 0.9792 - val_loss: 0.6852 - val_accuracy: 0.5521\n",
      "Epoch 17/50\n",
      "30/30 [==============================] - 3s 88ms/step - loss: 0.0611 - accuracy: 0.9818 - val_loss: 0.6940 - val_accuracy: 0.4896\n",
      "Epoch 18/50\n",
      "30/30 [==============================] - 3s 87ms/step - loss: 0.0759 - accuracy: 0.9750 - val_loss: 0.6689 - val_accuracy: 0.6208\n",
      "Epoch 19/50\n",
      "30/30 [==============================] - 3s 89ms/step - loss: 0.0714 - accuracy: 0.9755 - val_loss: 0.6507 - val_accuracy: 0.7563\n",
      "Epoch 20/50\n",
      "30/30 [==============================] - 3s 92ms/step - loss: 0.0736 - accuracy: 0.9729 - val_loss: 0.6410 - val_accuracy: 0.5771\n",
      "Epoch 21/50\n",
      "30/30 [==============================] - 3s 88ms/step - loss: 0.0495 - accuracy: 0.9828 - val_loss: 0.5760 - val_accuracy: 0.7708\n",
      "Epoch 22/50\n",
      "30/30 [==============================] - 3s 87ms/step - loss: 0.0648 - accuracy: 0.9828 - val_loss: 0.5412 - val_accuracy: 0.7812\n",
      "Epoch 23/50\n",
      "30/30 [==============================] - 3s 87ms/step - loss: 0.0661 - accuracy: 0.9786 - val_loss: 0.5160 - val_accuracy: 0.7792\n",
      "Epoch 24/50\n",
      "30/30 [==============================] - 3s 86ms/step - loss: 0.0515 - accuracy: 0.9828 - val_loss: 0.5491 - val_accuracy: 0.7063\n",
      "Epoch 25/50\n",
      "30/30 [==============================] - 3s 88ms/step - loss: 0.0488 - accuracy: 0.9885 - val_loss: 0.4754 - val_accuracy: 0.7729\n",
      "Epoch 26/50\n",
      "30/30 [==============================] - 3s 89ms/step - loss: 0.0500 - accuracy: 0.9812 - val_loss: 0.5550 - val_accuracy: 0.7479\n",
      "Epoch 27/50\n",
      "30/30 [==============================] - 3s 86ms/step - loss: 0.0477 - accuracy: 0.9823 - val_loss: 0.5098 - val_accuracy: 0.7792\n",
      "Epoch 28/50\n",
      "30/30 [==============================] - 3s 88ms/step - loss: 0.0563 - accuracy: 0.9807 - val_loss: 0.5307 - val_accuracy: 0.7792\n",
      "Epoch 29/50\n",
      "30/30 [==============================] - 3s 86ms/step - loss: 0.0495 - accuracy: 0.9807 - val_loss: 0.7572 - val_accuracy: 0.7083\n",
      "Epoch 30/50\n",
      "30/30 [==============================] - 3s 86ms/step - loss: 0.0623 - accuracy: 0.9776 - val_loss: 1.0504 - val_accuracy: 0.6500\n"
     ]
    },
    {
     "data": {
      "text/plain": [
       "<keras.callbacks.History at 0x7bf1c0125d20>"
      ]
     },
     "execution_count": 25,
     "metadata": {},
     "output_type": "execute_result"
    }
   ],
   "source": [
    "from keras.optimizers import Adam, RMSprop\n",
    "from keras.callbacks import EarlyStopping\n",
    "\n",
    "callback = EarlyStopping(monitor='val_loss', patience=5)\n",
    "\n",
    "model.compile(optimizer=RMSprop(), loss='binary_crossentropy', metrics=['accuracy'])\n",
    "model.fit(x=x_train, y=y_train, validation_data=[x_val, y_val], epochs=50, batch_size=64, callbacks=[callback])"
   ]
  },
  {
   "cell_type": "code",
   "execution_count": 26,
   "id": "b298da99",
   "metadata": {
    "execution": {
     "iopub.execute_input": "2023-05-25T09:09:19.490859Z",
     "iopub.status.busy": "2023-05-25T09:09:19.490535Z",
     "iopub.status.idle": "2023-05-25T09:10:18.139864Z",
     "shell.execute_reply": "2023-05-25T09:10:18.138940Z"
    },
    "papermill": {
     "duration": 58.751643,
     "end_time": "2023-05-25T09:10:18.158272",
     "exception": false,
     "start_time": "2023-05-25T09:09:19.406629",
     "status": "completed"
    },
    "tags": []
   },
   "outputs": [
    {
     "name": "stdout",
     "output_type": "stream",
     "text": [
      "19/19 [==============================] - 0s 10ms/step - loss: 1.0262 - accuracy: 0.6483\n"
     ]
    },
    {
     "data": {
      "text/plain": [
       "[1.0261977910995483, 0.6483333110809326]"
      ]
     },
     "execution_count": 26,
     "metadata": {},
     "output_type": "execute_result"
    }
   ],
   "source": [
    "model.evaluate(x_test, y_test)"
   ]
  },
  {
   "cell_type": "code",
   "execution_count": 27,
   "id": "ad75354e",
   "metadata": {
    "execution": {
     "iopub.execute_input": "2023-05-25T09:10:18.329176Z",
     "iopub.status.busy": "2023-05-25T09:10:18.328301Z",
     "iopub.status.idle": "2023-05-25T09:10:18.534631Z",
     "shell.execute_reply": "2023-05-25T09:10:18.533761Z"
    },
    "papermill": {
     "duration": 0.292803,
     "end_time": "2023-05-25T09:10:18.537033",
     "exception": false,
     "start_time": "2023-05-25T09:10:18.244230",
     "status": "completed"
    },
    "tags": []
   },
   "outputs": [
    {
     "data": {
      "text/html": [
       "<style>#sk-container-id-1 {color: black;background-color: white;}#sk-container-id-1 pre{padding: 0;}#sk-container-id-1 div.sk-toggleable {background-color: white;}#sk-container-id-1 label.sk-toggleable__label {cursor: pointer;display: block;width: 100%;margin-bottom: 0;padding: 0.3em;box-sizing: border-box;text-align: center;}#sk-container-id-1 label.sk-toggleable__label-arrow:before {content: \"▸\";float: left;margin-right: 0.25em;color: #696969;}#sk-container-id-1 label.sk-toggleable__label-arrow:hover:before {color: black;}#sk-container-id-1 div.sk-estimator:hover label.sk-toggleable__label-arrow:before {color: black;}#sk-container-id-1 div.sk-toggleable__content {max-height: 0;max-width: 0;overflow: hidden;text-align: left;background-color: #f0f8ff;}#sk-container-id-1 div.sk-toggleable__content pre {margin: 0.2em;color: black;border-radius: 0.25em;background-color: #f0f8ff;}#sk-container-id-1 input.sk-toggleable__control:checked~div.sk-toggleable__content {max-height: 200px;max-width: 100%;overflow: auto;}#sk-container-id-1 input.sk-toggleable__control:checked~label.sk-toggleable__label-arrow:before {content: \"▾\";}#sk-container-id-1 div.sk-estimator input.sk-toggleable__control:checked~label.sk-toggleable__label {background-color: #d4ebff;}#sk-container-id-1 div.sk-label input.sk-toggleable__control:checked~label.sk-toggleable__label {background-color: #d4ebff;}#sk-container-id-1 input.sk-hidden--visually {border: 0;clip: rect(1px 1px 1px 1px);clip: rect(1px, 1px, 1px, 1px);height: 1px;margin: -1px;overflow: hidden;padding: 0;position: absolute;width: 1px;}#sk-container-id-1 div.sk-estimator {font-family: monospace;background-color: #f0f8ff;border: 1px dotted black;border-radius: 0.25em;box-sizing: border-box;margin-bottom: 0.5em;}#sk-container-id-1 div.sk-estimator:hover {background-color: #d4ebff;}#sk-container-id-1 div.sk-parallel-item::after {content: \"\";width: 100%;border-bottom: 1px solid gray;flex-grow: 1;}#sk-container-id-1 div.sk-label:hover label.sk-toggleable__label {background-color: #d4ebff;}#sk-container-id-1 div.sk-serial::before {content: \"\";position: absolute;border-left: 1px solid gray;box-sizing: border-box;top: 0;bottom: 0;left: 50%;z-index: 0;}#sk-container-id-1 div.sk-serial {display: flex;flex-direction: column;align-items: center;background-color: white;padding-right: 0.2em;padding-left: 0.2em;position: relative;}#sk-container-id-1 div.sk-item {position: relative;z-index: 1;}#sk-container-id-1 div.sk-parallel {display: flex;align-items: stretch;justify-content: center;background-color: white;position: relative;}#sk-container-id-1 div.sk-item::before, #sk-container-id-1 div.sk-parallel-item::before {content: \"\";position: absolute;border-left: 1px solid gray;box-sizing: border-box;top: 0;bottom: 0;left: 50%;z-index: -1;}#sk-container-id-1 div.sk-parallel-item {display: flex;flex-direction: column;z-index: 1;position: relative;background-color: white;}#sk-container-id-1 div.sk-parallel-item:first-child::after {align-self: flex-end;width: 50%;}#sk-container-id-1 div.sk-parallel-item:last-child::after {align-self: flex-start;width: 50%;}#sk-container-id-1 div.sk-parallel-item:only-child::after {width: 0;}#sk-container-id-1 div.sk-dashed-wrapped {border: 1px dashed gray;margin: 0 0.4em 0.5em 0.4em;box-sizing: border-box;padding-bottom: 0.4em;background-color: white;}#sk-container-id-1 div.sk-label label {font-family: monospace;font-weight: bold;display: inline-block;line-height: 1.2em;}#sk-container-id-1 div.sk-label-container {text-align: center;}#sk-container-id-1 div.sk-container {/* jupyter's `normalize.less` sets `[hidden] { display: none; }` but bootstrap.min.css set `[hidden] { display: none !important; }` so we also need the `!important` here to be able to override the default hidden behavior on the sphinx rendered scikit-learn.org. See: https://github.com/scikit-learn/scikit-learn/issues/21755 */display: inline-block !important;position: relative;}#sk-container-id-1 div.sk-text-repr-fallback {display: none;}</style><div id=\"sk-container-id-1\" class=\"sk-top-container\"><div class=\"sk-text-repr-fallback\"><pre>KNeighborsClassifier()</pre><b>In a Jupyter environment, please rerun this cell to show the HTML representation or trust the notebook. <br />On GitHub, the HTML representation is unable to render, please try loading this page with nbviewer.org.</b></div><div class=\"sk-container\" hidden><div class=\"sk-item\"><div class=\"sk-estimator sk-toggleable\"><input class=\"sk-toggleable__control sk-hidden--visually\" id=\"sk-estimator-id-1\" type=\"checkbox\" checked><label for=\"sk-estimator-id-1\" class=\"sk-toggleable__label sk-toggleable__label-arrow\">KNeighborsClassifier</label><div class=\"sk-toggleable__content\"><pre>KNeighborsClassifier()</pre></div></div></div></div></div>"
      ],
      "text/plain": [
       "KNeighborsClassifier()"
      ]
     },
     "execution_count": 27,
     "metadata": {},
     "output_type": "execute_result"
    }
   ],
   "source": [
    "from sklearn.neighbors import KNeighborsClassifier\n",
    "\n",
    "knn = KNeighborsClassifier(n_neighbors=5)\n",
    "knn.fit(x_train, y_train)"
   ]
  },
  {
   "cell_type": "code",
   "execution_count": 28,
   "id": "ae3bc245",
   "metadata": {
    "execution": {
     "iopub.execute_input": "2023-05-25T09:10:18.719190Z",
     "iopub.status.busy": "2023-05-25T09:10:18.718054Z",
     "iopub.status.idle": "2023-05-25T09:10:22.329993Z",
     "shell.execute_reply": "2023-05-25T09:10:22.328859Z"
    },
    "papermill": {
     "duration": 3.709542,
     "end_time": "2023-05-25T09:10:22.332246",
     "exception": false,
     "start_time": "2023-05-25T09:10:18.622704",
     "status": "completed"
    },
    "tags": []
   },
   "outputs": [
    {
     "data": {
      "text/plain": [
       "0.6283333333333333"
      ]
     },
     "execution_count": 28,
     "metadata": {},
     "output_type": "execute_result"
    }
   ],
   "source": [
    "knn.score(x_test, y_test)"
   ]
  }
 ],
 "metadata": {
  "kernelspec": {
   "display_name": "Python 3",
   "language": "python",
   "name": "python3"
  },
  "language_info": {
   "codemirror_mode": {
    "name": "ipython",
    "version": 3
   },
   "file_extension": ".py",
   "mimetype": "text/x-python",
   "name": "python",
   "nbconvert_exporter": "python",
   "pygments_lexer": "ipython3",
   "version": "3.10.10"
  },
  "papermill": {
   "default_parameters": {},
   "duration": 424.852936,
   "end_time": "2023-05-25T09:10:25.394780",
   "environment_variables": {},
   "exception": null,
   "input_path": "__notebook__.ipynb",
   "output_path": "__notebook__.ipynb",
   "parameters": {},
   "start_time": "2023-05-25T09:03:20.541844",
   "version": "2.4.0"
  }
 },
 "nbformat": 4,
 "nbformat_minor": 5
}
