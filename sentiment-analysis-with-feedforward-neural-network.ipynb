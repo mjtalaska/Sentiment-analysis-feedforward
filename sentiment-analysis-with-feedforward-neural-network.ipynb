{
 "cells": [
  {
   "cell_type": "code",
   "execution_count": 1,
   "id": "2ba2fddf",
   "metadata": {
    "_cell_guid": "b1076dfc-b9ad-4769-8c92-a6c4dae69d19",
    "_uuid": "8f2839f25d086af736a60e9eeb907d3b93b6e0e5",
    "execution": {
     "iopub.execute_input": "2023-05-25T23:22:57.072265Z",
     "iopub.status.busy": "2023-05-25T23:22:57.071838Z",
     "iopub.status.idle": "2023-05-25T23:22:57.084434Z",
     "shell.execute_reply": "2023-05-25T23:22:57.083515Z"
    },
    "papermill": {
     "duration": 0.027324,
     "end_time": "2023-05-25T23:22:57.086585",
     "exception": false,
     "start_time": "2023-05-25T23:22:57.059261",
     "status": "completed"
    },
    "tags": []
   },
   "outputs": [],
   "source": [
    "import numpy as np\n",
    "import pandas as pd\n",
    "import os"
   ]
  },
  {
   "cell_type": "code",
   "execution_count": 2,
   "id": "78c95cef",
   "metadata": {
    "execution": {
     "iopub.execute_input": "2023-05-25T23:22:57.105306Z",
     "iopub.status.busy": "2023-05-25T23:22:57.104590Z",
     "iopub.status.idle": "2023-05-25T23:22:57.122521Z",
     "shell.execute_reply": "2023-05-25T23:22:57.121692Z"
    },
    "papermill": {
     "duration": 0.029396,
     "end_time": "2023-05-25T23:22:57.124712",
     "exception": false,
     "start_time": "2023-05-25T23:22:57.095316",
     "status": "completed"
    },
    "tags": []
   },
   "outputs": [
    {
     "name": "stdout",
     "output_type": "stream",
     "text": [
      "/kaggle/input/sentiment-labelled-sentences/sentiment labelled sentences/amazon_cells_labelled.txt\n",
      "/kaggle/input/sentiment-labelled-sentences/sentiment labelled sentences/imdb_labelled.txt\n",
      "/kaggle/input/sentiment-labelled-sentences/sentiment labelled sentences/readme.txt\n",
      "/kaggle/input/sentiment-labelled-sentences/sentiment labelled sentences/yelp_labelled.txt\n"
     ]
    }
   ],
   "source": [
    "for dirname, _, filenames in os.walk('/kaggle/input'):\n",
    "    for filename in filenames:\n",
    "        print(os.path.join(dirname, filename))"
   ]
  },
  {
   "cell_type": "code",
   "execution_count": 3,
   "id": "2858f470",
   "metadata": {
    "execution": {
     "iopub.execute_input": "2023-05-25T23:22:57.143869Z",
     "iopub.status.busy": "2023-05-25T23:22:57.143177Z",
     "iopub.status.idle": "2023-05-25T23:22:57.191687Z",
     "shell.execute_reply": "2023-05-25T23:22:57.190814Z"
    },
    "papermill": {
     "duration": 0.059882,
     "end_time": "2023-05-25T23:22:57.193735",
     "exception": false,
     "start_time": "2023-05-25T23:22:57.133853",
     "status": "completed"
    },
    "tags": []
   },
   "outputs": [
    {
     "name": "stdout",
     "output_type": "stream",
     "text": [
      "amazon = (1000, 2), imdb = (1000, 2), yelp = (1000, 2)\n"
     ]
    },
    {
     "name": "stderr",
     "output_type": "stream",
     "text": [
      "/tmp/ipykernel_22/3939053422.py:5: ParserWarning: Falling back to the 'python' engine because the 'c' engine does not support regex separators (separators > 1 char and different from '\\s+' are interpreted as regex); you can avoid this warning by specifying engine='python'.\n",
      "  imdb = pd.read_csv('/kaggle/input/sentiment-labelled-sentences/sentiment labelled sentences/imdb_labelled.txt',\n"
     ]
    }
   ],
   "source": [
    "amazon = pd.read_csv('/kaggle/input/sentiment-labelled-sentences/sentiment labelled sentences/amazon_cells_labelled.txt', \n",
    "                     sep='\\t',\n",
    "                     lineterminator='\\n',\n",
    "                     names=['sentance', 'sentiment'] )\n",
    "imdb = pd.read_csv('/kaggle/input/sentiment-labelled-sentences/sentiment labelled sentences/imdb_labelled.txt', \n",
    "                     sep='\\t|\\s{3}',\n",
    "                     lineterminator='\\n',\n",
    "                     names=['sentance', 'sentiment'] )\n",
    "yelp = pd.read_csv('/kaggle/input/sentiment-labelled-sentences/sentiment labelled sentences/yelp_labelled.txt', \n",
    "                     sep='\\t',\n",
    "                     lineterminator='\\n',\n",
    "                     names=['sentance', 'sentiment'] )\n",
    "print(f\"amazon = {amazon.shape}, imdb = {imdb.shape}, yelp = {yelp.shape}\")"
   ]
  },
  {
   "cell_type": "code",
   "execution_count": 4,
   "id": "2e621a76",
   "metadata": {
    "execution": {
     "iopub.execute_input": "2023-05-25T23:22:57.213081Z",
     "iopub.status.busy": "2023-05-25T23:22:57.212364Z",
     "iopub.status.idle": "2023-05-25T23:22:57.220554Z",
     "shell.execute_reply": "2023-05-25T23:22:57.219642Z"
    },
    "papermill": {
     "duration": 0.019865,
     "end_time": "2023-05-25T23:22:57.222562",
     "exception": false,
     "start_time": "2023-05-25T23:22:57.202697",
     "status": "completed"
    },
    "tags": []
   },
   "outputs": [
    {
     "data": {
      "text/plain": [
       "(3000, 2)"
      ]
     },
     "execution_count": 4,
     "metadata": {},
     "output_type": "execute_result"
    }
   ],
   "source": [
    "data = pd.DataFrame(data=np.concatenate([amazon,imdb,yelp], axis=0), columns=['sentance', 'sentiment'])\n",
    "data.shape"
   ]
  },
  {
   "cell_type": "code",
   "execution_count": 5,
   "id": "91759983",
   "metadata": {
    "execution": {
     "iopub.execute_input": "2023-05-25T23:22:57.242453Z",
     "iopub.status.busy": "2023-05-25T23:22:57.241711Z",
     "iopub.status.idle": "2023-05-25T23:22:57.260370Z",
     "shell.execute_reply": "2023-05-25T23:22:57.259271Z"
    },
    "papermill": {
     "duration": 0.031342,
     "end_time": "2023-05-25T23:22:57.262886",
     "exception": false,
     "start_time": "2023-05-25T23:22:57.231544",
     "status": "completed"
    },
    "tags": []
   },
   "outputs": [
    {
     "data": {
      "text/html": [
       "<div>\n",
       "<style scoped>\n",
       "    .dataframe tbody tr th:only-of-type {\n",
       "        vertical-align: middle;\n",
       "    }\n",
       "\n",
       "    .dataframe tbody tr th {\n",
       "        vertical-align: top;\n",
       "    }\n",
       "\n",
       "    .dataframe thead th {\n",
       "        text-align: right;\n",
       "    }\n",
       "</style>\n",
       "<table border=\"1\" class=\"dataframe\">\n",
       "  <thead>\n",
       "    <tr style=\"text-align: right;\">\n",
       "      <th></th>\n",
       "      <th>sentance</th>\n",
       "      <th>sentiment</th>\n",
       "    </tr>\n",
       "  </thead>\n",
       "  <tbody>\n",
       "    <tr>\n",
       "      <th>0</th>\n",
       "      <td>So there is no way for me to plug it in here i...</td>\n",
       "      <td>0</td>\n",
       "    </tr>\n",
       "    <tr>\n",
       "      <th>1</th>\n",
       "      <td>Good case, Excellent value.</td>\n",
       "      <td>1</td>\n",
       "    </tr>\n",
       "    <tr>\n",
       "      <th>2</th>\n",
       "      <td>Great for the jawbone.</td>\n",
       "      <td>1</td>\n",
       "    </tr>\n",
       "    <tr>\n",
       "      <th>3</th>\n",
       "      <td>Tied to charger for conversations lasting more...</td>\n",
       "      <td>0</td>\n",
       "    </tr>\n",
       "    <tr>\n",
       "      <th>4</th>\n",
       "      <td>The mic is great.</td>\n",
       "      <td>1</td>\n",
       "    </tr>\n",
       "    <tr>\n",
       "      <th>...</th>\n",
       "      <td>...</td>\n",
       "      <td>...</td>\n",
       "    </tr>\n",
       "    <tr>\n",
       "      <th>2995</th>\n",
       "      <td>I think food should have flavor and texture an...</td>\n",
       "      <td>0</td>\n",
       "    </tr>\n",
       "    <tr>\n",
       "      <th>2996</th>\n",
       "      <td>Appetite instantly gone.</td>\n",
       "      <td>0</td>\n",
       "    </tr>\n",
       "    <tr>\n",
       "      <th>2997</th>\n",
       "      <td>Overall I was not impressed and would not go b...</td>\n",
       "      <td>0</td>\n",
       "    </tr>\n",
       "    <tr>\n",
       "      <th>2998</th>\n",
       "      <td>The whole experience was underwhelming, and I ...</td>\n",
       "      <td>0</td>\n",
       "    </tr>\n",
       "    <tr>\n",
       "      <th>2999</th>\n",
       "      <td>Then, as if I hadn't wasted enough of my life ...</td>\n",
       "      <td>0</td>\n",
       "    </tr>\n",
       "  </tbody>\n",
       "</table>\n",
       "<p>3000 rows × 2 columns</p>\n",
       "</div>"
      ],
      "text/plain": [
       "                                               sentance sentiment\n",
       "0     So there is no way for me to plug it in here i...         0\n",
       "1                           Good case, Excellent value.         1\n",
       "2                                Great for the jawbone.         1\n",
       "3     Tied to charger for conversations lasting more...         0\n",
       "4                                     The mic is great.         1\n",
       "...                                                 ...       ...\n",
       "2995  I think food should have flavor and texture an...         0\n",
       "2996                           Appetite instantly gone.         0\n",
       "2997  Overall I was not impressed and would not go b...         0\n",
       "2998  The whole experience was underwhelming, and I ...         0\n",
       "2999  Then, as if I hadn't wasted enough of my life ...         0\n",
       "\n",
       "[3000 rows x 2 columns]"
      ]
     },
     "execution_count": 5,
     "metadata": {},
     "output_type": "execute_result"
    }
   ],
   "source": [
    "data"
   ]
  },
  {
   "cell_type": "code",
   "execution_count": 6,
   "id": "571d182c",
   "metadata": {
    "execution": {
     "iopub.execute_input": "2023-05-25T23:22:57.286320Z",
     "iopub.status.busy": "2023-05-25T23:22:57.285463Z",
     "iopub.status.idle": "2023-05-25T23:22:57.292342Z",
     "shell.execute_reply": "2023-05-25T23:22:57.290947Z"
    },
    "papermill": {
     "duration": 0.020139,
     "end_time": "2023-05-25T23:22:57.294473",
     "exception": false,
     "start_time": "2023-05-25T23:22:57.274334",
     "status": "completed"
    },
    "tags": []
   },
   "outputs": [
    {
     "name": "stdout",
     "output_type": "stream",
     "text": [
      "What Where did all the punctuation go\n"
     ]
    }
   ],
   "source": [
    "import string\n",
    "\n",
    "def remove_punc(sentance):\n",
    "    return sentance.translate(str.maketrans('','',string.punctuation))\n",
    "\n",
    "print(remove_punc('What? Where did all the punctuation go????'))"
   ]
  },
  {
   "cell_type": "code",
   "execution_count": 7,
   "id": "ef680c3d",
   "metadata": {
    "execution": {
     "iopub.execute_input": "2023-05-25T23:22:57.315563Z",
     "iopub.status.busy": "2023-05-25T23:22:57.314770Z",
     "iopub.status.idle": "2023-05-25T23:23:10.724434Z",
     "shell.execute_reply": "2023-05-25T23:23:10.722733Z"
    },
    "papermill": {
     "duration": 13.422579,
     "end_time": "2023-05-25T23:23:10.726993",
     "exception": false,
     "start_time": "2023-05-25T23:22:57.304414",
     "status": "completed"
    },
    "tags": []
   },
   "outputs": [
    {
     "name": "stdout",
     "output_type": "stream",
     "text": [
      "Collecting pyspellchecker\r\n",
      "  Downloading pyspellchecker-0.7.2-py3-none-any.whl (3.4 MB)\r\n",
      "\u001b[2K     \u001b[90m━━━━━━━━━━━━━━━━━━━━━━━━━━━━━━━━━━━━━━━━\u001b[0m \u001b[32m3.4/3.4 MB\u001b[0m \u001b[31m37.1 MB/s\u001b[0m eta \u001b[36m0:00:00\u001b[0m\r\n",
      "\u001b[?25hInstalling collected packages: pyspellchecker\r\n",
      "Successfully installed pyspellchecker-0.7.2\r\n",
      "\u001b[33mWARNING: Running pip as the 'root' user can result in broken permissions and conflicting behaviour with the system package manager. It is recommended to use a virtual environment instead: https://pip.pypa.io/warnings/venv\u001b[0m\u001b[33m\r\n",
      "\u001b[0mits spelling time\n"
     ]
    }
   ],
   "source": [
    "!pip install pyspellchecker\n",
    "\n",
    "from spellchecker import SpellChecker\n",
    "\n",
    "sc = SpellChecker()\n",
    "\n",
    "def correct(sentance):\n",
    "    misspelled = sc.unknown(str(sentance).split())\n",
    "    correct = [sc.correction(w) if w in misspelled else w for w in sentance.split()]\n",
    "    return \" \".join(filter(lambda c : c is not None, correct))\n",
    "\n",
    "print(correct('its spellinf timr'))"
   ]
  },
  {
   "cell_type": "code",
   "execution_count": 8,
   "id": "56a15a26",
   "metadata": {
    "execution": {
     "iopub.execute_input": "2023-05-25T23:23:10.750196Z",
     "iopub.status.busy": "2023-05-25T23:23:10.749162Z",
     "iopub.status.idle": "2023-05-25T23:23:12.477144Z",
     "shell.execute_reply": "2023-05-25T23:23:12.475778Z"
    },
    "papermill": {
     "duration": 1.741657,
     "end_time": "2023-05-25T23:23:12.479256",
     "exception": false,
     "start_time": "2023-05-25T23:23:10.737599",
     "status": "completed"
    },
    "tags": []
   },
   "outputs": [
    {
     "name": "stderr",
     "output_type": "stream",
     "text": [
      "/opt/conda/lib/python3.10/site-packages/scipy/__init__.py:146: UserWarning: A NumPy version >=1.16.5 and <1.23.0 is required for this version of SciPy (detected version 1.23.5\n",
      "  warnings.warn(f\"A NumPy version >={np_minversion} and <{np_maxversion}\"\n"
     ]
    },
    {
     "name": "stdout",
     "output_type": "stream",
     "text": [
      "There longer stop words, even bother.\n"
     ]
    }
   ],
   "source": [
    "from nltk.corpus import stopwords\n",
    "\n",
    "def remove_stop(sentance):\n",
    "    correct = [w for w in sentance.split() if w not in stopwords.words('english')]\n",
    "    return \" \".join(correct)\n",
    "\n",
    "print(remove_stop('There are no longer stop words, so why even bother.'))"
   ]
  },
  {
   "cell_type": "code",
   "execution_count": 9,
   "id": "910c6223",
   "metadata": {
    "execution": {
     "iopub.execute_input": "2023-05-25T23:23:12.501696Z",
     "iopub.status.busy": "2023-05-25T23:23:12.500800Z",
     "iopub.status.idle": "2023-05-25T23:23:12.507882Z",
     "shell.execute_reply": "2023-05-25T23:23:12.506638Z"
    },
    "papermill": {
     "duration": 0.020061,
     "end_time": "2023-05-25T23:23:12.509805",
     "exception": false,
     "start_time": "2023-05-25T23:23:12.489744",
     "status": "completed"
    },
    "tags": []
   },
   "outputs": [
    {
     "name": "stdout",
     "output_type": "stream",
     "text": [
      "It is final time for some good old stem shenanigan\n"
     ]
    }
   ],
   "source": [
    "from nltk.stem.porter import PorterStemmer\n",
    "stemmer = PorterStemmer()\n",
    "\n",
    "def stemming(sentance):\n",
    "    correct = [stemmer.stem(w) for w in sentance.split()]\n",
    "    return \" \".join(correct)\n",
    "\n",
    "print(stemming('It is finally time for some good old stemming shenanigans'))"
   ]
  },
  {
   "cell_type": "code",
   "execution_count": 10,
   "id": "444476d5",
   "metadata": {
    "execution": {
     "iopub.execute_input": "2023-05-25T23:23:12.531496Z",
     "iopub.status.busy": "2023-05-25T23:23:12.530696Z",
     "iopub.status.idle": "2023-05-25T23:23:12.536597Z",
     "shell.execute_reply": "2023-05-25T23:23:12.535475Z"
    },
    "papermill": {
     "duration": 0.018834,
     "end_time": "2023-05-25T23:23:12.538790",
     "exception": false,
     "start_time": "2023-05-25T23:23:12.519956",
     "status": "completed"
    },
    "tags": []
   },
   "outputs": [
    {
     "name": "stdout",
     "output_type": "stream",
     "text": [
      "There were at least numbers here, but are left\n"
     ]
    }
   ],
   "source": [
    "def remove_numbers(sentance):\n",
    "    return \" \".join([s for s in sentance.split() if not s.isdigit()])\n",
    "\n",
    "print(remove_numbers('There were at least 10 numbers here, but 0 are left'))"
   ]
  },
  {
   "cell_type": "code",
   "execution_count": 11,
   "id": "aa7c1f9f",
   "metadata": {
    "execution": {
     "iopub.execute_input": "2023-05-25T23:23:12.560447Z",
     "iopub.status.busy": "2023-05-25T23:23:12.559841Z",
     "iopub.status.idle": "2023-05-25T23:23:12.566604Z",
     "shell.execute_reply": "2023-05-25T23:23:12.565714Z"
    },
    "papermill": {
     "duration": 0.020054,
     "end_time": "2023-05-25T23:23:12.568837",
     "exception": false,
     "start_time": "2023-05-25T23:23:12.548783",
     "status": "completed"
    },
    "tags": []
   },
   "outputs": [],
   "source": [
    "def prepare_data(sentance, vectorizer=None):\n",
    "    sentance = sentance.lower()\n",
    "    sentance = remove_punc(sentance)\n",
    "    sentance = correct(sentance)\n",
    "    sentance = remove_stop(sentance)\n",
    "    sentance = stemming(sentance)\n",
    "    sentance = remove_numbers(sentance)\n",
    "    if vectorizer is None:\n",
    "        return sentance\n",
    "    else: \n",
    "        return np.asarray(vectorizer(sentance).numpy(), dtype='float32').reshape(1,-1)"
   ]
  },
  {
   "cell_type": "code",
   "execution_count": 12,
   "id": "539e3a52",
   "metadata": {
    "execution": {
     "iopub.execute_input": "2023-05-25T23:23:12.592040Z",
     "iopub.status.busy": "2023-05-25T23:23:12.591261Z",
     "iopub.status.idle": "2023-05-25T23:23:12.599912Z",
     "shell.execute_reply": "2023-05-25T23:23:12.598924Z"
    },
    "papermill": {
     "duration": 0.022699,
     "end_time": "2023-05-25T23:23:12.602315",
     "exception": false,
     "start_time": "2023-05-25T23:23:12.579616",
     "status": "completed"
    },
    "tags": []
   },
   "outputs": [
    {
     "data": {
      "text/plain": [
       "0       So there is no way for me to plug it in here i...\n",
       "1                             Good case, Excellent value.\n",
       "2                                  Great for the jawbone.\n",
       "3       Tied to charger for conversations lasting more...\n",
       "4                                       The mic is great.\n",
       "                              ...                        \n",
       "2995    I think food should have flavor and texture an...\n",
       "2996                             Appetite instantly gone.\n",
       "2997    Overall I was not impressed and would not go b...\n",
       "2998    The whole experience was underwhelming, and I ...\n",
       "2999    Then, as if I hadn't wasted enough of my life ...\n",
       "Name: sentance, Length: 3000, dtype: object"
      ]
     },
     "execution_count": 12,
     "metadata": {},
     "output_type": "execute_result"
    }
   ],
   "source": [
    "x = data['sentance']\n",
    "y = data['sentiment']\n",
    "x"
   ]
  },
  {
   "cell_type": "code",
   "execution_count": 13,
   "id": "5d5ed810",
   "metadata": {
    "execution": {
     "iopub.execute_input": "2023-05-25T23:23:12.625987Z",
     "iopub.status.busy": "2023-05-25T23:23:12.625147Z",
     "iopub.status.idle": "2023-05-25T23:26:00.366890Z",
     "shell.execute_reply": "2023-05-25T23:26:00.364125Z"
    },
    "papermill": {
     "duration": 167.758293,
     "end_time": "2023-05-25T23:26:00.371524",
     "exception": false,
     "start_time": "2023-05-25T23:23:12.613231",
     "status": "completed"
    },
    "tags": []
   },
   "outputs": [],
   "source": [
    "x = x.map(lambda x : prepare_data(x))"
   ]
  },
  {
   "cell_type": "code",
   "execution_count": 14,
   "id": "ef7d584b",
   "metadata": {
    "execution": {
     "iopub.execute_input": "2023-05-25T23:26:00.421964Z",
     "iopub.status.busy": "2023-05-25T23:26:00.421229Z",
     "iopub.status.idle": "2023-05-25T23:26:14.981818Z",
     "shell.execute_reply": "2023-05-25T23:26:14.980792Z"
    },
    "papermill": {
     "duration": 14.585632,
     "end_time": "2023-05-25T23:26:14.984257",
     "exception": false,
     "start_time": "2023-05-25T23:26:00.398625",
     "status": "completed"
    },
    "tags": []
   },
   "outputs": [],
   "source": [
    "from keras.layers import TextVectorization\n",
    "import tensorflow as tf\n",
    "data_to_adapt = tf.constant(x)\n",
    "\n",
    "n = 5\n",
    "vectorizer = TextVectorization(output_mode='tf-idf', ngrams=n)\n",
    "vectorizer.adapt(data_to_adapt)"
   ]
  },
  {
   "cell_type": "code",
   "execution_count": 15,
   "id": "7628f041",
   "metadata": {
    "execution": {
     "iopub.execute_input": "2023-05-25T23:26:15.006151Z",
     "iopub.status.busy": "2023-05-25T23:26:15.005841Z",
     "iopub.status.idle": "2023-05-25T23:26:15.097261Z",
     "shell.execute_reply": "2023-05-25T23:26:15.096041Z"
    },
    "papermill": {
     "duration": 0.105326,
     "end_time": "2023-05-25T23:26:15.099898",
     "exception": false,
     "start_time": "2023-05-25T23:26:14.994572",
     "status": "completed"
    },
    "tags": []
   },
   "outputs": [
    {
     "data": {
      "text/plain": [
       "array([0., 0., 0., ..., 0., 0., 0.], dtype=float32)"
      ]
     },
     "execution_count": 15,
     "metadata": {},
     "output_type": "execute_result"
    }
   ],
   "source": [
    "vectorizer(x[0]).numpy()"
   ]
  },
  {
   "cell_type": "code",
   "execution_count": 16,
   "id": "0e0d8992",
   "metadata": {
    "execution": {
     "iopub.execute_input": "2023-05-25T23:26:15.124408Z",
     "iopub.status.busy": "2023-05-25T23:26:15.123624Z",
     "iopub.status.idle": "2023-05-25T23:26:15.130974Z",
     "shell.execute_reply": "2023-05-25T23:26:15.129978Z"
    },
    "papermill": {
     "duration": 0.020808,
     "end_time": "2023-05-25T23:26:15.132991",
     "exception": false,
     "start_time": "2023-05-25T23:26:15.112183",
     "status": "completed"
    },
    "tags": []
   },
   "outputs": [],
   "source": [
    "from keras.layers import Input, Dropout, Dense, Activation, BatchNormalization\n",
    "from keras import Model\n",
    "from keras.utils import plot_model\n",
    "from keras.regularizers import L2\n",
    "\n",
    "\n",
    "def make_model(input_size):\n",
    "    latent = [1024, 512, 128, 64]\n",
    "\n",
    "    inputs = Input(shape=(input_size, ))\n",
    "    layer = inputs\n",
    "\n",
    "    for l in latent:\n",
    "        layer = Dense(l, \n",
    "                      activation='relu', \n",
    "                      kernel_regularizer=L2(1e-4), \n",
    "                      bias_regularizer=L2(1e-4))(layer)\n",
    "    \n",
    "        layer = BatchNormalization()(layer)\n",
    "        layer = Dropout(0.4)(layer)\n",
    "\n",
    "    outputs = Dense(1, activation='sigmoid')(layer)\n",
    "\n",
    "    model = Model(inputs, outputs)\n",
    "    return model"
   ]
  },
  {
   "cell_type": "code",
   "execution_count": 17,
   "id": "f4d5b3c3",
   "metadata": {
    "execution": {
     "iopub.execute_input": "2023-05-25T23:26:15.154462Z",
     "iopub.status.busy": "2023-05-25T23:26:15.154199Z",
     "iopub.status.idle": "2023-05-25T23:27:01.250033Z",
     "shell.execute_reply": "2023-05-25T23:27:01.249074Z"
    },
    "papermill": {
     "duration": 46.109663,
     "end_time": "2023-05-25T23:27:01.252733",
     "exception": false,
     "start_time": "2023-05-25T23:26:15.143070",
     "status": "completed"
    },
    "tags": []
   },
   "outputs": [],
   "source": [
    "x_data = x.map(lambda x : vectorizer(x).numpy())"
   ]
  },
  {
   "cell_type": "code",
   "execution_count": 18,
   "id": "46ad60c0",
   "metadata": {
    "execution": {
     "iopub.execute_input": "2023-05-25T23:27:01.275713Z",
     "iopub.status.busy": "2023-05-25T23:27:01.275370Z",
     "iopub.status.idle": "2023-05-25T23:27:01.904529Z",
     "shell.execute_reply": "2023-05-25T23:27:01.903491Z"
    },
    "papermill": {
     "duration": 0.643336,
     "end_time": "2023-05-25T23:27:01.907098",
     "exception": false,
     "start_time": "2023-05-25T23:27:01.263762",
     "status": "completed"
    },
    "tags": []
   },
   "outputs": [],
   "source": [
    "x_data = np.asarray([x.astype('float32') for x in x_data])"
   ]
  },
  {
   "cell_type": "code",
   "execution_count": 19,
   "id": "ec78bbea",
   "metadata": {
    "execution": {
     "iopub.execute_input": "2023-05-25T23:27:01.930295Z",
     "iopub.status.busy": "2023-05-25T23:27:01.929334Z",
     "iopub.status.idle": "2023-05-25T23:27:01.934330Z",
     "shell.execute_reply": "2023-05-25T23:27:01.933466Z"
    },
    "papermill": {
     "duration": 0.018398,
     "end_time": "2023-05-25T23:27:01.936327",
     "exception": false,
     "start_time": "2023-05-25T23:27:01.917929",
     "status": "completed"
    },
    "tags": []
   },
   "outputs": [],
   "source": [
    "y_data = np.asarray(y, dtype='float32')"
   ]
  },
  {
   "cell_type": "code",
   "execution_count": 20,
   "id": "5b586b33",
   "metadata": {
    "execution": {
     "iopub.execute_input": "2023-05-25T23:27:01.958216Z",
     "iopub.status.busy": "2023-05-25T23:27:01.957928Z",
     "iopub.status.idle": "2023-05-25T23:27:02.117119Z",
     "shell.execute_reply": "2023-05-25T23:27:02.116086Z"
    },
    "papermill": {
     "duration": 0.173346,
     "end_time": "2023-05-25T23:27:02.119891",
     "exception": false,
     "start_time": "2023-05-25T23:27:01.946545",
     "status": "completed"
    },
    "tags": []
   },
   "outputs": [],
   "source": [
    "from sklearn.model_selection import train_test_split\n",
    "\n",
    "x_train, x_test, y_train, y_test = train_test_split(x_data, y_data, test_size=0.3, stratify=y, random_state=1234)"
   ]
  },
  {
   "cell_type": "code",
   "execution_count": 21,
   "id": "f32440c2",
   "metadata": {
    "execution": {
     "iopub.execute_input": "2023-05-25T23:27:02.143656Z",
     "iopub.status.busy": "2023-05-25T23:27:02.143353Z",
     "iopub.status.idle": "2023-05-25T23:27:02.147992Z",
     "shell.execute_reply": "2023-05-25T23:27:02.146932Z"
    },
    "papermill": {
     "duration": 0.019232,
     "end_time": "2023-05-25T23:27:02.150471",
     "exception": false,
     "start_time": "2023-05-25T23:27:02.131239",
     "status": "completed"
    },
    "tags": []
   },
   "outputs": [],
   "source": [
    "from keras.models import load_model\n",
    "#model = load_model('/kaggle/working/sentiment_model.h5')"
   ]
  },
  {
   "cell_type": "code",
   "execution_count": 22,
   "id": "8f1486e9",
   "metadata": {
    "execution": {
     "iopub.execute_input": "2023-05-25T23:27:02.172420Z",
     "iopub.status.busy": "2023-05-25T23:27:02.172156Z",
     "iopub.status.idle": "2023-05-25T23:27:02.532376Z",
     "shell.execute_reply": "2023-05-25T23:27:02.531404Z"
    },
    "papermill": {
     "duration": 0.374535,
     "end_time": "2023-05-25T23:27:02.535167",
     "exception": false,
     "start_time": "2023-05-25T23:27:02.160632",
     "status": "completed"
    },
    "tags": []
   },
   "outputs": [
    {
     "data": {
      "image/png": "[encoded data removed]",
      "text/plain": [
       "<IPython.core.display.Image object>"
      ]
     },
     "execution_count": 22,
     "metadata": {},
     "output_type": "execute_result"
    }
   ],
   "source": [
    "model = make_model(vectorizer.vocabulary_size())\n",
    "plot_model(model, show_shapes=True)"
   ]
  },
  {
   "cell_type": "code",
   "execution_count": 23,
   "id": "2628c97f",
   "metadata": {
    "execution": {
     "iopub.execute_input": "2023-05-25T23:27:02.560415Z",
     "iopub.status.busy": "2023-05-25T23:27:02.560118Z",
     "iopub.status.idle": "2023-05-25T23:27:26.512126Z",
     "shell.execute_reply": "2023-05-25T23:27:26.511075Z"
    },
    "papermill": {
     "duration": 23.967626,
     "end_time": "2023-05-25T23:27:26.514674",
     "exception": false,
     "start_time": "2023-05-25T23:27:02.547048",
     "status": "completed"
    },
    "tags": []
   },
   "outputs": [
    {
     "name": "stdout",
     "output_type": "stream",
     "text": [
      "Epoch 1/50\n",
      "27/27 [==============================] - 5s 42ms/step - loss: 1.1103 - accuracy: 0.6339 - val_loss: 2.2350 - val_accuracy: 0.7405\n",
      "Epoch 2/50\n",
      "27/27 [==============================] - 1s 28ms/step - loss: 2.6112 - accuracy: 0.8351 - val_loss: 2.6526 - val_accuracy: 0.7833\n",
      "Epoch 3/50\n",
      "27/27 [==============================] - 1s 26ms/step - loss: 2.2233 - accuracy: 0.9381 - val_loss: 2.0618 - val_accuracy: 0.7690\n",
      "Epoch 4/50\n",
      "27/27 [==============================] - 1s 25ms/step - loss: 1.7708 - accuracy: 0.9298 - val_loss: 1.7666 - val_accuracy: 0.7643\n",
      "Epoch 5/50\n",
      "27/27 [==============================] - 1s 29ms/step - loss: 1.5337 - accuracy: 0.9286 - val_loss: 1.5720 - val_accuracy: 0.7643\n",
      "Epoch 6/50\n",
      "27/27 [==============================] - 1s 26ms/step - loss: 1.4039 - accuracy: 0.9345 - val_loss: 1.4826 - val_accuracy: 0.7762\n",
      "Epoch 7/50\n",
      "27/27 [==============================] - 1s 25ms/step - loss: 1.2840 - accuracy: 0.9405 - val_loss: 1.3399 - val_accuracy: 0.7786\n",
      "Epoch 8/50\n",
      "27/27 [==============================] - 1s 28ms/step - loss: 1.2195 - accuracy: 0.9310 - val_loss: 1.3675 - val_accuracy: 0.7571\n",
      "Epoch 9/50\n",
      "27/27 [==============================] - 1s 29ms/step - loss: 1.2010 - accuracy: 0.9387 - val_loss: 1.2974 - val_accuracy: 0.7429\n",
      "Epoch 10/50\n",
      "27/27 [==============================] - 1s 31ms/step - loss: 1.1753 - accuracy: 0.9399 - val_loss: 1.3106 - val_accuracy: 0.7952\n",
      "Epoch 11/50\n",
      "27/27 [==============================] - 1s 27ms/step - loss: 1.3146 - accuracy: 0.9161 - val_loss: 1.6055 - val_accuracy: 0.7452\n",
      "Epoch 12/50\n",
      "27/27 [==============================] - 1s 28ms/step - loss: 1.5217 - accuracy: 0.8750 - val_loss: 1.5543 - val_accuracy: 0.7786\n",
      "Epoch 13/50\n",
      "27/27 [==============================] - 1s 28ms/step - loss: 1.2478 - accuracy: 0.9565 - val_loss: 1.2212 - val_accuracy: 0.7786\n",
      "Epoch 14/50\n",
      "27/27 [==============================] - 1s 27ms/step - loss: 1.1897 - accuracy: 0.9333 - val_loss: 1.4925 - val_accuracy: 0.7643\n",
      "Epoch 15/50\n",
      "27/27 [==============================] - 1s 25ms/step - loss: 1.4193 - accuracy: 0.8970 - val_loss: 1.5330 - val_accuracy: 0.7524\n",
      "Epoch 16/50\n",
      "27/27 [==============================] - 1s 25ms/step - loss: 1.3331 - accuracy: 0.9393 - val_loss: 1.4336 - val_accuracy: 0.8071\n",
      "Epoch 17/50\n",
      "27/27 [==============================] - 1s 26ms/step - loss: 1.3854 - accuracy: 0.9280 - val_loss: 1.6255 - val_accuracy: 0.7262\n",
      "Epoch 18/50\n",
      "27/27 [==============================] - 1s 26ms/step - loss: 1.4978 - accuracy: 0.9143 - val_loss: 1.6444 - val_accuracy: 0.7762\n",
      "Epoch 19/50\n",
      "27/27 [==============================] - 1s 25ms/step - loss: 1.7130 - accuracy: 0.8964 - val_loss: 1.7853 - val_accuracy: 0.7643\n",
      "Epoch 20/50\n",
      "27/27 [==============================] - 1s 25ms/step - loss: 1.4887 - accuracy: 0.9232 - val_loss: 1.4816 - val_accuracy: 0.7810\n",
      "Epoch 21/50\n",
      "27/27 [==============================] - 1s 25ms/step - loss: 1.3085 - accuracy: 0.9411 - val_loss: 1.3653 - val_accuracy: 0.7905\n",
      "Epoch 22/50\n",
      "27/27 [==============================] - 1s 26ms/step - loss: 1.2646 - accuracy: 0.9357 - val_loss: 1.4255 - val_accuracy: 0.7810\n",
      "Epoch 23/50\n",
      "27/27 [==============================] - 1s 28ms/step - loss: 1.5415 - accuracy: 0.9423 - val_loss: 1.8036 - val_accuracy: 0.7381\n",
      "Epoch 24/50\n",
      "27/27 [==============================] - 1s 26ms/step - loss: 1.6857 - accuracy: 0.9131 - val_loss: 1.7518 - val_accuracy: 0.7810\n",
      "Epoch 25/50\n",
      "27/27 [==============================] - 1s 26ms/step - loss: 1.6214 - accuracy: 0.9232 - val_loss: 1.7584 - val_accuracy: 0.7667\n",
      "Epoch 26/50\n",
      "27/27 [==============================] - 1s 26ms/step - loss: 1.6468 - accuracy: 0.9024 - val_loss: 1.7467 - val_accuracy: 0.7929\n"
     ]
    }
   ],
   "source": [
    "from keras.optimizers import Adam\n",
    "from keras.callbacks import EarlyStopping\n",
    "\n",
    "callback = EarlyStopping(monitor='val_accuracy', patience=10)\n",
    "\n",
    "model.compile(optimizer=Adam(learning_rate=0.01), loss='mse', metrics=['accuracy'])\n",
    "history = model.fit(x=x_train, y=y_train, \n",
    "                    validation_split=0.2, \n",
    "                    epochs=50, batch_size=64, \n",
    "                    callbacks=[callback])"
   ]
  },
  {
   "cell_type": "code",
   "execution_count": 24,
   "id": "34fe5004",
   "metadata": {
    "execution": {
     "iopub.execute_input": "2023-05-25T23:27:26.588254Z",
     "iopub.status.busy": "2023-05-25T23:27:26.587378Z",
     "iopub.status.idle": "2023-05-25T23:27:46.105638Z",
     "shell.execute_reply": "2023-05-25T23:27:46.104683Z"
    },
    "papermill": {
     "duration": 19.55759,
     "end_time": "2023-05-25T23:27:46.108553",
     "exception": false,
     "start_time": "2023-05-25T23:27:26.550963",
     "status": "completed"
    },
    "tags": []
   },
   "outputs": [
    {
     "name": "stdout",
     "output_type": "stream",
     "text": [
      "29/29 [==============================] - 0s 9ms/step - loss: 1.7524 - accuracy: 0.7644\n"
     ]
    },
    {
     "data": {
      "text/plain": [
       "[1.752424955368042, 0.7644444704055786]"
      ]
     },
     "execution_count": 24,
     "metadata": {},
     "output_type": "execute_result"
    }
   ],
   "source": [
    "model.evaluate(x_test, y_test)"
   ]
  },
  {
   "cell_type": "code",
   "execution_count": 25,
   "id": "a9f7532e",
   "metadata": {
    "execution": {
     "iopub.execute_input": "2023-05-25T23:27:46.226484Z",
     "iopub.status.busy": "2023-05-25T23:27:46.225959Z",
     "iopub.status.idle": "2023-05-25T23:27:46.232658Z",
     "shell.execute_reply": "2023-05-25T23:27:46.231654Z"
    },
    "papermill": {
     "duration": 0.07041,
     "end_time": "2023-05-25T23:27:46.237394",
     "exception": false,
     "start_time": "2023-05-25T23:27:46.166984",
     "status": "completed"
    },
    "tags": []
   },
   "outputs": [],
   "source": [
    "dict = {0 : 'negative', 1 : 'positive'}\n",
    "\n",
    "def predict_sentiment(sentance, vectorizer, model):\n",
    "    prediction = np.round(model.predict(prepare_data(sentance, vectorizer)))\n",
    "    return dict.get(prediction.item())"
   ]
  },
  {
   "cell_type": "code",
   "execution_count": 26,
   "id": "4fc51964",
   "metadata": {
    "execution": {
     "iopub.execute_input": "2023-05-25T23:27:46.353799Z",
     "iopub.status.busy": "2023-05-25T23:27:46.353294Z",
     "iopub.status.idle": "2023-05-25T23:27:46.696985Z",
     "shell.execute_reply": "2023-05-25T23:27:46.696088Z"
    },
    "papermill": {
     "duration": 0.404889,
     "end_time": "2023-05-25T23:27:46.699663",
     "exception": false,
     "start_time": "2023-05-25T23:27:46.294774",
     "status": "completed"
    },
    "tags": []
   },
   "outputs": [
    {
     "name": "stdout",
     "output_type": "stream",
     "text": [
      "1/1 [==============================] - 0s 246ms/step\n"
     ]
    },
    {
     "data": {
      "text/plain": [
       "'negative'"
      ]
     },
     "execution_count": 26,
     "metadata": {},
     "output_type": "execute_result"
    }
   ],
   "source": [
    "predict_sentiment('Good enough', vectorizer, model)"
   ]
  },
  {
   "cell_type": "code",
   "execution_count": 27,
   "id": "1c2b0d46",
   "metadata": {
    "execution": {
     "iopub.execute_input": "2023-05-25T23:27:46.807229Z",
     "iopub.status.busy": "2023-05-25T23:27:46.806727Z",
     "iopub.status.idle": "2023-05-25T23:27:48.039236Z",
     "shell.execute_reply": "2023-05-25T23:27:48.038197Z"
    },
    "papermill": {
     "duration": 1.28713,
     "end_time": "2023-05-25T23:27:48.041709",
     "exception": false,
     "start_time": "2023-05-25T23:27:46.754579",
     "status": "completed"
    },
    "tags": []
   },
   "outputs": [],
   "source": [
    "model.save('/kaggle/working/sentiment_model.h5')"
   ]
  },
  {
   "cell_type": "code",
   "execution_count": 28,
   "id": "4315bb55",
   "metadata": {
    "execution": {
     "iopub.execute_input": "2023-05-25T23:27:48.112696Z",
     "iopub.status.busy": "2023-05-25T23:27:48.112396Z",
     "iopub.status.idle": "2023-05-25T23:28:28.571013Z",
     "shell.execute_reply": "2023-05-25T23:28:28.569927Z"
    },
    "papermill": {
     "duration": 40.535354,
     "end_time": "2023-05-25T23:28:28.612749",
     "exception": false,
     "start_time": "2023-05-25T23:27:48.077395",
     "status": "completed"
    },
    "tags": []
   },
   "outputs": [
    {
     "data": {
      "text/plain": [
       "0.7277777777777777"
      ]
     },
     "execution_count": 28,
     "metadata": {},
     "output_type": "execute_result"
    }
   ],
   "source": [
    "from sklearn.ensemble import RandomForestClassifier\n",
    "\n",
    "rfc = RandomForestClassifier()\n",
    "rfc.fit(x_train, y_train)\n",
    "rfc.score(x_test, y_test)"
   ]
  },
  {
   "cell_type": "code",
   "execution_count": 29,
   "id": "838164bd",
   "metadata": {
    "execution": {
     "iopub.execute_input": "2023-05-25T23:28:28.684336Z",
     "iopub.status.busy": "2023-05-25T23:28:28.683972Z",
     "iopub.status.idle": "2023-05-25T23:28:28.720221Z",
     "shell.execute_reply": "2023-05-25T23:28:28.719057Z"
    },
    "papermill": {
     "duration": 0.073696,
     "end_time": "2023-05-25T23:28:28.722435",
     "exception": false,
     "start_time": "2023-05-25T23:28:28.648739",
     "status": "completed"
    },
    "tags": []
   },
   "outputs": [
    {
     "data": {
      "text/plain": [
       "'positive'"
      ]
     },
     "execution_count": 29,
     "metadata": {},
     "output_type": "execute_result"
    }
   ],
   "source": [
    "predict_sentiment('Wow, such a nice product!', vectorizer, rfc)"
   ]
  },
  {
   "cell_type": "code",
   "execution_count": 30,
   "id": "dd8ca947",
   "metadata": {
    "execution": {
     "iopub.execute_input": "2023-05-25T23:28:28.799486Z",
     "iopub.status.busy": "2023-05-25T23:28:28.798633Z",
     "iopub.status.idle": "2023-05-25T23:28:28.806175Z",
     "shell.execute_reply": "2023-05-25T23:28:28.805278Z"
    },
    "papermill": {
     "duration": 0.047469,
     "end_time": "2023-05-25T23:28:28.808240",
     "exception": false,
     "start_time": "2023-05-25T23:28:28.760771",
     "status": "completed"
    },
    "tags": []
   },
   "outputs": [],
   "source": [
    "def random_search(x, y, x_test, y_test, features, iterations):\n",
    "    max_accuracy = 0\n",
    "    best_features = None\n",
    "    for i in range(iterations):\n",
    "        rfc = RandomForestClassifier()\n",
    "        random_features = np.random.randint(x.shape[1], size=features)\n",
    "        subset_x = x[:, random_features]\n",
    "        subset_x_test = x_test[:, random_features]\n",
    "        rfc.fit(subset_x, y)\n",
    "        accuracy = rfc.score(subset_x_test, y_test)\n",
    "        if accuracy > max_accuracy:\n",
    "            max_accuracy = accuracy\n",
    "            best_features = random_features\n",
    "            \n",
    "    print(f\"Best features are {best_features}, while the accuracy is {max_accuracy}\")\n",
    "    return best_features"
   ]
  },
  {
   "cell_type": "code",
   "execution_count": 31,
   "id": "20b289b2",
   "metadata": {
    "execution": {
     "iopub.execute_input": "2023-05-25T23:28:28.883752Z",
     "iopub.status.busy": "2023-05-25T23:28:28.882971Z",
     "iopub.status.idle": "2023-05-25T23:33:06.344746Z",
     "shell.execute_reply": "2023-05-25T23:33:06.342679Z"
    },
    "papermill": {
     "duration": 277.53973,
     "end_time": "2023-05-25T23:33:06.385256",
     "exception": false,
     "start_time": "2023-05-25T23:28:28.845526",
     "status": "completed"
    },
    "tags": []
   },
   "outputs": [
    {
     "name": "stdout",
     "output_type": "stream",
     "text": [
      "Best features are [25448 34245 38204 42778 30725 11372    17  6992 37428 31538 25836 13697\n",
      " 38241 23008 42386 26542 35541 40009 39493 30487], while the accuracy is 0.5311111111111111\n"
     ]
    }
   ],
   "source": [
    "feature_selection = random_search(x=x_train, \n",
    "                                  y=y_train, \n",
    "                                  x_test=x_test, \n",
    "                                  y_test=y_test, \n",
    "                                  features=20, \n",
    "                                  iterations=1000)"
   ]
  },
  {
   "cell_type": "code",
   "execution_count": 32,
   "id": "e875bc59",
   "metadata": {
    "execution": {
     "iopub.execute_input": "2023-05-25T23:33:06.459433Z",
     "iopub.status.busy": "2023-05-25T23:33:06.459138Z",
     "iopub.status.idle": "2023-05-25T23:33:06.465605Z",
     "shell.execute_reply": "2023-05-25T23:33:06.464787Z"
    },
    "papermill": {
     "duration": 0.045518,
     "end_time": "2023-05-25T23:33:06.467670",
     "exception": false,
     "start_time": "2023-05-25T23:33:06.422152",
     "status": "completed"
    },
    "tags": []
   },
   "outputs": [],
   "source": [
    "x_data = x_data[:, feature_selection]"
   ]
  },
  {
   "cell_type": "code",
   "execution_count": 33,
   "id": "2de58420",
   "metadata": {
    "execution": {
     "iopub.execute_input": "2023-05-25T23:33:06.539190Z",
     "iopub.status.busy": "2023-05-25T23:33:06.538844Z",
     "iopub.status.idle": "2023-05-25T23:33:06.544927Z",
     "shell.execute_reply": "2023-05-25T23:33:06.544069Z"
    },
    "papermill": {
     "duration": 0.045141,
     "end_time": "2023-05-25T23:33:06.546975",
     "exception": false,
     "start_time": "2023-05-25T23:33:06.501834",
     "status": "completed"
    },
    "tags": []
   },
   "outputs": [],
   "source": [
    "np.savez('/kaggle/working/features_selected_x.npz', x_data, y_data)"
   ]
  }
 ],
 "metadata": {
  "kernelspec": {
   "display_name": "Python 3",
   "language": "python",
   "name": "python3"
  },
  "language_info": {
   "codemirror_mode": {
    "name": "ipython",
    "version": 3
   },
   "file_extension": ".py",
   "mimetype": "text/x-python",
   "name": "python",
   "nbconvert_exporter": "python",
   "pygments_lexer": "ipython3",
   "version": "3.10.10"
  },
  "papermill": {
   "default_parameters": {},
   "duration": 624.26257,
   "end_time": "2023-05-25T23:33:09.900376",
   "environment_variables": {},
   "exception": null,
   "input_path": "__notebook__.ipynb",
   "output_path": "__notebook__.ipynb",
   "parameters": {},
   "start_time": "2023-05-25T23:22:45.637806",
   "version": "2.4.0"
  }
 },
 "nbformat": 4,
 "nbformat_minor": 5
}
