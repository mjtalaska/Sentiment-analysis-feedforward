{
 "cells": [
  {
   "cell_type": "code",
   "execution_count": 1,
   "id": "f9ffbce5",
   "metadata": {
    "_cell_guid": "b1076dfc-b9ad-4769-8c92-a6c4dae69d19",
    "_uuid": "8f2839f25d086af736a60e9eeb907d3b93b6e0e5",
    "execution": {
     "iopub.execute_input": "2023-05-24T22:40:36.681331Z",
     "iopub.status.busy": "2023-05-24T22:40:36.680577Z",
     "iopub.status.idle": "2023-05-24T22:40:36.704794Z",
     "shell.execute_reply": "2023-05-24T22:40:36.703835Z"
    },
    "papermill": {
     "duration": 0.039388,
     "end_time": "2023-05-24T22:40:36.707167",
     "exception": false,
     "start_time": "2023-05-24T22:40:36.667779",
     "status": "completed"
    },
    "tags": []
   },
   "outputs": [
    {
     "name": "stdout",
     "output_type": "stream",
     "text": [
      "/kaggle/input/sentiment-labelled-sentences/sentiment labelled sentences/amazon_cells_labelled.txt\n",
      "/kaggle/input/sentiment-labelled-sentences/sentiment labelled sentences/imdb_labelled.txt\n",
      "/kaggle/input/sentiment-labelled-sentences/sentiment labelled sentences/readme.txt\n",
      "/kaggle/input/sentiment-labelled-sentences/sentiment labelled sentences/yelp_labelled.txt\n"
     ]
    }
   ],
   "source": [
    "# This Python 3 environment comes with many helpful analytics libraries installed\n",
    "# It is defined by the kaggle/python Docker image: https://github.com/kaggle/docker-python\n",
    "# For example, here's several helpful packages to load\n",
    "\n",
    "import numpy as np # linear algebra\n",
    "import pandas as pd # data processing, CSV file I/O (e.g. pd.read_csv)\n",
    "\n",
    "# Input data files are available in the read-only \"../input/\" directory\n",
    "# For example, running this (by clicking run or pressing Shift+Enter) will list all files under the input directory\n",
    "\n",
    "import os\n",
    "for dirname, _, filenames in os.walk('/kaggle/input'):\n",
    "    for filename in filenames:\n",
    "        print(os.path.join(dirname, filename))\n",
    "\n",
    "# You can write up to 20GB to the current directory (/kaggle/working/) that gets preserved as output when you create a version using \"Save & Run All\" \n",
    "# You can also write temporary files to /kaggle/temp/, but they won't be saved outside of the current session"
   ]
  },
  {
   "cell_type": "code",
   "execution_count": 2,
   "id": "8a2c884f",
   "metadata": {
    "execution": {
     "iopub.execute_input": "2023-05-24T22:40:36.726483Z",
     "iopub.status.busy": "2023-05-24T22:40:36.726130Z",
     "iopub.status.idle": "2023-05-24T22:40:36.781737Z",
     "shell.execute_reply": "2023-05-24T22:40:36.780721Z"
    },
    "papermill": {
     "duration": 0.068443,
     "end_time": "2023-05-24T22:40:36.784667",
     "exception": false,
     "start_time": "2023-05-24T22:40:36.716224",
     "status": "completed"
    },
    "tags": []
   },
   "outputs": [
    {
     "name": "stdout",
     "output_type": "stream",
     "text": [
      "amazon = (1000, 2), imdb = (1000, 2), yelp = (1000, 2)\n"
     ]
    },
    {
     "name": "stderr",
     "output_type": "stream",
     "text": [
      "/tmp/ipykernel_23/3939053422.py:5: ParserWarning: Falling back to the 'python' engine because the 'c' engine does not support regex separators (separators > 1 char and different from '\\s+' are interpreted as regex); you can avoid this warning by specifying engine='python'.\n",
      "  imdb = pd.read_csv('/kaggle/input/sentiment-labelled-sentences/sentiment labelled sentences/imdb_labelled.txt',\n"
     ]
    }
   ],
   "source": [
    "amazon = pd.read_csv('/kaggle/input/sentiment-labelled-sentences/sentiment labelled sentences/amazon_cells_labelled.txt', \n",
    "                     sep='\\t',\n",
    "                     lineterminator='\\n',\n",
    "                     names=['sentance', 'sentiment'] )\n",
    "imdb = pd.read_csv('/kaggle/input/sentiment-labelled-sentences/sentiment labelled sentences/imdb_labelled.txt', \n",
    "                     sep='\\t|\\s{3}',\n",
    "                     lineterminator='\\n',\n",
    "                     names=['sentance', 'sentiment'] )\n",
    "yelp = pd.read_csv('/kaggle/input/sentiment-labelled-sentences/sentiment labelled sentences/yelp_labelled.txt', \n",
    "                     sep='\\t',\n",
    "                     lineterminator='\\n',\n",
    "                     names=['sentance', 'sentiment'] )\n",
    "print(f\"amazon = {amazon.shape}, imdb = {imdb.shape}, yelp = {yelp.shape}\")"
   ]
  },
  {
   "cell_type": "code",
   "execution_count": 3,
   "id": "fd97fa3b",
   "metadata": {
    "execution": {
     "iopub.execute_input": "2023-05-24T22:40:36.805172Z",
     "iopub.status.busy": "2023-05-24T22:40:36.804841Z",
     "iopub.status.idle": "2023-05-24T22:40:36.814805Z",
     "shell.execute_reply": "2023-05-24T22:40:36.813829Z"
    },
    "papermill": {
     "duration": 0.022624,
     "end_time": "2023-05-24T22:40:36.816915",
     "exception": false,
     "start_time": "2023-05-24T22:40:36.794291",
     "status": "completed"
    },
    "tags": []
   },
   "outputs": [
    {
     "data": {
      "text/plain": [
       "(3000, 2)"
      ]
     },
     "execution_count": 3,
     "metadata": {},
     "output_type": "execute_result"
    }
   ],
   "source": [
    "data = pd.DataFrame(data=np.concatenate([amazon,imdb,yelp], axis=0), columns=['sentance', 'sentiment'])\n",
    "data.shape"
   ]
  },
  {
   "cell_type": "code",
   "execution_count": 4,
   "id": "8c9fa45d",
   "metadata": {
    "execution": {
     "iopub.execute_input": "2023-05-24T22:40:36.838100Z",
     "iopub.status.busy": "2023-05-24T22:40:36.836594Z",
     "iopub.status.idle": "2023-05-24T22:40:36.854250Z",
     "shell.execute_reply": "2023-05-24T22:40:36.853236Z"
    },
    "papermill": {
     "duration": 0.030087,
     "end_time": "2023-05-24T22:40:36.856398",
     "exception": false,
     "start_time": "2023-05-24T22:40:36.826311",
     "status": "completed"
    },
    "tags": []
   },
   "outputs": [
    {
     "data": {
      "text/html": [
       "<div>\n",
       "<style scoped>\n",
       "    .dataframe tbody tr th:only-of-type {\n",
       "        vertical-align: middle;\n",
       "    }\n",
       "\n",
       "    .dataframe tbody tr th {\n",
       "        vertical-align: top;\n",
       "    }\n",
       "\n",
       "    .dataframe thead th {\n",
       "        text-align: right;\n",
       "    }\n",
       "</style>\n",
       "<table border=\"1\" class=\"dataframe\">\n",
       "  <thead>\n",
       "    <tr style=\"text-align: right;\">\n",
       "      <th></th>\n",
       "      <th>sentance</th>\n",
       "      <th>sentiment</th>\n",
       "    </tr>\n",
       "  </thead>\n",
       "  <tbody>\n",
       "    <tr>\n",
       "      <th>0</th>\n",
       "      <td>So there is no way for me to plug it in here i...</td>\n",
       "      <td>0</td>\n",
       "    </tr>\n",
       "    <tr>\n",
       "      <th>1</th>\n",
       "      <td>Good case, Excellent value.</td>\n",
       "      <td>1</td>\n",
       "    </tr>\n",
       "    <tr>\n",
       "      <th>2</th>\n",
       "      <td>Great for the jawbone.</td>\n",
       "      <td>1</td>\n",
       "    </tr>\n",
       "    <tr>\n",
       "      <th>3</th>\n",
       "      <td>Tied to charger for conversations lasting more...</td>\n",
       "      <td>0</td>\n",
       "    </tr>\n",
       "    <tr>\n",
       "      <th>4</th>\n",
       "      <td>The mic is great.</td>\n",
       "      <td>1</td>\n",
       "    </tr>\n",
       "    <tr>\n",
       "      <th>...</th>\n",
       "      <td>...</td>\n",
       "      <td>...</td>\n",
       "    </tr>\n",
       "    <tr>\n",
       "      <th>2995</th>\n",
       "      <td>I think food should have flavor and texture an...</td>\n",
       "      <td>0</td>\n",
       "    </tr>\n",
       "    <tr>\n",
       "      <th>2996</th>\n",
       "      <td>Appetite instantly gone.</td>\n",
       "      <td>0</td>\n",
       "    </tr>\n",
       "    <tr>\n",
       "      <th>2997</th>\n",
       "      <td>Overall I was not impressed and would not go b...</td>\n",
       "      <td>0</td>\n",
       "    </tr>\n",
       "    <tr>\n",
       "      <th>2998</th>\n",
       "      <td>The whole experience was underwhelming, and I ...</td>\n",
       "      <td>0</td>\n",
       "    </tr>\n",
       "    <tr>\n",
       "      <th>2999</th>\n",
       "      <td>Then, as if I hadn't wasted enough of my life ...</td>\n",
       "      <td>0</td>\n",
       "    </tr>\n",
       "  </tbody>\n",
       "</table>\n",
       "<p>3000 rows × 2 columns</p>\n",
       "</div>"
      ],
      "text/plain": [
       "                                               sentance sentiment\n",
       "0     So there is no way for me to plug it in here i...         0\n",
       "1                           Good case, Excellent value.         1\n",
       "2                                Great for the jawbone.         1\n",
       "3     Tied to charger for conversations lasting more...         0\n",
       "4                                     The mic is great.         1\n",
       "...                                                 ...       ...\n",
       "2995  I think food should have flavor and texture an...         0\n",
       "2996                           Appetite instantly gone.         0\n",
       "2997  Overall I was not impressed and would not go b...         0\n",
       "2998  The whole experience was underwhelming, and I ...         0\n",
       "2999  Then, as if I hadn't wasted enough of my life ...         0\n",
       "\n",
       "[3000 rows x 2 columns]"
      ]
     },
     "execution_count": 4,
     "metadata": {},
     "output_type": "execute_result"
    }
   ],
   "source": [
    "data"
   ]
  },
  {
   "cell_type": "code",
   "execution_count": 5,
   "id": "b05c2540",
   "metadata": {
    "execution": {
     "iopub.execute_input": "2023-05-24T22:40:36.877204Z",
     "iopub.status.busy": "2023-05-24T22:40:36.876297Z",
     "iopub.status.idle": "2023-05-24T22:40:36.890538Z",
     "shell.execute_reply": "2023-05-24T22:40:36.889454Z"
    },
    "papermill": {
     "duration": 0.027122,
     "end_time": "2023-05-24T22:40:36.893010",
     "exception": false,
     "start_time": "2023-05-24T22:40:36.865888",
     "status": "completed"
    },
    "tags": []
   },
   "outputs": [
    {
     "data": {
      "text/html": [
       "<div>\n",
       "<style scoped>\n",
       "    .dataframe tbody tr th:only-of-type {\n",
       "        vertical-align: middle;\n",
       "    }\n",
       "\n",
       "    .dataframe tbody tr th {\n",
       "        vertical-align: top;\n",
       "    }\n",
       "\n",
       "    .dataframe thead th {\n",
       "        text-align: right;\n",
       "    }\n",
       "</style>\n",
       "<table border=\"1\" class=\"dataframe\">\n",
       "  <thead>\n",
       "    <tr style=\"text-align: right;\">\n",
       "      <th></th>\n",
       "      <th>sentance</th>\n",
       "      <th>sentiment</th>\n",
       "    </tr>\n",
       "  </thead>\n",
       "  <tbody>\n",
       "    <tr>\n",
       "      <th>0</th>\n",
       "      <td>so there is no way for me to plug it in here i...</td>\n",
       "      <td>0</td>\n",
       "    </tr>\n",
       "    <tr>\n",
       "      <th>1</th>\n",
       "      <td>good case, excellent value.</td>\n",
       "      <td>1</td>\n",
       "    </tr>\n",
       "    <tr>\n",
       "      <th>2</th>\n",
       "      <td>great for the jawbone.</td>\n",
       "      <td>1</td>\n",
       "    </tr>\n",
       "    <tr>\n",
       "      <th>3</th>\n",
       "      <td>tied to charger for conversations lasting more...</td>\n",
       "      <td>0</td>\n",
       "    </tr>\n",
       "    <tr>\n",
       "      <th>4</th>\n",
       "      <td>the mic is great.</td>\n",
       "      <td>1</td>\n",
       "    </tr>\n",
       "    <tr>\n",
       "      <th>...</th>\n",
       "      <td>...</td>\n",
       "      <td>...</td>\n",
       "    </tr>\n",
       "    <tr>\n",
       "      <th>2995</th>\n",
       "      <td>i think food should have flavor and texture an...</td>\n",
       "      <td>0</td>\n",
       "    </tr>\n",
       "    <tr>\n",
       "      <th>2996</th>\n",
       "      <td>appetite instantly gone.</td>\n",
       "      <td>0</td>\n",
       "    </tr>\n",
       "    <tr>\n",
       "      <th>2997</th>\n",
       "      <td>overall i was not impressed and would not go b...</td>\n",
       "      <td>0</td>\n",
       "    </tr>\n",
       "    <tr>\n",
       "      <th>2998</th>\n",
       "      <td>the whole experience was underwhelming, and i ...</td>\n",
       "      <td>0</td>\n",
       "    </tr>\n",
       "    <tr>\n",
       "      <th>2999</th>\n",
       "      <td>then, as if i hadn't wasted enough of my life ...</td>\n",
       "      <td>0</td>\n",
       "    </tr>\n",
       "  </tbody>\n",
       "</table>\n",
       "<p>3000 rows × 2 columns</p>\n",
       "</div>"
      ],
      "text/plain": [
       "                                               sentance sentiment\n",
       "0     so there is no way for me to plug it in here i...         0\n",
       "1                           good case, excellent value.         1\n",
       "2                                great for the jawbone.         1\n",
       "3     tied to charger for conversations lasting more...         0\n",
       "4                                     the mic is great.         1\n",
       "...                                                 ...       ...\n",
       "2995  i think food should have flavor and texture an...         0\n",
       "2996                           appetite instantly gone.         0\n",
       "2997  overall i was not impressed and would not go b...         0\n",
       "2998  the whole experience was underwhelming, and i ...         0\n",
       "2999  then, as if i hadn't wasted enough of my life ...         0\n",
       "\n",
       "[3000 rows x 2 columns]"
      ]
     },
     "execution_count": 5,
     "metadata": {},
     "output_type": "execute_result"
    }
   ],
   "source": [
    "data['sentance'] = data['sentance'].str.lower()\n",
    "data"
   ]
  },
  {
   "cell_type": "code",
   "execution_count": 6,
   "id": "0f41c71a",
   "metadata": {
    "execution": {
     "iopub.execute_input": "2023-05-24T22:40:36.918478Z",
     "iopub.status.busy": "2023-05-24T22:40:36.916820Z",
     "iopub.status.idle": "2023-05-24T22:40:50.747692Z",
     "shell.execute_reply": "2023-05-24T22:40:50.746489Z"
    },
    "papermill": {
     "duration": 13.846693,
     "end_time": "2023-05-24T22:40:50.750771",
     "exception": false,
     "start_time": "2023-05-24T22:40:36.904078",
     "status": "completed"
    },
    "tags": []
   },
   "outputs": [
    {
     "name": "stdout",
     "output_type": "stream",
     "text": [
      "Collecting pyspellchecker\r\n",
      "  Downloading pyspellchecker-0.7.2-py3-none-any.whl (3.4 MB)\r\n",
      "\u001b[2K     \u001b[90m━━━━━━━━━━━━━━━━━━━━━━━━━━━━━━━━━━━━━━━━\u001b[0m \u001b[32m3.4/3.4 MB\u001b[0m \u001b[31m28.6 MB/s\u001b[0m eta \u001b[36m0:00:00\u001b[0m\r\n",
      "\u001b[?25hInstalling collected packages: pyspellchecker\r\n",
      "Successfully installed pyspellchecker-0.7.2\r\n",
      "\u001b[33mWARNING: Running pip as the 'root' user can result in broken permissions and conflicting behaviour with the system package manager. It is recommended to use a virtual environment instead: https://pip.pypa.io/warnings/venv\u001b[0m\u001b[33m\r\n",
      "\u001b[0m"
     ]
    }
   ],
   "source": [
    "!pip install pyspellchecker\n",
    "from spellchecker import SpellChecker\n",
    "sc = SpellChecker()"
   ]
  },
  {
   "cell_type": "code",
   "execution_count": 7,
   "id": "87ff7a36",
   "metadata": {
    "execution": {
     "iopub.execute_input": "2023-05-24T22:40:50.773888Z",
     "iopub.status.busy": "2023-05-24T22:40:50.772888Z",
     "iopub.status.idle": "2023-05-24T22:40:50.779263Z",
     "shell.execute_reply": "2023-05-24T22:40:50.778235Z"
    },
    "papermill": {
     "duration": 0.021025,
     "end_time": "2023-05-24T22:40:50.782384",
     "exception": false,
     "start_time": "2023-05-24T22:40:50.761359",
     "status": "completed"
    },
    "tags": []
   },
   "outputs": [
    {
     "name": "stdout",
     "output_type": "stream",
     "text": [
      "In this sentance our job my lord is to remove all the punctuation\n"
     ]
    }
   ],
   "source": [
    "import string\n",
    "\n",
    "def remove_punc(sentance):\n",
    "    return sentance.translate(str.maketrans('','',string.punctuation))\n",
    "\n",
    "print(remove_punc('In this sentance, our job, my lord, is to remove all the punctuation!'))"
   ]
  },
  {
   "cell_type": "code",
   "execution_count": 8,
   "id": "1cffa92d",
   "metadata": {
    "execution": {
     "iopub.execute_input": "2023-05-24T22:40:50.804663Z",
     "iopub.status.busy": "2023-05-24T22:40:50.803782Z",
     "iopub.status.idle": "2023-05-24T22:40:50.812229Z",
     "shell.execute_reply": "2023-05-24T22:40:50.811114Z"
    },
    "papermill": {
     "duration": 0.022194,
     "end_time": "2023-05-24T22:40:50.814552",
     "exception": false,
     "start_time": "2023-05-24T22:40:50.792358",
     "status": "completed"
    },
    "tags": []
   },
   "outputs": [
    {
     "name": "stdout",
     "output_type": "stream",
     "text": [
      "its spelling time\n"
     ]
    }
   ],
   "source": [
    "def correct(sentance):\n",
    "    misspelled = sc.unknown(str(sentance).split())\n",
    "    correct = [sc.correction(w) if w in misspelled else w for w in sentance.split()]\n",
    "    return \" \".join(filter(lambda c : c is not None, correct))\n",
    "\n",
    "print(correct('its spellinf timr'))"
   ]
  },
  {
   "cell_type": "code",
   "execution_count": 9,
   "id": "70dc5e66",
   "metadata": {
    "execution": {
     "iopub.execute_input": "2023-05-24T22:40:50.836288Z",
     "iopub.status.busy": "2023-05-24T22:40:50.836013Z",
     "iopub.status.idle": "2023-05-24T22:40:52.587092Z",
     "shell.execute_reply": "2023-05-24T22:40:52.586074Z"
    },
    "papermill": {
     "duration": 1.764738,
     "end_time": "2023-05-24T22:40:52.589460",
     "exception": false,
     "start_time": "2023-05-24T22:40:50.824722",
     "status": "completed"
    },
    "tags": []
   },
   "outputs": [
    {
     "name": "stderr",
     "output_type": "stream",
     "text": [
      "/opt/conda/lib/python3.10/site-packages/scipy/__init__.py:146: UserWarning: A NumPy version >=1.16.5 and <1.23.0 is required for this version of SciPy (detected version 1.23.5\n",
      "  warnings.warn(f\"A NumPy version >={np_minversion} and <{np_maxversion}\"\n"
     ]
    },
    {
     "name": "stdout",
     "output_type": "stream",
     "text": [
      "know longer stop, even bother\n"
     ]
    }
   ],
   "source": [
    "from nltk.corpus import stopwords\n",
    "\n",
    "def remove_stop(sentance):\n",
    "    correct = [w for w in sentance.split() if w not in stopwords.words('english')]\n",
    "    return \" \".join(correct)\n",
    "\n",
    "print(remove_stop('i know there is no longer stop, so why even bother'))"
   ]
  },
  {
   "cell_type": "code",
   "execution_count": 10,
   "id": "2da1b832",
   "metadata": {
    "execution": {
     "iopub.execute_input": "2023-05-24T22:40:52.613124Z",
     "iopub.status.busy": "2023-05-24T22:40:52.612293Z",
     "iopub.status.idle": "2023-05-24T22:40:52.619583Z",
     "shell.execute_reply": "2023-05-24T22:40:52.618397Z"
    },
    "papermill": {
     "duration": 0.021043,
     "end_time": "2023-05-24T22:40:52.621679",
     "exception": false,
     "start_time": "2023-05-24T22:40:52.600636",
     "status": "completed"
    },
    "tags": []
   },
   "outputs": [
    {
     "name": "stdout",
     "output_type": "stream",
     "text": [
      "and now it is time to final stem thi hell of a sentance, am I right, fellas?\n"
     ]
    }
   ],
   "source": [
    "from nltk.stem.porter import PorterStemmer\n",
    "stemmer = PorterStemmer()\n",
    "\n",
    "def stemming(sentance):\n",
    "    correct = [stemmer.stem(w) for w in sentance.split()]\n",
    "    return \" \".join(correct)\n",
    "\n",
    "print(stemming('And now it is time to finally stem this hell of a sentance, am I right, fellas?'))"
   ]
  },
  {
   "cell_type": "code",
   "execution_count": 11,
   "id": "d4aafd21",
   "metadata": {
    "execution": {
     "iopub.execute_input": "2023-05-24T22:40:52.644518Z",
     "iopub.status.busy": "2023-05-24T22:40:52.643658Z",
     "iopub.status.idle": "2023-05-24T22:40:52.651766Z",
     "shell.execute_reply": "2023-05-24T22:40:52.650781Z"
    },
    "papermill": {
     "duration": 0.021926,
     "end_time": "2023-05-24T22:40:52.654117",
     "exception": false,
     "start_time": "2023-05-24T22:40:52.632191",
     "status": "completed"
    },
    "tags": []
   },
   "outputs": [
    {
     "data": {
      "text/plain": [
       "array([['Wow,', 'I', \"can't\", 'believe', 'there'],\n",
       "       ['I', \"can't\", 'believe', 'there', 'are'],\n",
       "       [\"can't\", 'believe', 'there', 'are', 'ngrams'],\n",
       "       ['believe', 'there', 'are', 'ngrams', 'here!']], dtype='<U7')"
      ]
     },
     "execution_count": 11,
     "metadata": {},
     "output_type": "execute_result"
    }
   ],
   "source": [
    "from nltk import ngrams\n",
    "\n",
    "def split_into_ngrams(sentance, n):\n",
    "    ng = ngrams(sentance, n)\n",
    "    return [g for g in ng]\n",
    "    \n",
    "np.asarray(split_into_ngrams(\"Wow, I can't believe there are ngrams here!\".split(), 5))"
   ]
  },
  {
   "cell_type": "code",
   "execution_count": 12,
   "id": "4dad4cd7",
   "metadata": {
    "execution": {
     "iopub.execute_input": "2023-05-24T22:40:52.676509Z",
     "iopub.status.busy": "2023-05-24T22:40:52.676181Z",
     "iopub.status.idle": "2023-05-24T22:40:52.685808Z",
     "shell.execute_reply": "2023-05-24T22:40:52.684697Z"
    },
    "papermill": {
     "duration": 0.023523,
     "end_time": "2023-05-24T22:40:52.688109",
     "exception": false,
     "start_time": "2023-05-24T22:40:52.664586",
     "status": "completed"
    },
    "tags": []
   },
   "outputs": [
    {
     "data": {
      "text/plain": [
       "0       so there is no way for me to plug it in here i...\n",
       "1                             good case, excellent value.\n",
       "2                                  great for the jawbone.\n",
       "3       tied to charger for conversations lasting more...\n",
       "4                                       the mic is great.\n",
       "                              ...                        \n",
       "2995    i think food should have flavor and texture an...\n",
       "2996                             appetite instantly gone.\n",
       "2997    overall i was not impressed and would not go b...\n",
       "2998    the whole experience was underwhelming, and i ...\n",
       "2999    then, as if i hadn't wasted enough of my life ...\n",
       "Name: sentance, Length: 3000, dtype: object"
      ]
     },
     "execution_count": 12,
     "metadata": {},
     "output_type": "execute_result"
    }
   ],
   "source": [
    "x = data['sentance']\n",
    "y = data['sentiment']\n",
    "x"
   ]
  },
  {
   "cell_type": "code",
   "execution_count": 13,
   "id": "c9186903",
   "metadata": {
    "execution": {
     "iopub.execute_input": "2023-05-24T22:40:52.713022Z",
     "iopub.status.busy": "2023-05-24T22:40:52.712667Z",
     "iopub.status.idle": "2023-05-24T22:40:52.733752Z",
     "shell.execute_reply": "2023-05-24T22:40:52.732784Z"
    },
    "papermill": {
     "duration": 0.036128,
     "end_time": "2023-05-24T22:40:52.736046",
     "exception": false,
     "start_time": "2023-05-24T22:40:52.699918",
     "status": "completed"
    },
    "tags": []
   },
   "outputs": [],
   "source": [
    "x = x.map(lambda x : remove_punc(x))\n"
   ]
  },
  {
   "cell_type": "code",
   "execution_count": 14,
   "id": "d2b18376",
   "metadata": {
    "execution": {
     "iopub.execute_input": "2023-05-24T22:40:52.762223Z",
     "iopub.status.busy": "2023-05-24T22:40:52.761878Z",
     "iopub.status.idle": "2023-05-24T22:43:50.637688Z",
     "shell.execute_reply": "2023-05-24T22:43:50.636485Z"
    },
    "papermill": {
     "duration": 177.903337,
     "end_time": "2023-05-24T22:43:50.651332",
     "exception": false,
     "start_time": "2023-05-24T22:40:52.747995",
     "status": "completed"
    },
    "tags": []
   },
   "outputs": [
    {
     "data": {
      "text/plain": [
       "0       so there is no way for me to plug it in here i...\n",
       "1                               good case excellent value\n",
       "2                                   great for the jawbone\n",
       "3       tied to charger for conversations lasting more...\n",
       "4                                        the mic is great\n",
       "                              ...                        \n",
       "2995    i think food should have flavor and texture an...\n",
       "2996                              appetite instantly gone\n",
       "2997    overall i was not impressed and would not go back\n",
       "2998    the whole experience was underwhelming and i t...\n",
       "2999    then as if i hadnt wasted enough of my life th...\n",
       "Name: sentance, Length: 3000, dtype: object"
      ]
     },
     "execution_count": 14,
     "metadata": {},
     "output_type": "execute_result"
    }
   ],
   "source": [
    "x = x.map(lambda x : correct(x))\n",
    "x"
   ]
  },
  {
   "cell_type": "code",
   "execution_count": 15,
   "id": "6042e66b",
   "metadata": {
    "execution": {
     "iopub.execute_input": "2023-05-24T22:43:50.677572Z",
     "iopub.status.busy": "2023-05-24T22:43:50.675739Z",
     "iopub.status.idle": "2023-05-24T22:43:55.261805Z",
     "shell.execute_reply": "2023-05-24T22:43:55.260807Z"
    },
    "papermill": {
     "duration": 4.601455,
     "end_time": "2023-05-24T22:43:55.264197",
     "exception": false,
     "start_time": "2023-05-24T22:43:50.662742",
     "status": "completed"
    },
    "tags": []
   },
   "outputs": [
    {
     "data": {
      "text/plain": [
       "0                         way plug us unless go converter\n",
       "1                               good case excellent value\n",
       "2                                           great jawbone\n",
       "3          tied charger conversations lasting 45 problems\n",
       "4                                               mic great\n",
       "                              ...                        \n",
       "2995                    think food flavor texture lacking\n",
       "2996                              appetite instantly gone\n",
       "2997                      overall impressed would go back\n",
       "2998    whole experience underwhelming think well go n...\n",
       "2999    hadnt wasted enough life poured salt wound dra...\n",
       "Name: sentance, Length: 3000, dtype: object"
      ]
     },
     "execution_count": 15,
     "metadata": {},
     "output_type": "execute_result"
    }
   ],
   "source": [
    "x = x.map(lambda x : remove_stop(x))\n",
    "x"
   ]
  },
  {
   "cell_type": "code",
   "execution_count": 16,
   "id": "af81f2c3",
   "metadata": {
    "execution": {
     "iopub.execute_input": "2023-05-24T22:43:55.289100Z",
     "iopub.status.busy": "2023-05-24T22:43:55.288776Z",
     "iopub.status.idle": "2023-05-24T22:43:55.983580Z",
     "shell.execute_reply": "2023-05-24T22:43:55.982313Z"
    },
    "papermill": {
     "duration": 0.710304,
     "end_time": "2023-05-24T22:43:55.986370",
     "exception": false,
     "start_time": "2023-05-24T22:43:55.276066",
     "status": "completed"
    },
    "tags": []
   },
   "outputs": [
    {
     "data": {
      "text/plain": [
       "0                           way plug us unless go convert\n",
       "1                                    good case excel valu\n",
       "2                                            great jawbon\n",
       "3                     tie charger convers last 45 problem\n",
       "4                                               mic great\n",
       "                              ...                        \n",
       "2995                        think food flavor textur lack\n",
       "2996                               appetit instantli gone\n",
       "2997                         overal impress would go back\n",
       "2998    whole experi underwhelm think well go ninja su...\n",
       "2999    hadnt wast enough life pour salt wound draw ti...\n",
       "Name: sentance, Length: 3000, dtype: object"
      ]
     },
     "execution_count": 16,
     "metadata": {},
     "output_type": "execute_result"
    }
   ],
   "source": [
    "x = x.map(lambda x : stemming(x))\n",
    "x"
   ]
  },
  {
   "cell_type": "code",
   "execution_count": 17,
   "id": "15af949e",
   "metadata": {
    "execution": {
     "iopub.execute_input": "2023-05-24T22:43:56.011921Z",
     "iopub.status.busy": "2023-05-24T22:43:56.011590Z",
     "iopub.status.idle": "2023-05-24T22:43:56.016603Z",
     "shell.execute_reply": "2023-05-24T22:43:56.015559Z"
    },
    "papermill": {
     "duration": 0.020234,
     "end_time": "2023-05-24T22:43:56.018864",
     "exception": false,
     "start_time": "2023-05-24T22:43:55.998630",
     "status": "completed"
    },
    "tags": []
   },
   "outputs": [],
   "source": [
    "def replace_numbers(sentance):\n",
    "    return ['' if str(s).isdigit() else s for s in sentance]"
   ]
  },
  {
   "cell_type": "code",
   "execution_count": 18,
   "id": "e231b280",
   "metadata": {
    "execution": {
     "iopub.execute_input": "2023-05-24T22:43:56.043670Z",
     "iopub.status.busy": "2023-05-24T22:43:56.042684Z",
     "iopub.status.idle": "2023-05-24T22:43:56.053744Z",
     "shell.execute_reply": "2023-05-24T22:43:56.052665Z"
    },
    "papermill": {
     "duration": 0.025912,
     "end_time": "2023-05-24T22:43:56.056182",
     "exception": false,
     "start_time": "2023-05-24T22:43:56.030270",
     "status": "completed"
    },
    "tags": []
   },
   "outputs": [
    {
     "name": "stdout",
     "output_type": "stream",
     "text": [
      "39\n"
     ]
    }
   ],
   "source": [
    "tokens_x = x.map(lambda x : x.split())\n",
    "lens = [len(l) for l in tokens_x]\n",
    "m = np.max(lens)\n",
    "print(m)"
   ]
  },
  {
   "cell_type": "code",
   "execution_count": 19,
   "id": "ce784685",
   "metadata": {
    "execution": {
     "iopub.execute_input": "2023-05-24T22:43:56.083200Z",
     "iopub.status.busy": "2023-05-24T22:43:56.082194Z",
     "iopub.status.idle": "2023-05-24T22:43:56.385981Z",
     "shell.execute_reply": "2023-05-24T22:43:56.384964Z"
    },
    "papermill": {
     "duration": 0.319365,
     "end_time": "2023-05-24T22:43:56.388575",
     "exception": false,
     "start_time": "2023-05-24T22:43:56.069210",
     "status": "completed"
    },
    "tags": []
   },
   "outputs": [
    {
     "data": {
      "text/plain": [
       "0       [way, plug, us, unless, go, convert, , , , , ,...\n",
       "1       [good, case, excel, valu, , , , , , , , , , , ...\n",
       "2       [great, jawbon, , , , , , , , , , , , , , , , ...\n",
       "3       [tie, charger, convers, last, , problem, , , ,...\n",
       "4       [mic, great, , , , , , , , , , , , , , , , , ,...\n",
       "                              ...                        \n",
       "2995    [think, food, flavor, textur, lack, , , , , , ...\n",
       "2996    [appetit, instantli, gone, , , , , , , , , , ,...\n",
       "2997    [overal, impress, would, go, back, , , , , , ,...\n",
       "2998    [whole, experi, underwhelm, think, well, go, n...\n",
       "2999    [hadnt, wast, enough, life, pour, salt, wound,...\n",
       "Name: sentance, Length: 3000, dtype: object"
      ]
     },
     "execution_count": 19,
     "metadata": {},
     "output_type": "execute_result"
    }
   ],
   "source": [
    "padded = tokens_x.map(lambda x : np.pad(x, (0, m - len(x)), 'constant', constant_values=0))\n",
    "padded = padded.map(lambda x : replace_numbers(x))\n",
    "padded"
   ]
  },
  {
   "cell_type": "code",
   "execution_count": 20,
   "id": "70add119",
   "metadata": {
    "execution": {
     "iopub.execute_input": "2023-05-24T22:43:56.415172Z",
     "iopub.status.busy": "2023-05-24T22:43:56.414813Z",
     "iopub.status.idle": "2023-05-24T22:43:56.495478Z",
     "shell.execute_reply": "2023-05-24T22:43:56.494438Z"
    },
    "papermill": {
     "duration": 0.096843,
     "end_time": "2023-05-24T22:43:56.497950",
     "exception": false,
     "start_time": "2023-05-24T22:43:56.401107",
     "status": "completed"
    },
    "tags": []
   },
   "outputs": [
    {
     "data": {
      "text/plain": [
       "[('way', 'plug', 'us', 'unless', 'go', 'convert', '', '', '', ''),\n",
       " ('plug', 'us', 'unless', 'go', 'convert', '', '', '', '', ''),\n",
       " ('us', 'unless', 'go', 'convert', '', '', '', '', '', ''),\n",
       " ('unless', 'go', 'convert', '', '', '', '', '', '', ''),\n",
       " ('go', 'convert', '', '', '', '', '', '', '', ''),\n",
       " ('convert', '', '', '', '', '', '', '', '', ''),\n",
       " ('', '', '', '', '', '', '', '', '', ''),\n",
       " ('', '', '', '', '', '', '', '', '', ''),\n",
       " ('', '', '', '', '', '', '', '', '', ''),\n",
       " ('', '', '', '', '', '', '', '', '', ''),\n",
       " ('', '', '', '', '', '', '', '', '', ''),\n",
       " ('', '', '', '', '', '', '', '', '', ''),\n",
       " ('', '', '', '', '', '', '', '', '', ''),\n",
       " ('', '', '', '', '', '', '', '', '', ''),\n",
       " ('', '', '', '', '', '', '', '', '', ''),\n",
       " ('', '', '', '', '', '', '', '', '', ''),\n",
       " ('', '', '', '', '', '', '', '', '', ''),\n",
       " ('', '', '', '', '', '', '', '', '', ''),\n",
       " ('', '', '', '', '', '', '', '', '', ''),\n",
       " ('', '', '', '', '', '', '', '', '', ''),\n",
       " ('', '', '', '', '', '', '', '', '', ''),\n",
       " ('', '', '', '', '', '', '', '', '', ''),\n",
       " ('', '', '', '', '', '', '', '', '', ''),\n",
       " ('', '', '', '', '', '', '', '', '', ''),\n",
       " ('', '', '', '', '', '', '', '', '', ''),\n",
       " ('', '', '', '', '', '', '', '', '', ''),\n",
       " ('', '', '', '', '', '', '', '', '', ''),\n",
       " ('', '', '', '', '', '', '', '', '', ''),\n",
       " ('', '', '', '', '', '', '', '', '', ''),\n",
       " ('', '', '', '', '', '', '', '', '', '')]"
      ]
     },
     "execution_count": 20,
     "metadata": {},
     "output_type": "execute_result"
    }
   ],
   "source": [
    "n = 10\n",
    "ngram_x = padded.map(lambda x : split_into_ngrams(x, n))\n",
    "ngram_x[0]"
   ]
  },
  {
   "cell_type": "code",
   "execution_count": 21,
   "id": "bfbb6d40",
   "metadata": {
    "execution": {
     "iopub.execute_input": "2023-05-24T22:43:56.524331Z",
     "iopub.status.busy": "2023-05-24T22:43:56.523974Z",
     "iopub.status.idle": "2023-05-24T22:43:56.599955Z",
     "shell.execute_reply": "2023-05-24T22:43:56.598955Z"
    },
    "papermill": {
     "duration": 0.091533,
     "end_time": "2023-05-24T22:43:56.602108",
     "exception": false,
     "start_time": "2023-05-24T22:43:56.510575",
     "status": "completed"
    },
    "tags": []
   },
   "outputs": [
    {
     "data": {
      "text/plain": [
       "0       [(way, plug, us, unless, go, convert, , , , ),...\n",
       "1       [(good, case, excel, valu, , , , , , ), (case,...\n",
       "2       [(great, jawbon, , , , , , , , ), (jawbon, , ,...\n",
       "3       [(tie, charger, convers, last, , problem, , , ...\n",
       "4       [(mic, great, , , , , , , , ), (great, , , , ,...\n",
       "                              ...                        \n",
       "2995    [(think, food, flavor, textur, lack, , , , , )...\n",
       "2996    [(appetit, instantli, gone, , , , , , , ), (in...\n",
       "2997    [(overal, impress, would, go, back, , , , , ),...\n",
       "2998    [(whole, experi, underwhelm, think, well, go, ...\n",
       "2999    [(hadnt, wast, enough, life, pour, salt, wound...\n",
       "Name: sentance, Length: 3000, dtype: object"
      ]
     },
     "execution_count": 21,
     "metadata": {},
     "output_type": "execute_result"
    }
   ],
   "source": [
    "ngram_x"
   ]
  },
  {
   "cell_type": "code",
   "execution_count": 22,
   "id": "e03ee9e0",
   "metadata": {
    "execution": {
     "iopub.execute_input": "2023-05-24T22:43:56.629502Z",
     "iopub.status.busy": "2023-05-24T22:43:56.629152Z",
     "iopub.status.idle": "2023-05-24T22:44:10.776198Z",
     "shell.execute_reply": "2023-05-24T22:44:10.775092Z"
    },
    "papermill": {
     "duration": 14.164356,
     "end_time": "2023-05-24T22:44:10.779251",
     "exception": false,
     "start_time": "2023-05-24T22:43:56.614895",
     "status": "completed"
    },
    "tags": []
   },
   "outputs": [],
   "source": [
    "from keras.layers import TextVectorization\n",
    "import tensorflow as tf\n",
    "data_to_adapt = tf.constant(x)\n",
    "\n",
    "n = 5\n",
    "vectorizer = TextVectorization(output_mode='tf-idf', ngrams=5)\n",
    "vectorizer.adapt(data_to_adapt)"
   ]
  },
  {
   "cell_type": "code",
   "execution_count": 23,
   "id": "5f5b181e",
   "metadata": {
    "execution": {
     "iopub.execute_input": "2023-05-24T22:44:10.806165Z",
     "iopub.status.busy": "2023-05-24T22:44:10.805821Z",
     "iopub.status.idle": "2023-05-24T22:44:10.905468Z",
     "shell.execute_reply": "2023-05-24T22:44:10.904401Z"
    },
    "papermill": {
     "duration": 0.116139,
     "end_time": "2023-05-24T22:44:10.908227",
     "exception": false,
     "start_time": "2023-05-24T22:44:10.792088",
     "status": "completed"
    },
    "tags": []
   },
   "outputs": [
    {
     "data": {
      "text/plain": [
       "array([0., 0., 0., ..., 0., 0., 0.], dtype=float32)"
      ]
     },
     "execution_count": 23,
     "metadata": {},
     "output_type": "execute_result"
    }
   ],
   "source": [
    "vectorizer(x[0]).numpy()"
   ]
  },
  {
   "cell_type": "code",
   "execution_count": 24,
   "id": "58902b9d",
   "metadata": {
    "execution": {
     "iopub.execute_input": "2023-05-24T22:44:10.935728Z",
     "iopub.status.busy": "2023-05-24T22:44:10.935388Z",
     "iopub.status.idle": "2023-05-24T22:44:11.274683Z",
     "shell.execute_reply": "2023-05-24T22:44:11.273663Z"
    },
    "papermill": {
     "duration": 0.35575,
     "end_time": "2023-05-24T22:44:11.277643",
     "exception": false,
     "start_time": "2023-05-24T22:44:10.921893",
     "status": "completed"
    },
    "tags": []
   },
   "outputs": [
    {
     "data": {
      "image/png": "[encoded data removed]",
      "text/plain": [
       "<IPython.core.display.Image object>"
      ]
     },
     "execution_count": 24,
     "metadata": {},
     "output_type": "execute_result"
    }
   ],
   "source": [
    "from keras.layers import Input, Dropout, Dense, Activation\n",
    "from keras import Model\n",
    "from keras.utils import plot_model\n",
    "\n",
    "\n",
    "inputs = Input(shape=(vectorizer.vocabulary_size(), ))\n",
    "layer = Dense(4096, activation='relu')(inputs)\n",
    "layer = Dropout(0.5)(layer)\n",
    "layer = Dense(1024, activation='relu')(layer)\n",
    "layer = Dropout(0.5)(layer)\n",
    "layer = Dense(512, activation='relu')(layer)\n",
    "layer = Dropout(0.5)(layer)\n",
    "layer = Dense(128, activation='relu')(layer)\n",
    "layer = Dropout(0.5)(layer)\n",
    "layer = Dense(64, activation='relu')(layer)\n",
    "layer = Dropout(0.5)(layer)\n",
    "outputs = Dense(1, activation='sigmoid')(layer)\n",
    "\n",
    "model = Model(inputs, outputs)\n",
    "plot_model(model, show_shapes=True)"
   ]
  },
  {
   "cell_type": "code",
   "execution_count": 25,
   "id": "72462c23",
   "metadata": {
    "execution": {
     "iopub.execute_input": "2023-05-24T22:44:11.307269Z",
     "iopub.status.busy": "2023-05-24T22:44:11.306893Z",
     "iopub.status.idle": "2023-05-24T22:44:11.325420Z",
     "shell.execute_reply": "2023-05-24T22:44:11.324353Z"
    },
    "papermill": {
     "duration": 0.036045,
     "end_time": "2023-05-24T22:44:11.327787",
     "exception": false,
     "start_time": "2023-05-24T22:44:11.291742",
     "status": "completed"
    },
    "tags": []
   },
   "outputs": [],
   "source": [
    "from keras.optimizers import Adam\n",
    "model.compile(optimizer=Adam(learning_rate=0.001), loss='mse', metrics=['accuracy'])"
   ]
  },
  {
   "cell_type": "code",
   "execution_count": 26,
   "id": "7009f355",
   "metadata": {
    "execution": {
     "iopub.execute_input": "2023-05-24T22:44:11.360975Z",
     "iopub.status.busy": "2023-05-24T22:44:11.360619Z",
     "iopub.status.idle": "2023-05-24T22:45:00.527559Z",
     "shell.execute_reply": "2023-05-24T22:45:00.526437Z"
    },
    "papermill": {
     "duration": 49.188722,
     "end_time": "2023-05-24T22:45:00.530621",
     "exception": false,
     "start_time": "2023-05-24T22:44:11.341899",
     "status": "completed"
    },
    "tags": []
   },
   "outputs": [],
   "source": [
    "from sklearn.model_selection import train_test_split\n",
    "\n",
    "x = x.map(lambda x : vectorizer(x).numpy())"
   ]
  },
  {
   "cell_type": "code",
   "execution_count": 27,
   "id": "c45175e3",
   "metadata": {
    "execution": {
     "iopub.execute_input": "2023-05-24T22:45:00.562136Z",
     "iopub.status.busy": "2023-05-24T22:45:00.561757Z",
     "iopub.status.idle": "2023-05-24T22:45:01.208602Z",
     "shell.execute_reply": "2023-05-24T22:45:01.207541Z"
    },
    "papermill": {
     "duration": 0.665456,
     "end_time": "2023-05-24T22:45:01.211190",
     "exception": false,
     "start_time": "2023-05-24T22:45:00.545734",
     "status": "completed"
    },
    "tags": []
   },
   "outputs": [],
   "source": [
    "x = np.asarray([e.astype('float32') for e in x])"
   ]
  },
  {
   "cell_type": "code",
   "execution_count": 28,
   "id": "b0ae9099",
   "metadata": {
    "execution": {
     "iopub.execute_input": "2023-05-24T22:45:01.241456Z",
     "iopub.status.busy": "2023-05-24T22:45:01.241092Z",
     "iopub.status.idle": "2023-05-24T22:45:01.245927Z",
     "shell.execute_reply": "2023-05-24T22:45:01.244927Z"
    },
    "papermill": {
     "duration": 0.022296,
     "end_time": "2023-05-24T22:45:01.248013",
     "exception": false,
     "start_time": "2023-05-24T22:45:01.225717",
     "status": "completed"
    },
    "tags": []
   },
   "outputs": [],
   "source": [
    "y = np.asarray(y, dtype='float32')"
   ]
  },
  {
   "cell_type": "code",
   "execution_count": 29,
   "id": "6797773a",
   "metadata": {
    "execution": {
     "iopub.execute_input": "2023-05-24T22:45:01.277678Z",
     "iopub.status.busy": "2023-05-24T22:45:01.277333Z",
     "iopub.status.idle": "2023-05-24T22:45:01.568167Z",
     "shell.execute_reply": "2023-05-24T22:45:01.567111Z"
    },
    "papermill": {
     "duration": 0.308745,
     "end_time": "2023-05-24T22:45:01.570959",
     "exception": false,
     "start_time": "2023-05-24T22:45:01.262214",
     "status": "completed"
    },
    "tags": []
   },
   "outputs": [],
   "source": [
    "x_train, x_test, y_train, y_test = train_test_split(x, y, test_size=0.2, stratify=y, random_state=1234)\n",
    "x_train, x_val, y_train, y_val = train_test_split(x_train, y_train, test_size=0.2, random_state=1234)"
   ]
  },
  {
   "cell_type": "code",
   "execution_count": 30,
   "id": "641e5256",
   "metadata": {
    "execution": {
     "iopub.execute_input": "2023-05-24T22:45:01.601858Z",
     "iopub.status.busy": "2023-05-24T22:45:01.601511Z",
     "iopub.status.idle": "2023-05-24T22:46:25.008559Z",
     "shell.execute_reply": "2023-05-24T22:46:25.007356Z"
    },
    "papermill": {
     "duration": 83.489522,
     "end_time": "2023-05-24T22:46:25.075392",
     "exception": false,
     "start_time": "2023-05-24T22:45:01.585870",
     "status": "completed"
    },
    "tags": []
   },
   "outputs": [
    {
     "name": "stdout",
     "output_type": "stream",
     "text": [
      "Epoch 1/20\n",
      "60/60 [==============================] - 6s 52ms/step - loss: 0.2829 - accuracy: 0.5031 - val_loss: 0.2525 - val_accuracy: 0.5104\n",
      "Epoch 2/20\n",
      "60/60 [==============================] - 3s 45ms/step - loss: 0.2950 - accuracy: 0.5198 - val_loss: 0.2474 - val_accuracy: 0.5479\n",
      "Epoch 3/20\n",
      "60/60 [==============================] - 3s 45ms/step - loss: 0.2740 - accuracy: 0.5755 - val_loss: 0.2366 - val_accuracy: 0.6458\n",
      "Epoch 4/20\n",
      "60/60 [==============================] - 3s 45ms/step - loss: 0.1490 - accuracy: 0.8047 - val_loss: 0.1830 - val_accuracy: 0.7583\n",
      "Epoch 5/20\n",
      "60/60 [==============================] - 3s 45ms/step - loss: 0.0476 - accuracy: 0.9448 - val_loss: 0.1799 - val_accuracy: 0.7688\n",
      "Epoch 6/20\n",
      "60/60 [==============================] - 3s 45ms/step - loss: 0.0294 - accuracy: 0.9677 - val_loss: 0.2045 - val_accuracy: 0.7563\n",
      "Epoch 7/20\n",
      "60/60 [==============================] - 3s 45ms/step - loss: 0.0178 - accuracy: 0.9818 - val_loss: 0.1959 - val_accuracy: 0.7667\n",
      "Epoch 8/20\n",
      "60/60 [==============================] - 3s 45ms/step - loss: 0.0155 - accuracy: 0.9828 - val_loss: 0.1916 - val_accuracy: 0.7771\n",
      "Epoch 9/20\n",
      "60/60 [==============================] - 3s 45ms/step - loss: 0.0122 - accuracy: 0.9849 - val_loss: 0.2110 - val_accuracy: 0.7625\n",
      "Epoch 10/20\n",
      "60/60 [==============================] - 3s 45ms/step - loss: 0.0117 - accuracy: 0.9875 - val_loss: 0.1970 - val_accuracy: 0.7792\n",
      "Epoch 11/20\n",
      "60/60 [==============================] - 3s 45ms/step - loss: 0.0105 - accuracy: 0.9880 - val_loss: 0.2074 - val_accuracy: 0.7625\n",
      "Epoch 12/20\n",
      "60/60 [==============================] - 3s 45ms/step - loss: 0.0086 - accuracy: 0.9906 - val_loss: 0.2073 - val_accuracy: 0.7646\n",
      "Epoch 13/20\n",
      "60/60 [==============================] - 3s 48ms/step - loss: 0.0062 - accuracy: 0.9927 - val_loss: 0.2013 - val_accuracy: 0.7708\n",
      "Epoch 14/20\n",
      "60/60 [==============================] - 3s 45ms/step - loss: 0.0086 - accuracy: 0.9901 - val_loss: 0.2041 - val_accuracy: 0.7646\n",
      "Epoch 15/20\n",
      "60/60 [==============================] - 3s 45ms/step - loss: 0.0070 - accuracy: 0.9927 - val_loss: 0.2051 - val_accuracy: 0.7729\n",
      "Epoch 16/20\n",
      "60/60 [==============================] - 3s 45ms/step - loss: 0.0060 - accuracy: 0.9932 - val_loss: 0.2076 - val_accuracy: 0.7688\n",
      "Epoch 17/20\n",
      "60/60 [==============================] - 3s 45ms/step - loss: 0.0059 - accuracy: 0.9932 - val_loss: 0.2086 - val_accuracy: 0.7583\n",
      "Epoch 18/20\n",
      "60/60 [==============================] - 3s 45ms/step - loss: 0.0076 - accuracy: 0.9917 - val_loss: 0.2070 - val_accuracy: 0.7646\n",
      "Epoch 19/20\n",
      "60/60 [==============================] - 3s 45ms/step - loss: 0.0053 - accuracy: 0.9943 - val_loss: 0.2132 - val_accuracy: 0.7625\n",
      "Epoch 20/20\n",
      "60/60 [==============================] - 3s 45ms/step - loss: 0.0056 - accuracy: 0.9937 - val_loss: 0.2071 - val_accuracy: 0.7729\n"
     ]
    },
    {
     "data": {
      "text/plain": [
       "<keras.callbacks.History at 0x7e094c3ec910>"
      ]
     },
     "execution_count": 30,
     "metadata": {},
     "output_type": "execute_result"
    }
   ],
   "source": [
    "model.fit(x=x_train, y=y_train, validation_data=[x_val, y_val], epochs=20)"
   ]
  },
  {
   "cell_type": "code",
   "execution_count": 31,
   "id": "3348910a",
   "metadata": {
    "execution": {
     "iopub.execute_input": "2023-05-24T22:46:25.207161Z",
     "iopub.status.busy": "2023-05-24T22:46:25.206043Z",
     "iopub.status.idle": "2023-05-24T22:46:25.771043Z",
     "shell.execute_reply": "2023-05-24T22:46:25.770085Z"
    },
    "papermill": {
     "duration": 0.633274,
     "end_time": "2023-05-24T22:46:25.773512",
     "exception": false,
     "start_time": "2023-05-24T22:46:25.140238",
     "status": "completed"
    },
    "tags": []
   },
   "outputs": [
    {
     "name": "stdout",
     "output_type": "stream",
     "text": [
      "19/19 [==============================] - 0s 10ms/step - loss: 0.2227 - accuracy: 0.7617\n"
     ]
    },
    {
     "data": {
      "text/plain": [
       "[0.22274571657180786, 0.7616666555404663]"
      ]
     },
     "execution_count": 31,
     "metadata": {},
     "output_type": "execute_result"
    }
   ],
   "source": [
    "model.evaluate(x_test, y_test)"
   ]
  }
 ],
 "metadata": {
  "kernelspec": {
   "display_name": "Python 3",
   "language": "python",
   "name": "python3"
  },
  "language_info": {
   "codemirror_mode": {
    "name": "ipython",
    "version": 3
   },
   "file_extension": ".py",
   "mimetype": "text/x-python",
   "name": "python",
   "nbconvert_exporter": "python",
   "pygments_lexer": "ipython3",
   "version": "3.10.10"
  },
  "papermill": {
   "default_parameters": {},
   "duration": 364.183406,
   "end_time": "2023-05-24T22:46:28.916741",
   "environment_variables": {},
   "exception": null,
   "input_path": "__notebook__.ipynb",
   "output_path": "__notebook__.ipynb",
   "parameters": {},
   "start_time": "2023-05-24T22:40:24.733335",
   "version": "2.4.0"
  }
 },
 "nbformat": 4,
 "nbformat_minor": 5
}
